{
 "cells": [
  {
   "cell_type": "code",
   "execution_count": 461,
   "id": "bbfae1f6",
   "metadata": {},
   "outputs": [],
   "source": [
    "import pandas as pd\n",
    "import skbio\n",
    "import numpy as np\n",
    "import matplotlib.pyplot as plt\n",
    "\n",
    "import plotly.express as px\n"
   ]
  },
  {
   "cell_type": "code",
   "execution_count": 462,
   "id": "b3249f49",
   "metadata": {},
   "outputs": [],
   "source": [
    "ViralHosts = pd.read_csv('HostViralFinal.tsv', sep='\\t', index_col=0, dtype={'PROTISTS': 'int',\t'PROKARYOTES': 'int', 'INVERTEBRATES': 'int', 'VERTEBRATES': 'int', 'PLANTS':'int', 'FUNGI':'int',\t'VIROPHAGE': 'int'})\n",
    "viromeDF = pd.read_csv('final_virome_df.tsv', sep='\\t')\n",
    "readCounts = pd.read_csv('total_reads_kaiju.csv', names=['Reads', 'Run']).astype({'Reads': 'int', 'Run': 'str'})"
   ]
  },
  {
   "cell_type": "code",
   "execution_count": 463,
   "id": "e3967ffa",
   "metadata": {},
   "outputs": [],
   "source": [
    "noPhagesDF = ViralHosts.loc[((ViralHosts['PROKARYOTES'] == 1) & ((ViralHosts['VERTEBRATES'] == 1) | (ViralHosts['INVERTEBRATES'] == 1) | (ViralHosts['PROTISTS'] == 1) | (ViralHosts['PLANTS'] == 1) | (ViralHosts['FUNGI'] == 1))) |\\\n",
    "               ((ViralHosts['PROKARYOTES'] == 0) & ((ViralHosts['VERTEBRATES'] == 1) | (ViralHosts['INVERTEBRATES'] == 1) | (ViralHosts['PROTISTS'] == 1) | (ViralHosts['PLANTS'] == 1) | (ViralHosts['FUNGI'] == 1)))]\n",
    "noPhagesFamilies = noPhagesDF.index.tolist()\n",
    "    "
   ]
  },
  {
   "cell_type": "code",
   "execution_count": 464,
   "id": "d9c9535d",
   "metadata": {},
   "outputs": [],
   "source": [
    "statsDF = viromeDF[['species', 'Run'] + noPhagesFamilies].merge(readCounts, left_on='Run', right_on='Run').fillna(0).astype(int, errors='ignore')"
   ]
  },
  {
   "cell_type": "code",
   "execution_count": 465,
   "id": "103caf21",
   "metadata": {},
   "outputs": [],
   "source": [
    "statDF_T = statsDF[['Run'] + noPhagesFamilies].transpose()\n",
    "\n",
    "\n",
    "statDF_T.rename(columns=statDF_T.iloc[0], inplace=True)\n",
    "\n",
    "statDF_T.drop(statDF_T.index[0], inplace=True)\n",
    "runRichness = {}\n",
    "runShannon = {}\n",
    "for i in statDF_T.columns:\n",
    "    if sum(statDF_T[i].astype(int)) > 0:\n",
    "        \n",
    "        runRichness[i] = skbio.diversity.alpha.margalef(statDF_T[i].astype(int)).item()\n",
    "        runShannon[i] = skbio.diversity.alpha.shannon(statDF_T[i].astype(int), base=None, exp=False).item()\n",
    "\n",
    "\n",
    "runRichness = pd.DataFrame(runRichness, index=['Richness']).transpose()\n",
    "runShannon = pd.DataFrame(runShannon, index=['Shannon']).transpose()\n",
    "\n",
    "viromeDF = viromeDF.merge(runRichness, left_on='Run', right_index=True).merge(runShannon, left_on='Run', right_index=True)"
   ]
  },
  {
   "cell_type": "code",
   "execution_count": 466,
   "id": "fe81a7b0",
   "metadata": {},
   "outputs": [],
   "source": [
    "RhizocephalaRichness = viromeDF[viromeDF['infraclass'] == 'Rhizocephala']['Richness']\n",
    "RhizocephalShannon = viromeDF[viromeDF['infraclass'] == 'Rhizocephala']['Shannon']\n",
    "\n",
    "ThoracicaRichness = viromeDF[viromeDF['infraclass'] == 'Thoracica']['Richness']\n",
    "ThoracicaShannon = viromeDF[viromeDF['infraclass'] == 'Thoracica']['Shannon']\n"
   ]
  },
  {
   "cell_type": "code",
   "execution_count": 467,
   "id": "3c211357",
   "metadata": {},
   "outputs": [
    {
     "data": {
      "application/vnd.plotly.v1+json": {
       "config": {
        "plotlyServerURL": "https://plot.ly"
       },
       "data": [
        {
         "alignmentgroup": "True",
         "boxpoints": "all",
         "hovertemplate": "infraclass=%{x}<br>Shannon=%{y}<extra></extra>",
         "legendgroup": "Thoracica",
         "marker": {
          "color": "#636efa"
         },
         "name": "Thoracica",
         "notched": false,
         "offsetgroup": "Thoracica",
         "orientation": "v",
         "showlegend": true,
         "type": "box",
         "x": [
          "Thoracica",
          "Thoracica",
          "Thoracica",
          "Thoracica",
          "Thoracica",
          "Thoracica",
          "Thoracica",
          "Thoracica",
          "Thoracica",
          "Thoracica",
          "Thoracica",
          "Thoracica",
          "Thoracica",
          "Thoracica",
          "Thoracica",
          "Thoracica",
          "Thoracica",
          "Thoracica",
          "Thoracica",
          "Thoracica",
          "Thoracica",
          "Thoracica",
          "Thoracica",
          "Thoracica",
          "Thoracica"
         ],
         "x0": " ",
         "xaxis": "x",
         "y": {
          "bdata": "NDJLaoTz/D/AisO2sVL8P1HuTHEWqPs/ie6UYfSn+j8XF8vH1an6P8TVB6QPgv4/K6unPnBZ/z/bbKMq2WUAQKHFIAi7yv4/Cm+eaAcH/j9bMQP/W6z9P0SmZc13dABACejpZ+Wh/T90v5ZnypH/PxPYrrz10/w/FNnJF2TG/T8YRR9F2nL8P0QxMgjI3/0/gP9PvyiB/j9bHpUw1JH+PxHgymFvNQBAwSI+w2xQ/j8AW5P8F93+P/3CCSObfv8/2Biocx0o/T8=",
          "dtype": "f8"
         },
         "y0": " ",
         "yaxis": "y"
        },
        {
         "alignmentgroup": "True",
         "boxpoints": "all",
         "hovertemplate": "infraclass=%{x}<br>Shannon=%{y}<extra></extra>",
         "legendgroup": "Rhizocephala",
         "marker": {
          "color": "#EF553B"
         },
         "name": "Rhizocephala",
         "notched": false,
         "offsetgroup": "Rhizocephala",
         "orientation": "v",
         "showlegend": true,
         "type": "box",
         "x": [
          "Rhizocephala",
          "Rhizocephala",
          "Rhizocephala",
          "Rhizocephala",
          "Rhizocephala"
         ],
         "x0": " ",
         "xaxis": "x",
         "y": {
          "bdata": "iZDcYDoq/j9QqkvuxHIAQPKjIoSJlwFAW9s9G39SAEB+0hr3Vg34Pw==",
          "dtype": "f8"
         },
         "y0": " ",
         "yaxis": "y"
        }
       ],
       "layout": {
        "boxmode": "overlay",
        "legend": {
         "title": {
          "text": "infraclass"
         },
         "tracegroupgap": 0
        },
        "margin": {
         "t": 60
        },
        "template": {
         "data": {
          "bar": [
           {
            "error_x": {
             "color": "#2a3f5f"
            },
            "error_y": {
             "color": "#2a3f5f"
            },
            "marker": {
             "line": {
              "color": "#E5ECF6",
              "width": 0.5
             },
             "pattern": {
              "fillmode": "overlay",
              "size": 10,
              "solidity": 0.2
             }
            },
            "type": "bar"
           }
          ],
          "barpolar": [
           {
            "marker": {
             "line": {
              "color": "#E5ECF6",
              "width": 0.5
             },
             "pattern": {
              "fillmode": "overlay",
              "size": 10,
              "solidity": 0.2
             }
            },
            "type": "barpolar"
           }
          ],
          "carpet": [
           {
            "aaxis": {
             "endlinecolor": "#2a3f5f",
             "gridcolor": "white",
             "linecolor": "white",
             "minorgridcolor": "white",
             "startlinecolor": "#2a3f5f"
            },
            "baxis": {
             "endlinecolor": "#2a3f5f",
             "gridcolor": "white",
             "linecolor": "white",
             "minorgridcolor": "white",
             "startlinecolor": "#2a3f5f"
            },
            "type": "carpet"
           }
          ],
          "choropleth": [
           {
            "colorbar": {
             "outlinewidth": 0,
             "ticks": ""
            },
            "type": "choropleth"
           }
          ],
          "contour": [
           {
            "colorbar": {
             "outlinewidth": 0,
             "ticks": ""
            },
            "colorscale": [
             [
              0,
              "#0d0887"
             ],
             [
              0.1111111111111111,
              "#46039f"
             ],
             [
              0.2222222222222222,
              "#7201a8"
             ],
             [
              0.3333333333333333,
              "#9c179e"
             ],
             [
              0.4444444444444444,
              "#bd3786"
             ],
             [
              0.5555555555555556,
              "#d8576b"
             ],
             [
              0.6666666666666666,
              "#ed7953"
             ],
             [
              0.7777777777777778,
              "#fb9f3a"
             ],
             [
              0.8888888888888888,
              "#fdca26"
             ],
             [
              1,
              "#f0f921"
             ]
            ],
            "type": "contour"
           }
          ],
          "contourcarpet": [
           {
            "colorbar": {
             "outlinewidth": 0,
             "ticks": ""
            },
            "type": "contourcarpet"
           }
          ],
          "heatmap": [
           {
            "colorbar": {
             "outlinewidth": 0,
             "ticks": ""
            },
            "colorscale": [
             [
              0,
              "#0d0887"
             ],
             [
              0.1111111111111111,
              "#46039f"
             ],
             [
              0.2222222222222222,
              "#7201a8"
             ],
             [
              0.3333333333333333,
              "#9c179e"
             ],
             [
              0.4444444444444444,
              "#bd3786"
             ],
             [
              0.5555555555555556,
              "#d8576b"
             ],
             [
              0.6666666666666666,
              "#ed7953"
             ],
             [
              0.7777777777777778,
              "#fb9f3a"
             ],
             [
              0.8888888888888888,
              "#fdca26"
             ],
             [
              1,
              "#f0f921"
             ]
            ],
            "type": "heatmap"
           }
          ],
          "histogram": [
           {
            "marker": {
             "pattern": {
              "fillmode": "overlay",
              "size": 10,
              "solidity": 0.2
             }
            },
            "type": "histogram"
           }
          ],
          "histogram2d": [
           {
            "colorbar": {
             "outlinewidth": 0,
             "ticks": ""
            },
            "colorscale": [
             [
              0,
              "#0d0887"
             ],
             [
              0.1111111111111111,
              "#46039f"
             ],
             [
              0.2222222222222222,
              "#7201a8"
             ],
             [
              0.3333333333333333,
              "#9c179e"
             ],
             [
              0.4444444444444444,
              "#bd3786"
             ],
             [
              0.5555555555555556,
              "#d8576b"
             ],
             [
              0.6666666666666666,
              "#ed7953"
             ],
             [
              0.7777777777777778,
              "#fb9f3a"
             ],
             [
              0.8888888888888888,
              "#fdca26"
             ],
             [
              1,
              "#f0f921"
             ]
            ],
            "type": "histogram2d"
           }
          ],
          "histogram2dcontour": [
           {
            "colorbar": {
             "outlinewidth": 0,
             "ticks": ""
            },
            "colorscale": [
             [
              0,
              "#0d0887"
             ],
             [
              0.1111111111111111,
              "#46039f"
             ],
             [
              0.2222222222222222,
              "#7201a8"
             ],
             [
              0.3333333333333333,
              "#9c179e"
             ],
             [
              0.4444444444444444,
              "#bd3786"
             ],
             [
              0.5555555555555556,
              "#d8576b"
             ],
             [
              0.6666666666666666,
              "#ed7953"
             ],
             [
              0.7777777777777778,
              "#fb9f3a"
             ],
             [
              0.8888888888888888,
              "#fdca26"
             ],
             [
              1,
              "#f0f921"
             ]
            ],
            "type": "histogram2dcontour"
           }
          ],
          "mesh3d": [
           {
            "colorbar": {
             "outlinewidth": 0,
             "ticks": ""
            },
            "type": "mesh3d"
           }
          ],
          "parcoords": [
           {
            "line": {
             "colorbar": {
              "outlinewidth": 0,
              "ticks": ""
             }
            },
            "type": "parcoords"
           }
          ],
          "pie": [
           {
            "automargin": true,
            "type": "pie"
           }
          ],
          "scatter": [
           {
            "fillpattern": {
             "fillmode": "overlay",
             "size": 10,
             "solidity": 0.2
            },
            "type": "scatter"
           }
          ],
          "scatter3d": [
           {
            "line": {
             "colorbar": {
              "outlinewidth": 0,
              "ticks": ""
             }
            },
            "marker": {
             "colorbar": {
              "outlinewidth": 0,
              "ticks": ""
             }
            },
            "type": "scatter3d"
           }
          ],
          "scattercarpet": [
           {
            "marker": {
             "colorbar": {
              "outlinewidth": 0,
              "ticks": ""
             }
            },
            "type": "scattercarpet"
           }
          ],
          "scattergeo": [
           {
            "marker": {
             "colorbar": {
              "outlinewidth": 0,
              "ticks": ""
             }
            },
            "type": "scattergeo"
           }
          ],
          "scattergl": [
           {
            "marker": {
             "colorbar": {
              "outlinewidth": 0,
              "ticks": ""
             }
            },
            "type": "scattergl"
           }
          ],
          "scattermap": [
           {
            "marker": {
             "colorbar": {
              "outlinewidth": 0,
              "ticks": ""
             }
            },
            "type": "scattermap"
           }
          ],
          "scattermapbox": [
           {
            "marker": {
             "colorbar": {
              "outlinewidth": 0,
              "ticks": ""
             }
            },
            "type": "scattermapbox"
           }
          ],
          "scatterpolar": [
           {
            "marker": {
             "colorbar": {
              "outlinewidth": 0,
              "ticks": ""
             }
            },
            "type": "scatterpolar"
           }
          ],
          "scatterpolargl": [
           {
            "marker": {
             "colorbar": {
              "outlinewidth": 0,
              "ticks": ""
             }
            },
            "type": "scatterpolargl"
           }
          ],
          "scatterternary": [
           {
            "marker": {
             "colorbar": {
              "outlinewidth": 0,
              "ticks": ""
             }
            },
            "type": "scatterternary"
           }
          ],
          "surface": [
           {
            "colorbar": {
             "outlinewidth": 0,
             "ticks": ""
            },
            "colorscale": [
             [
              0,
              "#0d0887"
             ],
             [
              0.1111111111111111,
              "#46039f"
             ],
             [
              0.2222222222222222,
              "#7201a8"
             ],
             [
              0.3333333333333333,
              "#9c179e"
             ],
             [
              0.4444444444444444,
              "#bd3786"
             ],
             [
              0.5555555555555556,
              "#d8576b"
             ],
             [
              0.6666666666666666,
              "#ed7953"
             ],
             [
              0.7777777777777778,
              "#fb9f3a"
             ],
             [
              0.8888888888888888,
              "#fdca26"
             ],
             [
              1,
              "#f0f921"
             ]
            ],
            "type": "surface"
           }
          ],
          "table": [
           {
            "cells": {
             "fill": {
              "color": "#EBF0F8"
             },
             "line": {
              "color": "white"
             }
            },
            "header": {
             "fill": {
              "color": "#C8D4E3"
             },
             "line": {
              "color": "white"
             }
            },
            "type": "table"
           }
          ]
         },
         "layout": {
          "annotationdefaults": {
           "arrowcolor": "#2a3f5f",
           "arrowhead": 0,
           "arrowwidth": 1
          },
          "autotypenumbers": "strict",
          "coloraxis": {
           "colorbar": {
            "outlinewidth": 0,
            "ticks": ""
           }
          },
          "colorscale": {
           "diverging": [
            [
             0,
             "#8e0152"
            ],
            [
             0.1,
             "#c51b7d"
            ],
            [
             0.2,
             "#de77ae"
            ],
            [
             0.3,
             "#f1b6da"
            ],
            [
             0.4,
             "#fde0ef"
            ],
            [
             0.5,
             "#f7f7f7"
            ],
            [
             0.6,
             "#e6f5d0"
            ],
            [
             0.7,
             "#b8e186"
            ],
            [
             0.8,
             "#7fbc41"
            ],
            [
             0.9,
             "#4d9221"
            ],
            [
             1,
             "#276419"
            ]
           ],
           "sequential": [
            [
             0,
             "#0d0887"
            ],
            [
             0.1111111111111111,
             "#46039f"
            ],
            [
             0.2222222222222222,
             "#7201a8"
            ],
            [
             0.3333333333333333,
             "#9c179e"
            ],
            [
             0.4444444444444444,
             "#bd3786"
            ],
            [
             0.5555555555555556,
             "#d8576b"
            ],
            [
             0.6666666666666666,
             "#ed7953"
            ],
            [
             0.7777777777777778,
             "#fb9f3a"
            ],
            [
             0.8888888888888888,
             "#fdca26"
            ],
            [
             1,
             "#f0f921"
            ]
           ],
           "sequentialminus": [
            [
             0,
             "#0d0887"
            ],
            [
             0.1111111111111111,
             "#46039f"
            ],
            [
             0.2222222222222222,
             "#7201a8"
            ],
            [
             0.3333333333333333,
             "#9c179e"
            ],
            [
             0.4444444444444444,
             "#bd3786"
            ],
            [
             0.5555555555555556,
             "#d8576b"
            ],
            [
             0.6666666666666666,
             "#ed7953"
            ],
            [
             0.7777777777777778,
             "#fb9f3a"
            ],
            [
             0.8888888888888888,
             "#fdca26"
            ],
            [
             1,
             "#f0f921"
            ]
           ]
          },
          "colorway": [
           "#636efa",
           "#EF553B",
           "#00cc96",
           "#ab63fa",
           "#FFA15A",
           "#19d3f3",
           "#FF6692",
           "#B6E880",
           "#FF97FF",
           "#FECB52"
          ],
          "font": {
           "color": "#2a3f5f"
          },
          "geo": {
           "bgcolor": "white",
           "lakecolor": "white",
           "landcolor": "#E5ECF6",
           "showlakes": true,
           "showland": true,
           "subunitcolor": "white"
          },
          "hoverlabel": {
           "align": "left"
          },
          "hovermode": "closest",
          "mapbox": {
           "style": "light"
          },
          "paper_bgcolor": "white",
          "plot_bgcolor": "#E5ECF6",
          "polar": {
           "angularaxis": {
            "gridcolor": "white",
            "linecolor": "white",
            "ticks": ""
           },
           "bgcolor": "#E5ECF6",
           "radialaxis": {
            "gridcolor": "white",
            "linecolor": "white",
            "ticks": ""
           }
          },
          "scene": {
           "xaxis": {
            "backgroundcolor": "#E5ECF6",
            "gridcolor": "white",
            "gridwidth": 2,
            "linecolor": "white",
            "showbackground": true,
            "ticks": "",
            "zerolinecolor": "white"
           },
           "yaxis": {
            "backgroundcolor": "#E5ECF6",
            "gridcolor": "white",
            "gridwidth": 2,
            "linecolor": "white",
            "showbackground": true,
            "ticks": "",
            "zerolinecolor": "white"
           },
           "zaxis": {
            "backgroundcolor": "#E5ECF6",
            "gridcolor": "white",
            "gridwidth": 2,
            "linecolor": "white",
            "showbackground": true,
            "ticks": "",
            "zerolinecolor": "white"
           }
          },
          "shapedefaults": {
           "line": {
            "color": "#2a3f5f"
           }
          },
          "ternary": {
           "aaxis": {
            "gridcolor": "white",
            "linecolor": "white",
            "ticks": ""
           },
           "baxis": {
            "gridcolor": "white",
            "linecolor": "white",
            "ticks": ""
           },
           "bgcolor": "#E5ECF6",
           "caxis": {
            "gridcolor": "white",
            "linecolor": "white",
            "ticks": ""
           }
          },
          "title": {
           "x": 0.05
          },
          "xaxis": {
           "automargin": true,
           "gridcolor": "white",
           "linecolor": "white",
           "ticks": "",
           "title": {
            "standoff": 15
           },
           "zerolinecolor": "white",
           "zerolinewidth": 2
          },
          "yaxis": {
           "automargin": true,
           "gridcolor": "white",
           "linecolor": "white",
           "ticks": "",
           "title": {
            "standoff": 15
           },
           "zerolinecolor": "white",
           "zerolinewidth": 2
          }
         }
        },
        "xaxis": {
         "anchor": "y",
         "categoryarray": [
          "Thoracica",
          "Rhizocephala",
          null
         ],
         "categoryorder": "array",
         "domain": [
          0,
          1
         ],
         "title": {
          "text": "infraclass"
         }
        },
        "yaxis": {
         "anchor": "x",
         "domain": [
          0,
          1
         ],
         "title": {
          "text": "Shannon"
         }
        }
       }
      }
     },
     "metadata": {},
     "output_type": "display_data"
    }
   ],
   "source": [
    "fig = px.box(viromeDF, x='infraclass', y=\"Shannon\", color='infraclass', points='all',)\n",
    "fig.show()"
   ]
  },
  {
   "cell_type": "code",
   "execution_count": 468,
   "id": "a7008ff9",
   "metadata": {},
   "outputs": [
    {
     "data": {
      "application/vnd.plotly.v1+json": {
       "config": {
        "plotlyServerURL": "https://plot.ly"
       },
       "data": [
        {
         "alignmentgroup": "True",
         "boxpoints": "all",
         "hovertemplate": "infraclass=%{x}<br>Richness=%{y}<extra></extra>",
         "legendgroup": "Thoracica",
         "marker": {
          "color": "#636efa"
         },
         "name": "Thoracica",
         "notched": false,
         "offsetgroup": "Thoracica",
         "orientation": "v",
         "showlegend": true,
         "type": "box",
         "x": [
          "Thoracica",
          "Thoracica",
          "Thoracica",
          "Thoracica",
          "Thoracica",
          "Thoracica",
          "Thoracica",
          "Thoracica",
          "Thoracica",
          "Thoracica",
          "Thoracica",
          "Thoracica",
          "Thoracica",
          "Thoracica",
          "Thoracica",
          "Thoracica",
          "Thoracica",
          "Thoracica",
          "Thoracica",
          "Thoracica",
          "Thoracica",
          "Thoracica",
          "Thoracica",
          "Thoracica",
          "Thoracica"
         ],
         "x0": " ",
         "xaxis": "x",
         "y": {
          "bdata": "7yQacBh/D0DcFSkkDjgTQEvnkUSkjxRA/pdUXpMMD0BVvpI/YccVQHzH7zKxaA5ASU4ETUczFEA3NkRdCEoXQLLtcEZ7jRlAuw3ZTb8EF0BWLwCZSFAWQBpaA5BUDRJAsTjHVZwkE0ARZeHcR8IQQKNnT1ApxxNAUQex4h8jD0DSs8eLmNIGQHuAM/bgShFAjB+tjP+lEkDiO6PbqPkRQLKX53+h3xNAWR6yRQdOE0BwtclGy3YTQAE/C0zVSw9A8u9NdxWREUA=",
          "dtype": "f8"
         },
         "y0": " ",
         "yaxis": "y"
        },
        {
         "alignmentgroup": "True",
         "boxpoints": "all",
         "hovertemplate": "infraclass=%{x}<br>Richness=%{y}<extra></extra>",
         "legendgroup": "Rhizocephala",
         "marker": {
          "color": "#EF553B"
         },
         "name": "Rhizocephala",
         "notched": false,
         "offsetgroup": "Rhizocephala",
         "orientation": "v",
         "showlegend": true,
         "type": "box",
         "x": [
          "Rhizocephala",
          "Rhizocephala",
          "Rhizocephala",
          "Rhizocephala",
          "Rhizocephala"
         ],
         "x0": " ",
         "xaxis": "x",
         "y": {
          "bdata": "EnSKfmEkE0AV33vlndoOQOqICWsHgwlAwSjNhnSSE0DGJ109QncPQA==",
          "dtype": "f8"
         },
         "y0": " ",
         "yaxis": "y"
        }
       ],
       "layout": {
        "boxmode": "overlay",
        "legend": {
         "title": {
          "text": "infraclass"
         },
         "tracegroupgap": 0
        },
        "margin": {
         "t": 60
        },
        "template": {
         "data": {
          "bar": [
           {
            "error_x": {
             "color": "#2a3f5f"
            },
            "error_y": {
             "color": "#2a3f5f"
            },
            "marker": {
             "line": {
              "color": "#E5ECF6",
              "width": 0.5
             },
             "pattern": {
              "fillmode": "overlay",
              "size": 10,
              "solidity": 0.2
             }
            },
            "type": "bar"
           }
          ],
          "barpolar": [
           {
            "marker": {
             "line": {
              "color": "#E5ECF6",
              "width": 0.5
             },
             "pattern": {
              "fillmode": "overlay",
              "size": 10,
              "solidity": 0.2
             }
            },
            "type": "barpolar"
           }
          ],
          "carpet": [
           {
            "aaxis": {
             "endlinecolor": "#2a3f5f",
             "gridcolor": "white",
             "linecolor": "white",
             "minorgridcolor": "white",
             "startlinecolor": "#2a3f5f"
            },
            "baxis": {
             "endlinecolor": "#2a3f5f",
             "gridcolor": "white",
             "linecolor": "white",
             "minorgridcolor": "white",
             "startlinecolor": "#2a3f5f"
            },
            "type": "carpet"
           }
          ],
          "choropleth": [
           {
            "colorbar": {
             "outlinewidth": 0,
             "ticks": ""
            },
            "type": "choropleth"
           }
          ],
          "contour": [
           {
            "colorbar": {
             "outlinewidth": 0,
             "ticks": ""
            },
            "colorscale": [
             [
              0,
              "#0d0887"
             ],
             [
              0.1111111111111111,
              "#46039f"
             ],
             [
              0.2222222222222222,
              "#7201a8"
             ],
             [
              0.3333333333333333,
              "#9c179e"
             ],
             [
              0.4444444444444444,
              "#bd3786"
             ],
             [
              0.5555555555555556,
              "#d8576b"
             ],
             [
              0.6666666666666666,
              "#ed7953"
             ],
             [
              0.7777777777777778,
              "#fb9f3a"
             ],
             [
              0.8888888888888888,
              "#fdca26"
             ],
             [
              1,
              "#f0f921"
             ]
            ],
            "type": "contour"
           }
          ],
          "contourcarpet": [
           {
            "colorbar": {
             "outlinewidth": 0,
             "ticks": ""
            },
            "type": "contourcarpet"
           }
          ],
          "heatmap": [
           {
            "colorbar": {
             "outlinewidth": 0,
             "ticks": ""
            },
            "colorscale": [
             [
              0,
              "#0d0887"
             ],
             [
              0.1111111111111111,
              "#46039f"
             ],
             [
              0.2222222222222222,
              "#7201a8"
             ],
             [
              0.3333333333333333,
              "#9c179e"
             ],
             [
              0.4444444444444444,
              "#bd3786"
             ],
             [
              0.5555555555555556,
              "#d8576b"
             ],
             [
              0.6666666666666666,
              "#ed7953"
             ],
             [
              0.7777777777777778,
              "#fb9f3a"
             ],
             [
              0.8888888888888888,
              "#fdca26"
             ],
             [
              1,
              "#f0f921"
             ]
            ],
            "type": "heatmap"
           }
          ],
          "histogram": [
           {
            "marker": {
             "pattern": {
              "fillmode": "overlay",
              "size": 10,
              "solidity": 0.2
             }
            },
            "type": "histogram"
           }
          ],
          "histogram2d": [
           {
            "colorbar": {
             "outlinewidth": 0,
             "ticks": ""
            },
            "colorscale": [
             [
              0,
              "#0d0887"
             ],
             [
              0.1111111111111111,
              "#46039f"
             ],
             [
              0.2222222222222222,
              "#7201a8"
             ],
             [
              0.3333333333333333,
              "#9c179e"
             ],
             [
              0.4444444444444444,
              "#bd3786"
             ],
             [
              0.5555555555555556,
              "#d8576b"
             ],
             [
              0.6666666666666666,
              "#ed7953"
             ],
             [
              0.7777777777777778,
              "#fb9f3a"
             ],
             [
              0.8888888888888888,
              "#fdca26"
             ],
             [
              1,
              "#f0f921"
             ]
            ],
            "type": "histogram2d"
           }
          ],
          "histogram2dcontour": [
           {
            "colorbar": {
             "outlinewidth": 0,
             "ticks": ""
            },
            "colorscale": [
             [
              0,
              "#0d0887"
             ],
             [
              0.1111111111111111,
              "#46039f"
             ],
             [
              0.2222222222222222,
              "#7201a8"
             ],
             [
              0.3333333333333333,
              "#9c179e"
             ],
             [
              0.4444444444444444,
              "#bd3786"
             ],
             [
              0.5555555555555556,
              "#d8576b"
             ],
             [
              0.6666666666666666,
              "#ed7953"
             ],
             [
              0.7777777777777778,
              "#fb9f3a"
             ],
             [
              0.8888888888888888,
              "#fdca26"
             ],
             [
              1,
              "#f0f921"
             ]
            ],
            "type": "histogram2dcontour"
           }
          ],
          "mesh3d": [
           {
            "colorbar": {
             "outlinewidth": 0,
             "ticks": ""
            },
            "type": "mesh3d"
           }
          ],
          "parcoords": [
           {
            "line": {
             "colorbar": {
              "outlinewidth": 0,
              "ticks": ""
             }
            },
            "type": "parcoords"
           }
          ],
          "pie": [
           {
            "automargin": true,
            "type": "pie"
           }
          ],
          "scatter": [
           {
            "fillpattern": {
             "fillmode": "overlay",
             "size": 10,
             "solidity": 0.2
            },
            "type": "scatter"
           }
          ],
          "scatter3d": [
           {
            "line": {
             "colorbar": {
              "outlinewidth": 0,
              "ticks": ""
             }
            },
            "marker": {
             "colorbar": {
              "outlinewidth": 0,
              "ticks": ""
             }
            },
            "type": "scatter3d"
           }
          ],
          "scattercarpet": [
           {
            "marker": {
             "colorbar": {
              "outlinewidth": 0,
              "ticks": ""
             }
            },
            "type": "scattercarpet"
           }
          ],
          "scattergeo": [
           {
            "marker": {
             "colorbar": {
              "outlinewidth": 0,
              "ticks": ""
             }
            },
            "type": "scattergeo"
           }
          ],
          "scattergl": [
           {
            "marker": {
             "colorbar": {
              "outlinewidth": 0,
              "ticks": ""
             }
            },
            "type": "scattergl"
           }
          ],
          "scattermap": [
           {
            "marker": {
             "colorbar": {
              "outlinewidth": 0,
              "ticks": ""
             }
            },
            "type": "scattermap"
           }
          ],
          "scattermapbox": [
           {
            "marker": {
             "colorbar": {
              "outlinewidth": 0,
              "ticks": ""
             }
            },
            "type": "scattermapbox"
           }
          ],
          "scatterpolar": [
           {
            "marker": {
             "colorbar": {
              "outlinewidth": 0,
              "ticks": ""
             }
            },
            "type": "scatterpolar"
           }
          ],
          "scatterpolargl": [
           {
            "marker": {
             "colorbar": {
              "outlinewidth": 0,
              "ticks": ""
             }
            },
            "type": "scatterpolargl"
           }
          ],
          "scatterternary": [
           {
            "marker": {
             "colorbar": {
              "outlinewidth": 0,
              "ticks": ""
             }
            },
            "type": "scatterternary"
           }
          ],
          "surface": [
           {
            "colorbar": {
             "outlinewidth": 0,
             "ticks": ""
            },
            "colorscale": [
             [
              0,
              "#0d0887"
             ],
             [
              0.1111111111111111,
              "#46039f"
             ],
             [
              0.2222222222222222,
              "#7201a8"
             ],
             [
              0.3333333333333333,
              "#9c179e"
             ],
             [
              0.4444444444444444,
              "#bd3786"
             ],
             [
              0.5555555555555556,
              "#d8576b"
             ],
             [
              0.6666666666666666,
              "#ed7953"
             ],
             [
              0.7777777777777778,
              "#fb9f3a"
             ],
             [
              0.8888888888888888,
              "#fdca26"
             ],
             [
              1,
              "#f0f921"
             ]
            ],
            "type": "surface"
           }
          ],
          "table": [
           {
            "cells": {
             "fill": {
              "color": "#EBF0F8"
             },
             "line": {
              "color": "white"
             }
            },
            "header": {
             "fill": {
              "color": "#C8D4E3"
             },
             "line": {
              "color": "white"
             }
            },
            "type": "table"
           }
          ]
         },
         "layout": {
          "annotationdefaults": {
           "arrowcolor": "#2a3f5f",
           "arrowhead": 0,
           "arrowwidth": 1
          },
          "autotypenumbers": "strict",
          "coloraxis": {
           "colorbar": {
            "outlinewidth": 0,
            "ticks": ""
           }
          },
          "colorscale": {
           "diverging": [
            [
             0,
             "#8e0152"
            ],
            [
             0.1,
             "#c51b7d"
            ],
            [
             0.2,
             "#de77ae"
            ],
            [
             0.3,
             "#f1b6da"
            ],
            [
             0.4,
             "#fde0ef"
            ],
            [
             0.5,
             "#f7f7f7"
            ],
            [
             0.6,
             "#e6f5d0"
            ],
            [
             0.7,
             "#b8e186"
            ],
            [
             0.8,
             "#7fbc41"
            ],
            [
             0.9,
             "#4d9221"
            ],
            [
             1,
             "#276419"
            ]
           ],
           "sequential": [
            [
             0,
             "#0d0887"
            ],
            [
             0.1111111111111111,
             "#46039f"
            ],
            [
             0.2222222222222222,
             "#7201a8"
            ],
            [
             0.3333333333333333,
             "#9c179e"
            ],
            [
             0.4444444444444444,
             "#bd3786"
            ],
            [
             0.5555555555555556,
             "#d8576b"
            ],
            [
             0.6666666666666666,
             "#ed7953"
            ],
            [
             0.7777777777777778,
             "#fb9f3a"
            ],
            [
             0.8888888888888888,
             "#fdca26"
            ],
            [
             1,
             "#f0f921"
            ]
           ],
           "sequentialminus": [
            [
             0,
             "#0d0887"
            ],
            [
             0.1111111111111111,
             "#46039f"
            ],
            [
             0.2222222222222222,
             "#7201a8"
            ],
            [
             0.3333333333333333,
             "#9c179e"
            ],
            [
             0.4444444444444444,
             "#bd3786"
            ],
            [
             0.5555555555555556,
             "#d8576b"
            ],
            [
             0.6666666666666666,
             "#ed7953"
            ],
            [
             0.7777777777777778,
             "#fb9f3a"
            ],
            [
             0.8888888888888888,
             "#fdca26"
            ],
            [
             1,
             "#f0f921"
            ]
           ]
          },
          "colorway": [
           "#636efa",
           "#EF553B",
           "#00cc96",
           "#ab63fa",
           "#FFA15A",
           "#19d3f3",
           "#FF6692",
           "#B6E880",
           "#FF97FF",
           "#FECB52"
          ],
          "font": {
           "color": "#2a3f5f"
          },
          "geo": {
           "bgcolor": "white",
           "lakecolor": "white",
           "landcolor": "#E5ECF6",
           "showlakes": true,
           "showland": true,
           "subunitcolor": "white"
          },
          "hoverlabel": {
           "align": "left"
          },
          "hovermode": "closest",
          "mapbox": {
           "style": "light"
          },
          "paper_bgcolor": "white",
          "plot_bgcolor": "#E5ECF6",
          "polar": {
           "angularaxis": {
            "gridcolor": "white",
            "linecolor": "white",
            "ticks": ""
           },
           "bgcolor": "#E5ECF6",
           "radialaxis": {
            "gridcolor": "white",
            "linecolor": "white",
            "ticks": ""
           }
          },
          "scene": {
           "xaxis": {
            "backgroundcolor": "#E5ECF6",
            "gridcolor": "white",
            "gridwidth": 2,
            "linecolor": "white",
            "showbackground": true,
            "ticks": "",
            "zerolinecolor": "white"
           },
           "yaxis": {
            "backgroundcolor": "#E5ECF6",
            "gridcolor": "white",
            "gridwidth": 2,
            "linecolor": "white",
            "showbackground": true,
            "ticks": "",
            "zerolinecolor": "white"
           },
           "zaxis": {
            "backgroundcolor": "#E5ECF6",
            "gridcolor": "white",
            "gridwidth": 2,
            "linecolor": "white",
            "showbackground": true,
            "ticks": "",
            "zerolinecolor": "white"
           }
          },
          "shapedefaults": {
           "line": {
            "color": "#2a3f5f"
           }
          },
          "ternary": {
           "aaxis": {
            "gridcolor": "white",
            "linecolor": "white",
            "ticks": ""
           },
           "baxis": {
            "gridcolor": "white",
            "linecolor": "white",
            "ticks": ""
           },
           "bgcolor": "#E5ECF6",
           "caxis": {
            "gridcolor": "white",
            "linecolor": "white",
            "ticks": ""
           }
          },
          "title": {
           "x": 0.05
          },
          "xaxis": {
           "automargin": true,
           "gridcolor": "white",
           "linecolor": "white",
           "ticks": "",
           "title": {
            "standoff": 15
           },
           "zerolinecolor": "white",
           "zerolinewidth": 2
          },
          "yaxis": {
           "automargin": true,
           "gridcolor": "white",
           "linecolor": "white",
           "ticks": "",
           "title": {
            "standoff": 15
           },
           "zerolinecolor": "white",
           "zerolinewidth": 2
          }
         }
        },
        "xaxis": {
         "anchor": "y",
         "categoryarray": [
          "Thoracica",
          "Rhizocephala",
          null
         ],
         "categoryorder": "array",
         "domain": [
          0,
          1
         ],
         "title": {
          "text": "infraclass"
         }
        },
        "yaxis": {
         "anchor": "x",
         "domain": [
          0,
          1
         ],
         "title": {
          "text": "Richness"
         }
        }
       }
      }
     },
     "metadata": {},
     "output_type": "display_data"
    }
   ],
   "source": [
    "fig = px.box(viromeDF, x='infraclass', y=\"Richness\", color='infraclass', points='all',)\n",
    "fig.show()"
   ]
  },
  {
   "cell_type": "code",
   "execution_count": null,
   "id": "522b4ca1",
   "metadata": {},
   "outputs": [],
   "source": []
  },
  {
   "cell_type": "code",
   "execution_count": 469,
   "id": "ddddddc5",
   "metadata": {},
   "outputs": [
    {
     "data": {
      "text/html": [
       "<div>\n",
       "<style scoped>\n",
       "    .dataframe tbody tr th:only-of-type {\n",
       "        vertical-align: middle;\n",
       "    }\n",
       "\n",
       "    .dataframe tbody tr th {\n",
       "        vertical-align: top;\n",
       "    }\n",
       "\n",
       "    .dataframe thead th {\n",
       "        text-align: right;\n",
       "    }\n",
       "</style>\n",
       "<table border=\"1\" class=\"dataframe\">\n",
       "  <thead>\n",
       "    <tr style=\"text-align: right;\">\n",
       "      <th></th>\n",
       "      <th>W</th>\n",
       "      <th>pval</th>\n",
       "      <th>equal_var</th>\n",
       "    </tr>\n",
       "  </thead>\n",
       "  <tbody>\n",
       "    <tr>\n",
       "      <th>levene</th>\n",
       "      <td>3.454949</td>\n",
       "      <td>0.073604</td>\n",
       "      <td>True</td>\n",
       "    </tr>\n",
       "  </tbody>\n",
       "</table>\n",
       "</div>"
      ],
      "text/plain": [
       "               W      pval  equal_var\n",
       "levene  3.454949  0.073604       True"
      ]
     },
     "execution_count": 469,
     "metadata": {},
     "output_type": "execute_result"
    }
   ],
   "source": [
    "\n",
    "import pingouin as pg\n",
    "\n",
    "\n",
    "hmos = pg.homoscedasticity(viromeDF, dv='Shannon', group='infraclass', method='levene', alpha=0.05)\n",
    "hmos\n"
   ]
  },
  {
   "cell_type": "code",
   "execution_count": 470,
   "id": "a7146827",
   "metadata": {},
   "outputs": [
    {
     "data": {
      "text/html": [
       "<div>\n",
       "<style scoped>\n",
       "    .dataframe tbody tr th:only-of-type {\n",
       "        vertical-align: middle;\n",
       "    }\n",
       "\n",
       "    .dataframe tbody tr th {\n",
       "        vertical-align: top;\n",
       "    }\n",
       "\n",
       "    .dataframe thead th {\n",
       "        text-align: right;\n",
       "    }\n",
       "</style>\n",
       "<table border=\"1\" class=\"dataframe\">\n",
       "  <thead>\n",
       "    <tr style=\"text-align: right;\">\n",
       "      <th></th>\n",
       "      <th>Source</th>\n",
       "      <th>ddof1</th>\n",
       "      <th>ddof2</th>\n",
       "      <th>F</th>\n",
       "      <th>p-unc</th>\n",
       "      <th>np2</th>\n",
       "    </tr>\n",
       "  </thead>\n",
       "  <tbody>\n",
       "    <tr>\n",
       "      <th>0</th>\n",
       "      <td>infraclass</td>\n",
       "      <td>1</td>\n",
       "      <td>28</td>\n",
       "      <td>0.828945</td>\n",
       "      <td>0.370349</td>\n",
       "      <td>0.028754</td>\n",
       "    </tr>\n",
       "  </tbody>\n",
       "</table>\n",
       "</div>"
      ],
      "text/plain": [
       "       Source  ddof1  ddof2         F     p-unc       np2\n",
       "0  infraclass      1     28  0.828945  0.370349  0.028754"
      ]
     },
     "execution_count": 470,
     "metadata": {},
     "output_type": "execute_result"
    }
   ],
   "source": [
    "aov = pg.anova(dv='Shannon', between='infraclass', data=viromeDF)\n",
    "aov"
   ]
  },
  {
   "cell_type": "code",
   "execution_count": 471,
   "id": "1af3d276",
   "metadata": {},
   "outputs": [
    {
     "data": {
      "text/html": [
       "<div>\n",
       "<style scoped>\n",
       "    .dataframe tbody tr th:only-of-type {\n",
       "        vertical-align: middle;\n",
       "    }\n",
       "\n",
       "    .dataframe tbody tr th {\n",
       "        vertical-align: top;\n",
       "    }\n",
       "\n",
       "    .dataframe thead th {\n",
       "        text-align: right;\n",
       "    }\n",
       "</style>\n",
       "<table border=\"1\" class=\"dataframe\">\n",
       "  <thead>\n",
       "    <tr style=\"text-align: right;\">\n",
       "      <th></th>\n",
       "      <th>Artiviridae</th>\n",
       "      <th>Retroviridae</th>\n",
       "      <th>Iridoviridae</th>\n",
       "      <th>Nimaviridae</th>\n",
       "      <th>Hepadnaviridae</th>\n",
       "      <th>Papillomaviridae</th>\n",
       "      <th>Polydnaviriformidae</th>\n",
       "      <th>Nairoviridae</th>\n",
       "      <th>Tombusviridae</th>\n",
       "      <th>Orthoherpesviridae</th>\n",
       "      <th>...</th>\n",
       "      <th>Bidnaviridae</th>\n",
       "      <th>Kolmioviridae</th>\n",
       "      <th>Alternaviridae</th>\n",
       "      <th>Alvernaviridae</th>\n",
       "      <th>Partitiviridae</th>\n",
       "      <th>Cremegaviridae</th>\n",
       "      <th>Tospoviridae</th>\n",
       "      <th>Megabirnaviridae</th>\n",
       "      <th>Mayoviridae</th>\n",
       "      <th>Aspiviridae</th>\n",
       "    </tr>\n",
       "  </thead>\n",
       "  <tbody>\n",
       "    <tr>\n",
       "      <th>DRR277134</th>\n",
       "      <td>0</td>\n",
       "      <td>14455</td>\n",
       "      <td>5997</td>\n",
       "      <td>63</td>\n",
       "      <td>1</td>\n",
       "      <td>328</td>\n",
       "      <td>7963</td>\n",
       "      <td>857</td>\n",
       "      <td>0</td>\n",
       "      <td>1287</td>\n",
       "      <td>...</td>\n",
       "      <td>0</td>\n",
       "      <td>0</td>\n",
       "      <td>0</td>\n",
       "      <td>0</td>\n",
       "      <td>0</td>\n",
       "      <td>0</td>\n",
       "      <td>0</td>\n",
       "      <td>0</td>\n",
       "      <td>0</td>\n",
       "      <td>1</td>\n",
       "    </tr>\n",
       "    <tr>\n",
       "      <th>DRR311751</th>\n",
       "      <td>0</td>\n",
       "      <td>3919</td>\n",
       "      <td>1797</td>\n",
       "      <td>231</td>\n",
       "      <td>0</td>\n",
       "      <td>12</td>\n",
       "      <td>2480</td>\n",
       "      <td>223</td>\n",
       "      <td>5</td>\n",
       "      <td>1161</td>\n",
       "      <td>...</td>\n",
       "      <td>0</td>\n",
       "      <td>0</td>\n",
       "      <td>0</td>\n",
       "      <td>0</td>\n",
       "      <td>0</td>\n",
       "      <td>0</td>\n",
       "      <td>0</td>\n",
       "      <td>0</td>\n",
       "      <td>0</td>\n",
       "      <td>0</td>\n",
       "    </tr>\n",
       "    <tr>\n",
       "      <th>DRR345795</th>\n",
       "      <td>5</td>\n",
       "      <td>1448</td>\n",
       "      <td>1876</td>\n",
       "      <td>43</td>\n",
       "      <td>4</td>\n",
       "      <td>17</td>\n",
       "      <td>1062</td>\n",
       "      <td>136</td>\n",
       "      <td>1</td>\n",
       "      <td>322</td>\n",
       "      <td>...</td>\n",
       "      <td>0</td>\n",
       "      <td>0</td>\n",
       "      <td>22</td>\n",
       "      <td>0</td>\n",
       "      <td>0</td>\n",
       "      <td>0</td>\n",
       "      <td>0</td>\n",
       "      <td>0</td>\n",
       "      <td>0</td>\n",
       "      <td>0</td>\n",
       "    </tr>\n",
       "    <tr>\n",
       "      <th>SRR426837</th>\n",
       "      <td>0</td>\n",
       "      <td>0</td>\n",
       "      <td>0</td>\n",
       "      <td>0</td>\n",
       "      <td>0</td>\n",
       "      <td>0</td>\n",
       "      <td>0</td>\n",
       "      <td>0</td>\n",
       "      <td>0</td>\n",
       "      <td>0</td>\n",
       "      <td>...</td>\n",
       "      <td>0</td>\n",
       "      <td>0</td>\n",
       "      <td>0</td>\n",
       "      <td>0</td>\n",
       "      <td>0</td>\n",
       "      <td>0</td>\n",
       "      <td>0</td>\n",
       "      <td>0</td>\n",
       "      <td>0</td>\n",
       "      <td>0</td>\n",
       "    </tr>\n",
       "    <tr>\n",
       "      <th>SRR2921281</th>\n",
       "      <td>0</td>\n",
       "      <td>0</td>\n",
       "      <td>0</td>\n",
       "      <td>0</td>\n",
       "      <td>0</td>\n",
       "      <td>0</td>\n",
       "      <td>0</td>\n",
       "      <td>0</td>\n",
       "      <td>0</td>\n",
       "      <td>0</td>\n",
       "      <td>...</td>\n",
       "      <td>0</td>\n",
       "      <td>0</td>\n",
       "      <td>0</td>\n",
       "      <td>0</td>\n",
       "      <td>0</td>\n",
       "      <td>0</td>\n",
       "      <td>0</td>\n",
       "      <td>0</td>\n",
       "      <td>0</td>\n",
       "      <td>0</td>\n",
       "    </tr>\n",
       "    <tr>\n",
       "      <th>SRR4113502</th>\n",
       "      <td>7</td>\n",
       "      <td>1123</td>\n",
       "      <td>1681</td>\n",
       "      <td>24</td>\n",
       "      <td>36</td>\n",
       "      <td>34</td>\n",
       "      <td>979</td>\n",
       "      <td>50</td>\n",
       "      <td>1</td>\n",
       "      <td>565</td>\n",
       "      <td>...</td>\n",
       "      <td>0</td>\n",
       "      <td>0</td>\n",
       "      <td>0</td>\n",
       "      <td>0</td>\n",
       "      <td>0</td>\n",
       "      <td>0</td>\n",
       "      <td>0</td>\n",
       "      <td>0</td>\n",
       "      <td>0</td>\n",
       "      <td>0</td>\n",
       "    </tr>\n",
       "    <tr>\n",
       "      <th>SRR5140130</th>\n",
       "      <td>0</td>\n",
       "      <td>2583</td>\n",
       "      <td>752</td>\n",
       "      <td>2</td>\n",
       "      <td>2</td>\n",
       "      <td>16</td>\n",
       "      <td>1501</td>\n",
       "      <td>69</td>\n",
       "      <td>0</td>\n",
       "      <td>363</td>\n",
       "      <td>...</td>\n",
       "      <td>0</td>\n",
       "      <td>0</td>\n",
       "      <td>0</td>\n",
       "      <td>0</td>\n",
       "      <td>0</td>\n",
       "      <td>0</td>\n",
       "      <td>0</td>\n",
       "      <td>0</td>\n",
       "      <td>0</td>\n",
       "      <td>0</td>\n",
       "    </tr>\n",
       "    <tr>\n",
       "      <th>SRR5140107</th>\n",
       "      <td>0</td>\n",
       "      <td>196</td>\n",
       "      <td>149</td>\n",
       "      <td>0</td>\n",
       "      <td>0</td>\n",
       "      <td>18</td>\n",
       "      <td>266</td>\n",
       "      <td>19</td>\n",
       "      <td>0</td>\n",
       "      <td>66</td>\n",
       "      <td>...</td>\n",
       "      <td>0</td>\n",
       "      <td>0</td>\n",
       "      <td>0</td>\n",
       "      <td>0</td>\n",
       "      <td>0</td>\n",
       "      <td>0</td>\n",
       "      <td>0</td>\n",
       "      <td>0</td>\n",
       "      <td>0</td>\n",
       "      <td>0</td>\n",
       "    </tr>\n",
       "    <tr>\n",
       "      <th>SRR5140144</th>\n",
       "      <td>0</td>\n",
       "      <td>951</td>\n",
       "      <td>1838</td>\n",
       "      <td>14</td>\n",
       "      <td>141</td>\n",
       "      <td>6</td>\n",
       "      <td>963</td>\n",
       "      <td>174</td>\n",
       "      <td>0</td>\n",
       "      <td>839</td>\n",
       "      <td>...</td>\n",
       "      <td>0</td>\n",
       "      <td>0</td>\n",
       "      <td>0</td>\n",
       "      <td>0</td>\n",
       "      <td>0</td>\n",
       "      <td>0</td>\n",
       "      <td>3</td>\n",
       "      <td>1</td>\n",
       "      <td>0</td>\n",
       "      <td>0</td>\n",
       "    </tr>\n",
       "    <tr>\n",
       "      <th>SRR5198727</th>\n",
       "      <td>0</td>\n",
       "      <td>6022</td>\n",
       "      <td>3899</td>\n",
       "      <td>96</td>\n",
       "      <td>0</td>\n",
       "      <td>3</td>\n",
       "      <td>1039</td>\n",
       "      <td>181</td>\n",
       "      <td>0</td>\n",
       "      <td>5065</td>\n",
       "      <td>...</td>\n",
       "      <td>0</td>\n",
       "      <td>0</td>\n",
       "      <td>0</td>\n",
       "      <td>0</td>\n",
       "      <td>0</td>\n",
       "      <td>0</td>\n",
       "      <td>0</td>\n",
       "      <td>0</td>\n",
       "      <td>0</td>\n",
       "      <td>0</td>\n",
       "    </tr>\n",
       "    <tr>\n",
       "      <th>SRR5832119</th>\n",
       "      <td>0</td>\n",
       "      <td>4030</td>\n",
       "      <td>1009</td>\n",
       "      <td>11</td>\n",
       "      <td>0</td>\n",
       "      <td>0</td>\n",
       "      <td>2081</td>\n",
       "      <td>63</td>\n",
       "      <td>1</td>\n",
       "      <td>1022</td>\n",
       "      <td>...</td>\n",
       "      <td>0</td>\n",
       "      <td>0</td>\n",
       "      <td>0</td>\n",
       "      <td>0</td>\n",
       "      <td>0</td>\n",
       "      <td>0</td>\n",
       "      <td>0</td>\n",
       "      <td>0</td>\n",
       "      <td>1</td>\n",
       "      <td>0</td>\n",
       "    </tr>\n",
       "    <tr>\n",
       "      <th>SRR6327827</th>\n",
       "      <td>0</td>\n",
       "      <td>11723</td>\n",
       "      <td>7029</td>\n",
       "      <td>106</td>\n",
       "      <td>6</td>\n",
       "      <td>629</td>\n",
       "      <td>2798</td>\n",
       "      <td>247</td>\n",
       "      <td>93</td>\n",
       "      <td>1371</td>\n",
       "      <td>...</td>\n",
       "      <td>0</td>\n",
       "      <td>0</td>\n",
       "      <td>0</td>\n",
       "      <td>0</td>\n",
       "      <td>0</td>\n",
       "      <td>0</td>\n",
       "      <td>0</td>\n",
       "      <td>0</td>\n",
       "      <td>0</td>\n",
       "      <td>0</td>\n",
       "    </tr>\n",
       "    <tr>\n",
       "      <th>SRR6516776</th>\n",
       "      <td>0</td>\n",
       "      <td>0</td>\n",
       "      <td>0</td>\n",
       "      <td>0</td>\n",
       "      <td>0</td>\n",
       "      <td>0</td>\n",
       "      <td>0</td>\n",
       "      <td>0</td>\n",
       "      <td>0</td>\n",
       "      <td>0</td>\n",
       "      <td>...</td>\n",
       "      <td>0</td>\n",
       "      <td>0</td>\n",
       "      <td>0</td>\n",
       "      <td>0</td>\n",
       "      <td>0</td>\n",
       "      <td>0</td>\n",
       "      <td>0</td>\n",
       "      <td>0</td>\n",
       "      <td>0</td>\n",
       "      <td>0</td>\n",
       "    </tr>\n",
       "    <tr>\n",
       "      <th>SRR6818896</th>\n",
       "      <td>0</td>\n",
       "      <td>1886</td>\n",
       "      <td>1010</td>\n",
       "      <td>158</td>\n",
       "      <td>1</td>\n",
       "      <td>23</td>\n",
       "      <td>2021</td>\n",
       "      <td>181</td>\n",
       "      <td>1</td>\n",
       "      <td>652</td>\n",
       "      <td>...</td>\n",
       "      <td>0</td>\n",
       "      <td>0</td>\n",
       "      <td>0</td>\n",
       "      <td>0</td>\n",
       "      <td>0</td>\n",
       "      <td>0</td>\n",
       "      <td>0</td>\n",
       "      <td>0</td>\n",
       "      <td>0</td>\n",
       "      <td>0</td>\n",
       "    </tr>\n",
       "    <tr>\n",
       "      <th>SRR7594090</th>\n",
       "      <td>0</td>\n",
       "      <td>205</td>\n",
       "      <td>215</td>\n",
       "      <td>2</td>\n",
       "      <td>0</td>\n",
       "      <td>1</td>\n",
       "      <td>107</td>\n",
       "      <td>0</td>\n",
       "      <td>0</td>\n",
       "      <td>50</td>\n",
       "      <td>...</td>\n",
       "      <td>0</td>\n",
       "      <td>0</td>\n",
       "      <td>0</td>\n",
       "      <td>0</td>\n",
       "      <td>0</td>\n",
       "      <td>0</td>\n",
       "      <td>0</td>\n",
       "      <td>0</td>\n",
       "      <td>0</td>\n",
       "      <td>0</td>\n",
       "    </tr>\n",
       "    <tr>\n",
       "      <th>SRR8486073</th>\n",
       "      <td>4</td>\n",
       "      <td>15578</td>\n",
       "      <td>11403</td>\n",
       "      <td>172</td>\n",
       "      <td>3</td>\n",
       "      <td>231</td>\n",
       "      <td>5640</td>\n",
       "      <td>458</td>\n",
       "      <td>10</td>\n",
       "      <td>20484</td>\n",
       "      <td>...</td>\n",
       "      <td>0</td>\n",
       "      <td>0</td>\n",
       "      <td>0</td>\n",
       "      <td>0</td>\n",
       "      <td>0</td>\n",
       "      <td>0</td>\n",
       "      <td>0</td>\n",
       "      <td>0</td>\n",
       "      <td>0</td>\n",
       "      <td>0</td>\n",
       "    </tr>\n",
       "    <tr>\n",
       "      <th>SRR10527303</th>\n",
       "      <td>42</td>\n",
       "      <td>17500</td>\n",
       "      <td>13787</td>\n",
       "      <td>5455</td>\n",
       "      <td>2</td>\n",
       "      <td>56</td>\n",
       "      <td>17921</td>\n",
       "      <td>625</td>\n",
       "      <td>1</td>\n",
       "      <td>30873</td>\n",
       "      <td>...</td>\n",
       "      <td>1</td>\n",
       "      <td>1</td>\n",
       "      <td>2</td>\n",
       "      <td>0</td>\n",
       "      <td>0</td>\n",
       "      <td>0</td>\n",
       "      <td>0</td>\n",
       "      <td>0</td>\n",
       "      <td>0</td>\n",
       "      <td>0</td>\n",
       "    </tr>\n",
       "    <tr>\n",
       "      <th>SRR10523768</th>\n",
       "      <td>1</td>\n",
       "      <td>35856</td>\n",
       "      <td>16929</td>\n",
       "      <td>1722</td>\n",
       "      <td>27</td>\n",
       "      <td>286</td>\n",
       "      <td>5862</td>\n",
       "      <td>594</td>\n",
       "      <td>1</td>\n",
       "      <td>2878</td>\n",
       "      <td>...</td>\n",
       "      <td>0</td>\n",
       "      <td>0</td>\n",
       "      <td>0</td>\n",
       "      <td>0</td>\n",
       "      <td>0</td>\n",
       "      <td>56</td>\n",
       "      <td>1</td>\n",
       "      <td>0</td>\n",
       "      <td>0</td>\n",
       "      <td>0</td>\n",
       "    </tr>\n",
       "    <tr>\n",
       "      <th>SRR10995811</th>\n",
       "      <td>0</td>\n",
       "      <td>2407</td>\n",
       "      <td>947</td>\n",
       "      <td>59</td>\n",
       "      <td>0</td>\n",
       "      <td>10</td>\n",
       "      <td>1453</td>\n",
       "      <td>85</td>\n",
       "      <td>0</td>\n",
       "      <td>422</td>\n",
       "      <td>...</td>\n",
       "      <td>0</td>\n",
       "      <td>0</td>\n",
       "      <td>0</td>\n",
       "      <td>0</td>\n",
       "      <td>0</td>\n",
       "      <td>0</td>\n",
       "      <td>0</td>\n",
       "      <td>0</td>\n",
       "      <td>0</td>\n",
       "      <td>0</td>\n",
       "    </tr>\n",
       "    <tr>\n",
       "      <th>SRR12539558</th>\n",
       "      <td>0</td>\n",
       "      <td>11</td>\n",
       "      <td>0</td>\n",
       "      <td>0</td>\n",
       "      <td>0</td>\n",
       "      <td>0</td>\n",
       "      <td>8</td>\n",
       "      <td>0</td>\n",
       "      <td>0</td>\n",
       "      <td>1</td>\n",
       "      <td>...</td>\n",
       "      <td>0</td>\n",
       "      <td>0</td>\n",
       "      <td>0</td>\n",
       "      <td>0</td>\n",
       "      <td>0</td>\n",
       "      <td>0</td>\n",
       "      <td>0</td>\n",
       "      <td>0</td>\n",
       "      <td>0</td>\n",
       "      <td>0</td>\n",
       "    </tr>\n",
       "    <tr>\n",
       "      <th>SRR13051591</th>\n",
       "      <td>0</td>\n",
       "      <td>14942</td>\n",
       "      <td>15154</td>\n",
       "      <td>770</td>\n",
       "      <td>2</td>\n",
       "      <td>35</td>\n",
       "      <td>8043</td>\n",
       "      <td>1696</td>\n",
       "      <td>0</td>\n",
       "      <td>4776</td>\n",
       "      <td>...</td>\n",
       "      <td>0</td>\n",
       "      <td>0</td>\n",
       "      <td>0</td>\n",
       "      <td>0</td>\n",
       "      <td>0</td>\n",
       "      <td>0</td>\n",
       "      <td>0</td>\n",
       "      <td>0</td>\n",
       "      <td>0</td>\n",
       "      <td>0</td>\n",
       "    </tr>\n",
       "    <tr>\n",
       "      <th>SRR13580929</th>\n",
       "      <td>0</td>\n",
       "      <td>4248</td>\n",
       "      <td>2328</td>\n",
       "      <td>123</td>\n",
       "      <td>1</td>\n",
       "      <td>35</td>\n",
       "      <td>1509</td>\n",
       "      <td>208</td>\n",
       "      <td>0</td>\n",
       "      <td>1726</td>\n",
       "      <td>...</td>\n",
       "      <td>0</td>\n",
       "      <td>0</td>\n",
       "      <td>0</td>\n",
       "      <td>0</td>\n",
       "      <td>0</td>\n",
       "      <td>0</td>\n",
       "      <td>0</td>\n",
       "      <td>0</td>\n",
       "      <td>0</td>\n",
       "      <td>0</td>\n",
       "    </tr>\n",
       "    <tr>\n",
       "      <th>SRR13557739</th>\n",
       "      <td>0</td>\n",
       "      <td>4327</td>\n",
       "      <td>3139</td>\n",
       "      <td>47</td>\n",
       "      <td>0</td>\n",
       "      <td>41</td>\n",
       "      <td>2845</td>\n",
       "      <td>149</td>\n",
       "      <td>0</td>\n",
       "      <td>1118</td>\n",
       "      <td>...</td>\n",
       "      <td>0</td>\n",
       "      <td>0</td>\n",
       "      <td>0</td>\n",
       "      <td>0</td>\n",
       "      <td>0</td>\n",
       "      <td>0</td>\n",
       "      <td>0</td>\n",
       "      <td>0</td>\n",
       "      <td>0</td>\n",
       "      <td>0</td>\n",
       "    </tr>\n",
       "    <tr>\n",
       "      <th>SRR13528008</th>\n",
       "      <td>1</td>\n",
       "      <td>3320</td>\n",
       "      <td>1639</td>\n",
       "      <td>15</td>\n",
       "      <td>1</td>\n",
       "      <td>70</td>\n",
       "      <td>1478</td>\n",
       "      <td>203</td>\n",
       "      <td>35</td>\n",
       "      <td>960</td>\n",
       "      <td>...</td>\n",
       "      <td>0</td>\n",
       "      <td>0</td>\n",
       "      <td>0</td>\n",
       "      <td>0</td>\n",
       "      <td>0</td>\n",
       "      <td>0</td>\n",
       "      <td>0</td>\n",
       "      <td>0</td>\n",
       "      <td>0</td>\n",
       "      <td>0</td>\n",
       "    </tr>\n",
       "    <tr>\n",
       "      <th>SRR13785539</th>\n",
       "      <td>0</td>\n",
       "      <td>0</td>\n",
       "      <td>0</td>\n",
       "      <td>0</td>\n",
       "      <td>0</td>\n",
       "      <td>0</td>\n",
       "      <td>0</td>\n",
       "      <td>0</td>\n",
       "      <td>0</td>\n",
       "      <td>0</td>\n",
       "      <td>...</td>\n",
       "      <td>0</td>\n",
       "      <td>0</td>\n",
       "      <td>0</td>\n",
       "      <td>0</td>\n",
       "      <td>0</td>\n",
       "      <td>0</td>\n",
       "      <td>0</td>\n",
       "      <td>0</td>\n",
       "      <td>0</td>\n",
       "      <td>0</td>\n",
       "    </tr>\n",
       "    <tr>\n",
       "      <th>SRR23490783</th>\n",
       "      <td>0</td>\n",
       "      <td>9790</td>\n",
       "      <td>518</td>\n",
       "      <td>24</td>\n",
       "      <td>1</td>\n",
       "      <td>3</td>\n",
       "      <td>305</td>\n",
       "      <td>132</td>\n",
       "      <td>0</td>\n",
       "      <td>451</td>\n",
       "      <td>...</td>\n",
       "      <td>0</td>\n",
       "      <td>0</td>\n",
       "      <td>0</td>\n",
       "      <td>0</td>\n",
       "      <td>0</td>\n",
       "      <td>0</td>\n",
       "      <td>0</td>\n",
       "      <td>0</td>\n",
       "      <td>0</td>\n",
       "      <td>0</td>\n",
       "    </tr>\n",
       "    <tr>\n",
       "      <th>SRR13164554</th>\n",
       "      <td>0</td>\n",
       "      <td>4205</td>\n",
       "      <td>768</td>\n",
       "      <td>31</td>\n",
       "      <td>19</td>\n",
       "      <td>20</td>\n",
       "      <td>879</td>\n",
       "      <td>135</td>\n",
       "      <td>0</td>\n",
       "      <td>461</td>\n",
       "      <td>...</td>\n",
       "      <td>0</td>\n",
       "      <td>0</td>\n",
       "      <td>0</td>\n",
       "      <td>0</td>\n",
       "      <td>0</td>\n",
       "      <td>0</td>\n",
       "      <td>0</td>\n",
       "      <td>0</td>\n",
       "      <td>0</td>\n",
       "      <td>0</td>\n",
       "    </tr>\n",
       "    <tr>\n",
       "      <th>SRR13169468</th>\n",
       "      <td>1</td>\n",
       "      <td>1953</td>\n",
       "      <td>2909</td>\n",
       "      <td>56</td>\n",
       "      <td>0</td>\n",
       "      <td>10</td>\n",
       "      <td>582</td>\n",
       "      <td>67</td>\n",
       "      <td>1</td>\n",
       "      <td>465</td>\n",
       "      <td>...</td>\n",
       "      <td>0</td>\n",
       "      <td>0</td>\n",
       "      <td>0</td>\n",
       "      <td>17</td>\n",
       "      <td>0</td>\n",
       "      <td>0</td>\n",
       "      <td>0</td>\n",
       "      <td>0</td>\n",
       "      <td>0</td>\n",
       "      <td>0</td>\n",
       "    </tr>\n",
       "    <tr>\n",
       "      <th>SRR13169467</th>\n",
       "      <td>0</td>\n",
       "      <td>1936</td>\n",
       "      <td>2868</td>\n",
       "      <td>49</td>\n",
       "      <td>0</td>\n",
       "      <td>4</td>\n",
       "      <td>587</td>\n",
       "      <td>66</td>\n",
       "      <td>1</td>\n",
       "      <td>470</td>\n",
       "      <td>...</td>\n",
       "      <td>0</td>\n",
       "      <td>1</td>\n",
       "      <td>0</td>\n",
       "      <td>25</td>\n",
       "      <td>0</td>\n",
       "      <td>0</td>\n",
       "      <td>0</td>\n",
       "      <td>0</td>\n",
       "      <td>0</td>\n",
       "      <td>0</td>\n",
       "    </tr>\n",
       "    <tr>\n",
       "      <th>SRR13523349</th>\n",
       "      <td>0</td>\n",
       "      <td>3689</td>\n",
       "      <td>1463</td>\n",
       "      <td>92</td>\n",
       "      <td>1</td>\n",
       "      <td>73</td>\n",
       "      <td>2678</td>\n",
       "      <td>314</td>\n",
       "      <td>0</td>\n",
       "      <td>854</td>\n",
       "      <td>...</td>\n",
       "      <td>0</td>\n",
       "      <td>0</td>\n",
       "      <td>0</td>\n",
       "      <td>0</td>\n",
       "      <td>0</td>\n",
       "      <td>0</td>\n",
       "      <td>0</td>\n",
       "      <td>0</td>\n",
       "      <td>0</td>\n",
       "      <td>0</td>\n",
       "    </tr>\n",
       "    <tr>\n",
       "      <th>SRR13518267</th>\n",
       "      <td>0</td>\n",
       "      <td>3243</td>\n",
       "      <td>1458</td>\n",
       "      <td>43</td>\n",
       "      <td>2</td>\n",
       "      <td>14</td>\n",
       "      <td>676</td>\n",
       "      <td>271</td>\n",
       "      <td>2</td>\n",
       "      <td>1059</td>\n",
       "      <td>...</td>\n",
       "      <td>0</td>\n",
       "      <td>0</td>\n",
       "      <td>0</td>\n",
       "      <td>0</td>\n",
       "      <td>0</td>\n",
       "      <td>0</td>\n",
       "      <td>0</td>\n",
       "      <td>0</td>\n",
       "      <td>0</td>\n",
       "      <td>0</td>\n",
       "    </tr>\n",
       "    <tr>\n",
       "      <th>SRR14354747</th>\n",
       "      <td>0</td>\n",
       "      <td>9749</td>\n",
       "      <td>27659</td>\n",
       "      <td>142</td>\n",
       "      <td>2</td>\n",
       "      <td>46</td>\n",
       "      <td>8504</td>\n",
       "      <td>358</td>\n",
       "      <td>73</td>\n",
       "      <td>2161</td>\n",
       "      <td>...</td>\n",
       "      <td>0</td>\n",
       "      <td>0</td>\n",
       "      <td>0</td>\n",
       "      <td>0</td>\n",
       "      <td>1</td>\n",
       "      <td>0</td>\n",
       "      <td>0</td>\n",
       "      <td>0</td>\n",
       "      <td>0</td>\n",
       "      <td>0</td>\n",
       "    </tr>\n",
       "    <tr>\n",
       "      <th>SRR17651134</th>\n",
       "      <td>0</td>\n",
       "      <td>7247</td>\n",
       "      <td>4231</td>\n",
       "      <td>12</td>\n",
       "      <td>1</td>\n",
       "      <td>23</td>\n",
       "      <td>5240</td>\n",
       "      <td>788</td>\n",
       "      <td>1</td>\n",
       "      <td>443</td>\n",
       "      <td>...</td>\n",
       "      <td>0</td>\n",
       "      <td>0</td>\n",
       "      <td>0</td>\n",
       "      <td>0</td>\n",
       "      <td>0</td>\n",
       "      <td>0</td>\n",
       "      <td>0</td>\n",
       "      <td>0</td>\n",
       "      <td>0</td>\n",
       "      <td>0</td>\n",
       "    </tr>\n",
       "    <tr>\n",
       "      <th>SRR23562286</th>\n",
       "      <td>0</td>\n",
       "      <td>6236</td>\n",
       "      <td>3854</td>\n",
       "      <td>98</td>\n",
       "      <td>0</td>\n",
       "      <td>59</td>\n",
       "      <td>3309</td>\n",
       "      <td>204</td>\n",
       "      <td>91</td>\n",
       "      <td>11804</td>\n",
       "      <td>...</td>\n",
       "      <td>0</td>\n",
       "      <td>0</td>\n",
       "      <td>0</td>\n",
       "      <td>0</td>\n",
       "      <td>0</td>\n",
       "      <td>0</td>\n",
       "      <td>0</td>\n",
       "      <td>0</td>\n",
       "      <td>0</td>\n",
       "      <td>0</td>\n",
       "    </tr>\n",
       "    <tr>\n",
       "      <th>SRR23562283</th>\n",
       "      <td>0</td>\n",
       "      <td>6270</td>\n",
       "      <td>3982</td>\n",
       "      <td>179</td>\n",
       "      <td>23</td>\n",
       "      <td>26</td>\n",
       "      <td>2912</td>\n",
       "      <td>69</td>\n",
       "      <td>1</td>\n",
       "      <td>7473</td>\n",
       "      <td>...</td>\n",
       "      <td>0</td>\n",
       "      <td>0</td>\n",
       "      <td>1</td>\n",
       "      <td>0</td>\n",
       "      <td>1</td>\n",
       "      <td>1</td>\n",
       "      <td>1</td>\n",
       "      <td>0</td>\n",
       "      <td>0</td>\n",
       "      <td>0</td>\n",
       "    </tr>\n",
       "    <tr>\n",
       "      <th>SRR29118782</th>\n",
       "      <td>0</td>\n",
       "      <td>0</td>\n",
       "      <td>0</td>\n",
       "      <td>0</td>\n",
       "      <td>0</td>\n",
       "      <td>0</td>\n",
       "      <td>0</td>\n",
       "      <td>0</td>\n",
       "      <td>0</td>\n",
       "      <td>0</td>\n",
       "      <td>...</td>\n",
       "      <td>0</td>\n",
       "      <td>0</td>\n",
       "      <td>0</td>\n",
       "      <td>0</td>\n",
       "      <td>0</td>\n",
       "      <td>0</td>\n",
       "      <td>0</td>\n",
       "      <td>0</td>\n",
       "      <td>0</td>\n",
       "      <td>0</td>\n",
       "    </tr>\n",
       "    <tr>\n",
       "      <th>SRR31412042</th>\n",
       "      <td>5</td>\n",
       "      <td>6611</td>\n",
       "      <td>4668</td>\n",
       "      <td>21</td>\n",
       "      <td>9</td>\n",
       "      <td>2</td>\n",
       "      <td>9619</td>\n",
       "      <td>415</td>\n",
       "      <td>3</td>\n",
       "      <td>722</td>\n",
       "      <td>...</td>\n",
       "      <td>0</td>\n",
       "      <td>0</td>\n",
       "      <td>0</td>\n",
       "      <td>0</td>\n",
       "      <td>0</td>\n",
       "      <td>0</td>\n",
       "      <td>0</td>\n",
       "      <td>0</td>\n",
       "      <td>0</td>\n",
       "      <td>0</td>\n",
       "    </tr>\n",
       "  </tbody>\n",
       "</table>\n",
       "<p>37 rows × 136 columns</p>\n",
       "</div>"
      ],
      "text/plain": [
       "            Artiviridae Retroviridae Iridoviridae Nimaviridae Hepadnaviridae  \\\n",
       "DRR277134             0        14455         5997          63              1   \n",
       "DRR311751             0         3919         1797         231              0   \n",
       "DRR345795             5         1448         1876          43              4   \n",
       "SRR426837             0            0            0           0              0   \n",
       "SRR2921281            0            0            0           0              0   \n",
       "SRR4113502            7         1123         1681          24             36   \n",
       "SRR5140130            0         2583          752           2              2   \n",
       "SRR5140107            0          196          149           0              0   \n",
       "SRR5140144            0          951         1838          14            141   \n",
       "SRR5198727            0         6022         3899          96              0   \n",
       "SRR5832119            0         4030         1009          11              0   \n",
       "SRR6327827            0        11723         7029         106              6   \n",
       "SRR6516776            0            0            0           0              0   \n",
       "SRR6818896            0         1886         1010         158              1   \n",
       "SRR7594090            0          205          215           2              0   \n",
       "SRR8486073            4        15578        11403         172              3   \n",
       "SRR10527303          42        17500        13787        5455              2   \n",
       "SRR10523768           1        35856        16929        1722             27   \n",
       "SRR10995811           0         2407          947          59              0   \n",
       "SRR12539558           0           11            0           0              0   \n",
       "SRR13051591           0        14942        15154         770              2   \n",
       "SRR13580929           0         4248         2328         123              1   \n",
       "SRR13557739           0         4327         3139          47              0   \n",
       "SRR13528008           1         3320         1639          15              1   \n",
       "SRR13785539           0            0            0           0              0   \n",
       "SRR23490783           0         9790          518          24              1   \n",
       "SRR13164554           0         4205          768          31             19   \n",
       "SRR13169468           1         1953         2909          56              0   \n",
       "SRR13169467           0         1936         2868          49              0   \n",
       "SRR13523349           0         3689         1463          92              1   \n",
       "SRR13518267           0         3243         1458          43              2   \n",
       "SRR14354747           0         9749        27659         142              2   \n",
       "SRR17651134           0         7247         4231          12              1   \n",
       "SRR23562286           0         6236         3854          98              0   \n",
       "SRR23562283           0         6270         3982         179             23   \n",
       "SRR29118782           0            0            0           0              0   \n",
       "SRR31412042           5         6611         4668          21              9   \n",
       "\n",
       "            Papillomaviridae Polydnaviriformidae Nairoviridae Tombusviridae  \\\n",
       "DRR277134                328                7963          857             0   \n",
       "DRR311751                 12                2480          223             5   \n",
       "DRR345795                 17                1062          136             1   \n",
       "SRR426837                  0                   0            0             0   \n",
       "SRR2921281                 0                   0            0             0   \n",
       "SRR4113502                34                 979           50             1   \n",
       "SRR5140130                16                1501           69             0   \n",
       "SRR5140107                18                 266           19             0   \n",
       "SRR5140144                 6                 963          174             0   \n",
       "SRR5198727                 3                1039          181             0   \n",
       "SRR5832119                 0                2081           63             1   \n",
       "SRR6327827               629                2798          247            93   \n",
       "SRR6516776                 0                   0            0             0   \n",
       "SRR6818896                23                2021          181             1   \n",
       "SRR7594090                 1                 107            0             0   \n",
       "SRR8486073               231                5640          458            10   \n",
       "SRR10527303               56               17921          625             1   \n",
       "SRR10523768              286                5862          594             1   \n",
       "SRR10995811               10                1453           85             0   \n",
       "SRR12539558                0                   8            0             0   \n",
       "SRR13051591               35                8043         1696             0   \n",
       "SRR13580929               35                1509          208             0   \n",
       "SRR13557739               41                2845          149             0   \n",
       "SRR13528008               70                1478          203            35   \n",
       "SRR13785539                0                   0            0             0   \n",
       "SRR23490783                3                 305          132             0   \n",
       "SRR13164554               20                 879          135             0   \n",
       "SRR13169468               10                 582           67             1   \n",
       "SRR13169467                4                 587           66             1   \n",
       "SRR13523349               73                2678          314             0   \n",
       "SRR13518267               14                 676          271             2   \n",
       "SRR14354747               46                8504          358            73   \n",
       "SRR17651134               23                5240          788             1   \n",
       "SRR23562286               59                3309          204            91   \n",
       "SRR23562283               26                2912           69             1   \n",
       "SRR29118782                0                   0            0             0   \n",
       "SRR31412042                2                9619          415             3   \n",
       "\n",
       "            Orthoherpesviridae  ... Bidnaviridae Kolmioviridae Alternaviridae  \\\n",
       "DRR277134                 1287  ...            0             0              0   \n",
       "DRR311751                 1161  ...            0             0              0   \n",
       "DRR345795                  322  ...            0             0             22   \n",
       "SRR426837                    0  ...            0             0              0   \n",
       "SRR2921281                   0  ...            0             0              0   \n",
       "SRR4113502                 565  ...            0             0              0   \n",
       "SRR5140130                 363  ...            0             0              0   \n",
       "SRR5140107                  66  ...            0             0              0   \n",
       "SRR5140144                 839  ...            0             0              0   \n",
       "SRR5198727                5065  ...            0             0              0   \n",
       "SRR5832119                1022  ...            0             0              0   \n",
       "SRR6327827                1371  ...            0             0              0   \n",
       "SRR6516776                   0  ...            0             0              0   \n",
       "SRR6818896                 652  ...            0             0              0   \n",
       "SRR7594090                  50  ...            0             0              0   \n",
       "SRR8486073               20484  ...            0             0              0   \n",
       "SRR10527303              30873  ...            1             1              2   \n",
       "SRR10523768               2878  ...            0             0              0   \n",
       "SRR10995811                422  ...            0             0              0   \n",
       "SRR12539558                  1  ...            0             0              0   \n",
       "SRR13051591               4776  ...            0             0              0   \n",
       "SRR13580929               1726  ...            0             0              0   \n",
       "SRR13557739               1118  ...            0             0              0   \n",
       "SRR13528008                960  ...            0             0              0   \n",
       "SRR13785539                  0  ...            0             0              0   \n",
       "SRR23490783                451  ...            0             0              0   \n",
       "SRR13164554                461  ...            0             0              0   \n",
       "SRR13169468                465  ...            0             0              0   \n",
       "SRR13169467                470  ...            0             1              0   \n",
       "SRR13523349                854  ...            0             0              0   \n",
       "SRR13518267               1059  ...            0             0              0   \n",
       "SRR14354747               2161  ...            0             0              0   \n",
       "SRR17651134                443  ...            0             0              0   \n",
       "SRR23562286              11804  ...            0             0              0   \n",
       "SRR23562283               7473  ...            0             0              1   \n",
       "SRR29118782                  0  ...            0             0              0   \n",
       "SRR31412042                722  ...            0             0              0   \n",
       "\n",
       "            Alvernaviridae Partitiviridae Cremegaviridae Tospoviridae  \\\n",
       "DRR277134                0              0              0            0   \n",
       "DRR311751                0              0              0            0   \n",
       "DRR345795                0              0              0            0   \n",
       "SRR426837                0              0              0            0   \n",
       "SRR2921281               0              0              0            0   \n",
       "SRR4113502               0              0              0            0   \n",
       "SRR5140130               0              0              0            0   \n",
       "SRR5140107               0              0              0            0   \n",
       "SRR5140144               0              0              0            3   \n",
       "SRR5198727               0              0              0            0   \n",
       "SRR5832119               0              0              0            0   \n",
       "SRR6327827               0              0              0            0   \n",
       "SRR6516776               0              0              0            0   \n",
       "SRR6818896               0              0              0            0   \n",
       "SRR7594090               0              0              0            0   \n",
       "SRR8486073               0              0              0            0   \n",
       "SRR10527303              0              0              0            0   \n",
       "SRR10523768              0              0             56            1   \n",
       "SRR10995811              0              0              0            0   \n",
       "SRR12539558              0              0              0            0   \n",
       "SRR13051591              0              0              0            0   \n",
       "SRR13580929              0              0              0            0   \n",
       "SRR13557739              0              0              0            0   \n",
       "SRR13528008              0              0              0            0   \n",
       "SRR13785539              0              0              0            0   \n",
       "SRR23490783              0              0              0            0   \n",
       "SRR13164554              0              0              0            0   \n",
       "SRR13169468             17              0              0            0   \n",
       "SRR13169467             25              0              0            0   \n",
       "SRR13523349              0              0              0            0   \n",
       "SRR13518267              0              0              0            0   \n",
       "SRR14354747              0              1              0            0   \n",
       "SRR17651134              0              0              0            0   \n",
       "SRR23562286              0              0              0            0   \n",
       "SRR23562283              0              1              1            1   \n",
       "SRR29118782              0              0              0            0   \n",
       "SRR31412042              0              0              0            0   \n",
       "\n",
       "            Megabirnaviridae Mayoviridae Aspiviridae  \n",
       "DRR277134                  0           0           1  \n",
       "DRR311751                  0           0           0  \n",
       "DRR345795                  0           0           0  \n",
       "SRR426837                  0           0           0  \n",
       "SRR2921281                 0           0           0  \n",
       "SRR4113502                 0           0           0  \n",
       "SRR5140130                 0           0           0  \n",
       "SRR5140107                 0           0           0  \n",
       "SRR5140144                 1           0           0  \n",
       "SRR5198727                 0           0           0  \n",
       "SRR5832119                 0           1           0  \n",
       "SRR6327827                 0           0           0  \n",
       "SRR6516776                 0           0           0  \n",
       "SRR6818896                 0           0           0  \n",
       "SRR7594090                 0           0           0  \n",
       "SRR8486073                 0           0           0  \n",
       "SRR10527303                0           0           0  \n",
       "SRR10523768                0           0           0  \n",
       "SRR10995811                0           0           0  \n",
       "SRR12539558                0           0           0  \n",
       "SRR13051591                0           0           0  \n",
       "SRR13580929                0           0           0  \n",
       "SRR13557739                0           0           0  \n",
       "SRR13528008                0           0           0  \n",
       "SRR13785539                0           0           0  \n",
       "SRR23490783                0           0           0  \n",
       "SRR13164554                0           0           0  \n",
       "SRR13169468                0           0           0  \n",
       "SRR13169467                0           0           0  \n",
       "SRR13523349                0           0           0  \n",
       "SRR13518267                0           0           0  \n",
       "SRR14354747                0           0           0  \n",
       "SRR17651134                0           0           0  \n",
       "SRR23562286                0           0           0  \n",
       "SRR23562283                0           0           0  \n",
       "SRR29118782                0           0           0  \n",
       "SRR31412042                0           0           0  \n",
       "\n",
       "[37 rows x 136 columns]"
      ]
     },
     "execution_count": 471,
     "metadata": {},
     "output_type": "execute_result"
    }
   ],
   "source": [
    "statDF_T.transpose()"
   ]
  },
  {
   "cell_type": "code",
   "execution_count": 472,
   "id": "ce058f2b",
   "metadata": {},
   "outputs": [],
   "source": [
    "## same analysis but for genus level\n",
    "\n",
    "viromeDF = pd.read_csv('final_virome_df_genus.tsv', sep='\\t')\n",
    "ViralGenus = list(viromeDF.columns[20:])\n",
    "\n",
    "statsDF_genus = viromeDF[['species', 'Run'] + ViralGenus].merge(readCounts, left_on='Run', right_on='Run').fillna(0).astype(int, errors='ignore')\n",
    "\n",
    "\n",
    "statDF_T = statsDF_genus[['Run'] + ViralGenus].transpose()\n",
    "\n",
    "\n",
    "statDF_T.rename(columns=statDF_T.iloc[0], inplace=True)\n",
    "\n",
    "statDF_T.drop(statDF_T.index[0], inplace=True)\n",
    "runRichness = {}\n",
    "runShannon = {}\n",
    "for i in statDF_T.columns:\n",
    "    if sum(statDF_T[i].astype(int)) > 0:\n",
    "        \n",
    "        runRichness[i] = skbio.diversity.alpha.margalef(statDF_T[i].astype(int)).item()\n",
    "        runShannon[i] = skbio.diversity.alpha.shannon(statDF_T[i].astype(int), base=None, exp=False).item()\n",
    "\n",
    "\n",
    "runRichness = pd.DataFrame(runRichness, index=['Richness']).transpose()\n",
    "runShannon = pd.DataFrame(runShannon, index=['Shannon']).transpose()\n",
    "\n",
    "viromeDF = viromeDF.merge(runRichness, left_on='Run', right_index=True).merge(runShannon, left_on='Run', right_index=True)\n",
    "\n",
    "\n",
    "RhizocephalaRichness = viromeDF[viromeDF['infraclass'] == 'Rhizocephala']['Richness']\n",
    "RhizocephalShannon = viromeDF[viromeDF['infraclass'] == 'Rhizocephala']['Shannon']\n",
    "\n",
    "ThoracicaRichness = viromeDF[viromeDF['infraclass'] == 'Thoracica']['Richness']\n",
    "ThoracicaShannon = viromeDF[viromeDF['infraclass'] == 'Thoracica']['Shannon']\n"
   ]
  },
  {
   "cell_type": "code",
   "execution_count": 473,
   "id": "0ed5f7f1",
   "metadata": {},
   "outputs": [
    {
     "data": {
      "application/vnd.plotly.v1+json": {
       "config": {
        "plotlyServerURL": "https://plot.ly"
       },
       "data": [
        {
         "alignmentgroup": "True",
         "boxpoints": "all",
         "hovertemplate": "infraclass=%{x}<br>Shannon=%{y}<extra></extra>",
         "legendgroup": "Thoracica",
         "marker": {
          "color": "#636efa"
         },
         "name": "Thoracica",
         "notched": false,
         "offsetgroup": "Thoracica",
         "orientation": "v",
         "showlegend": true,
         "type": "box",
         "x": [
          "Thoracica",
          "Thoracica",
          "Thoracica",
          "Thoracica",
          "Thoracica",
          "Thoracica",
          "Thoracica",
          "Thoracica",
          "Thoracica",
          "Thoracica",
          "Thoracica",
          "Thoracica",
          "Thoracica",
          "Thoracica",
          "Thoracica",
          "Thoracica",
          "Thoracica",
          "Thoracica",
          "Thoracica",
          "Thoracica",
          "Thoracica",
          "Thoracica",
          "Thoracica",
          "Thoracica",
          "Thoracica"
         ],
         "x0": " ",
         "xaxis": "x",
         "y": {
          "bdata": "QGlWRqjUBkBIb4O15EoFQCMX/4r1fARAZifnu2DLAkAb8KWZDF0GQFbaSIoF/AVAIF/teWkZCUDn9GPbScAKQJt3HESVFAlAWn2U2jlLCkDdV6cGK/kIQKzZtUrEEQpAnoZ63ZLKB0CQjvL0V98IQFrq0O+UdAdAu8AW6mgJCUCEHLdV4uwKQFjZg03FiAdAxFdowKcGCEBY3tH38/8HQKVZuAiIQgpAkUtyTX5yCUAo3OlxEPMHQIGfmYd/uQhABHIEwgLwBkA=",
          "dtype": "f8"
         },
         "y0": " ",
         "yaxis": "y"
        },
        {
         "alignmentgroup": "True",
         "boxpoints": "all",
         "hovertemplate": "infraclass=%{x}<br>Shannon=%{y}<extra></extra>",
         "legendgroup": "Rhizocephala",
         "marker": {
          "color": "#EF553B"
         },
         "name": "Rhizocephala",
         "notched": false,
         "offsetgroup": "Rhizocephala",
         "orientation": "v",
         "showlegend": true,
         "type": "box",
         "x": [
          "Rhizocephala",
          "Rhizocephala",
          "Rhizocephala",
          "Rhizocephala",
          "Rhizocephala"
         ],
         "x0": " ",
         "xaxis": "x",
         "y": {
          "bdata": "q8bQvx9SBUBiGsaZeXUJQA3Gq6M8N+s//cGJwH7NCUDWwOzkO84DQA==",
          "dtype": "f8"
         },
         "y0": " ",
         "yaxis": "y"
        }
       ],
       "layout": {
        "boxmode": "overlay",
        "legend": {
         "title": {
          "text": "infraclass"
         },
         "tracegroupgap": 0
        },
        "margin": {
         "t": 60
        },
        "template": {
         "data": {
          "bar": [
           {
            "error_x": {
             "color": "#2a3f5f"
            },
            "error_y": {
             "color": "#2a3f5f"
            },
            "marker": {
             "line": {
              "color": "#E5ECF6",
              "width": 0.5
             },
             "pattern": {
              "fillmode": "overlay",
              "size": 10,
              "solidity": 0.2
             }
            },
            "type": "bar"
           }
          ],
          "barpolar": [
           {
            "marker": {
             "line": {
              "color": "#E5ECF6",
              "width": 0.5
             },
             "pattern": {
              "fillmode": "overlay",
              "size": 10,
              "solidity": 0.2
             }
            },
            "type": "barpolar"
           }
          ],
          "carpet": [
           {
            "aaxis": {
             "endlinecolor": "#2a3f5f",
             "gridcolor": "white",
             "linecolor": "white",
             "minorgridcolor": "white",
             "startlinecolor": "#2a3f5f"
            },
            "baxis": {
             "endlinecolor": "#2a3f5f",
             "gridcolor": "white",
             "linecolor": "white",
             "minorgridcolor": "white",
             "startlinecolor": "#2a3f5f"
            },
            "type": "carpet"
           }
          ],
          "choropleth": [
           {
            "colorbar": {
             "outlinewidth": 0,
             "ticks": ""
            },
            "type": "choropleth"
           }
          ],
          "contour": [
           {
            "colorbar": {
             "outlinewidth": 0,
             "ticks": ""
            },
            "colorscale": [
             [
              0,
              "#0d0887"
             ],
             [
              0.1111111111111111,
              "#46039f"
             ],
             [
              0.2222222222222222,
              "#7201a8"
             ],
             [
              0.3333333333333333,
              "#9c179e"
             ],
             [
              0.4444444444444444,
              "#bd3786"
             ],
             [
              0.5555555555555556,
              "#d8576b"
             ],
             [
              0.6666666666666666,
              "#ed7953"
             ],
             [
              0.7777777777777778,
              "#fb9f3a"
             ],
             [
              0.8888888888888888,
              "#fdca26"
             ],
             [
              1,
              "#f0f921"
             ]
            ],
            "type": "contour"
           }
          ],
          "contourcarpet": [
           {
            "colorbar": {
             "outlinewidth": 0,
             "ticks": ""
            },
            "type": "contourcarpet"
           }
          ],
          "heatmap": [
           {
            "colorbar": {
             "outlinewidth": 0,
             "ticks": ""
            },
            "colorscale": [
             [
              0,
              "#0d0887"
             ],
             [
              0.1111111111111111,
              "#46039f"
             ],
             [
              0.2222222222222222,
              "#7201a8"
             ],
             [
              0.3333333333333333,
              "#9c179e"
             ],
             [
              0.4444444444444444,
              "#bd3786"
             ],
             [
              0.5555555555555556,
              "#d8576b"
             ],
             [
              0.6666666666666666,
              "#ed7953"
             ],
             [
              0.7777777777777778,
              "#fb9f3a"
             ],
             [
              0.8888888888888888,
              "#fdca26"
             ],
             [
              1,
              "#f0f921"
             ]
            ],
            "type": "heatmap"
           }
          ],
          "histogram": [
           {
            "marker": {
             "pattern": {
              "fillmode": "overlay",
              "size": 10,
              "solidity": 0.2
             }
            },
            "type": "histogram"
           }
          ],
          "histogram2d": [
           {
            "colorbar": {
             "outlinewidth": 0,
             "ticks": ""
            },
            "colorscale": [
             [
              0,
              "#0d0887"
             ],
             [
              0.1111111111111111,
              "#46039f"
             ],
             [
              0.2222222222222222,
              "#7201a8"
             ],
             [
              0.3333333333333333,
              "#9c179e"
             ],
             [
              0.4444444444444444,
              "#bd3786"
             ],
             [
              0.5555555555555556,
              "#d8576b"
             ],
             [
              0.6666666666666666,
              "#ed7953"
             ],
             [
              0.7777777777777778,
              "#fb9f3a"
             ],
             [
              0.8888888888888888,
              "#fdca26"
             ],
             [
              1,
              "#f0f921"
             ]
            ],
            "type": "histogram2d"
           }
          ],
          "histogram2dcontour": [
           {
            "colorbar": {
             "outlinewidth": 0,
             "ticks": ""
            },
            "colorscale": [
             [
              0,
              "#0d0887"
             ],
             [
              0.1111111111111111,
              "#46039f"
             ],
             [
              0.2222222222222222,
              "#7201a8"
             ],
             [
              0.3333333333333333,
              "#9c179e"
             ],
             [
              0.4444444444444444,
              "#bd3786"
             ],
             [
              0.5555555555555556,
              "#d8576b"
             ],
             [
              0.6666666666666666,
              "#ed7953"
             ],
             [
              0.7777777777777778,
              "#fb9f3a"
             ],
             [
              0.8888888888888888,
              "#fdca26"
             ],
             [
              1,
              "#f0f921"
             ]
            ],
            "type": "histogram2dcontour"
           }
          ],
          "mesh3d": [
           {
            "colorbar": {
             "outlinewidth": 0,
             "ticks": ""
            },
            "type": "mesh3d"
           }
          ],
          "parcoords": [
           {
            "line": {
             "colorbar": {
              "outlinewidth": 0,
              "ticks": ""
             }
            },
            "type": "parcoords"
           }
          ],
          "pie": [
           {
            "automargin": true,
            "type": "pie"
           }
          ],
          "scatter": [
           {
            "fillpattern": {
             "fillmode": "overlay",
             "size": 10,
             "solidity": 0.2
            },
            "type": "scatter"
           }
          ],
          "scatter3d": [
           {
            "line": {
             "colorbar": {
              "outlinewidth": 0,
              "ticks": ""
             }
            },
            "marker": {
             "colorbar": {
              "outlinewidth": 0,
              "ticks": ""
             }
            },
            "type": "scatter3d"
           }
          ],
          "scattercarpet": [
           {
            "marker": {
             "colorbar": {
              "outlinewidth": 0,
              "ticks": ""
             }
            },
            "type": "scattercarpet"
           }
          ],
          "scattergeo": [
           {
            "marker": {
             "colorbar": {
              "outlinewidth": 0,
              "ticks": ""
             }
            },
            "type": "scattergeo"
           }
          ],
          "scattergl": [
           {
            "marker": {
             "colorbar": {
              "outlinewidth": 0,
              "ticks": ""
             }
            },
            "type": "scattergl"
           }
          ],
          "scattermap": [
           {
            "marker": {
             "colorbar": {
              "outlinewidth": 0,
              "ticks": ""
             }
            },
            "type": "scattermap"
           }
          ],
          "scattermapbox": [
           {
            "marker": {
             "colorbar": {
              "outlinewidth": 0,
              "ticks": ""
             }
            },
            "type": "scattermapbox"
           }
          ],
          "scatterpolar": [
           {
            "marker": {
             "colorbar": {
              "outlinewidth": 0,
              "ticks": ""
             }
            },
            "type": "scatterpolar"
           }
          ],
          "scatterpolargl": [
           {
            "marker": {
             "colorbar": {
              "outlinewidth": 0,
              "ticks": ""
             }
            },
            "type": "scatterpolargl"
           }
          ],
          "scatterternary": [
           {
            "marker": {
             "colorbar": {
              "outlinewidth": 0,
              "ticks": ""
             }
            },
            "type": "scatterternary"
           }
          ],
          "surface": [
           {
            "colorbar": {
             "outlinewidth": 0,
             "ticks": ""
            },
            "colorscale": [
             [
              0,
              "#0d0887"
             ],
             [
              0.1111111111111111,
              "#46039f"
             ],
             [
              0.2222222222222222,
              "#7201a8"
             ],
             [
              0.3333333333333333,
              "#9c179e"
             ],
             [
              0.4444444444444444,
              "#bd3786"
             ],
             [
              0.5555555555555556,
              "#d8576b"
             ],
             [
              0.6666666666666666,
              "#ed7953"
             ],
             [
              0.7777777777777778,
              "#fb9f3a"
             ],
             [
              0.8888888888888888,
              "#fdca26"
             ],
             [
              1,
              "#f0f921"
             ]
            ],
            "type": "surface"
           }
          ],
          "table": [
           {
            "cells": {
             "fill": {
              "color": "#EBF0F8"
             },
             "line": {
              "color": "white"
             }
            },
            "header": {
             "fill": {
              "color": "#C8D4E3"
             },
             "line": {
              "color": "white"
             }
            },
            "type": "table"
           }
          ]
         },
         "layout": {
          "annotationdefaults": {
           "arrowcolor": "#2a3f5f",
           "arrowhead": 0,
           "arrowwidth": 1
          },
          "autotypenumbers": "strict",
          "coloraxis": {
           "colorbar": {
            "outlinewidth": 0,
            "ticks": ""
           }
          },
          "colorscale": {
           "diverging": [
            [
             0,
             "#8e0152"
            ],
            [
             0.1,
             "#c51b7d"
            ],
            [
             0.2,
             "#de77ae"
            ],
            [
             0.3,
             "#f1b6da"
            ],
            [
             0.4,
             "#fde0ef"
            ],
            [
             0.5,
             "#f7f7f7"
            ],
            [
             0.6,
             "#e6f5d0"
            ],
            [
             0.7,
             "#b8e186"
            ],
            [
             0.8,
             "#7fbc41"
            ],
            [
             0.9,
             "#4d9221"
            ],
            [
             1,
             "#276419"
            ]
           ],
           "sequential": [
            [
             0,
             "#0d0887"
            ],
            [
             0.1111111111111111,
             "#46039f"
            ],
            [
             0.2222222222222222,
             "#7201a8"
            ],
            [
             0.3333333333333333,
             "#9c179e"
            ],
            [
             0.4444444444444444,
             "#bd3786"
            ],
            [
             0.5555555555555556,
             "#d8576b"
            ],
            [
             0.6666666666666666,
             "#ed7953"
            ],
            [
             0.7777777777777778,
             "#fb9f3a"
            ],
            [
             0.8888888888888888,
             "#fdca26"
            ],
            [
             1,
             "#f0f921"
            ]
           ],
           "sequentialminus": [
            [
             0,
             "#0d0887"
            ],
            [
             0.1111111111111111,
             "#46039f"
            ],
            [
             0.2222222222222222,
             "#7201a8"
            ],
            [
             0.3333333333333333,
             "#9c179e"
            ],
            [
             0.4444444444444444,
             "#bd3786"
            ],
            [
             0.5555555555555556,
             "#d8576b"
            ],
            [
             0.6666666666666666,
             "#ed7953"
            ],
            [
             0.7777777777777778,
             "#fb9f3a"
            ],
            [
             0.8888888888888888,
             "#fdca26"
            ],
            [
             1,
             "#f0f921"
            ]
           ]
          },
          "colorway": [
           "#636efa",
           "#EF553B",
           "#00cc96",
           "#ab63fa",
           "#FFA15A",
           "#19d3f3",
           "#FF6692",
           "#B6E880",
           "#FF97FF",
           "#FECB52"
          ],
          "font": {
           "color": "#2a3f5f"
          },
          "geo": {
           "bgcolor": "white",
           "lakecolor": "white",
           "landcolor": "#E5ECF6",
           "showlakes": true,
           "showland": true,
           "subunitcolor": "white"
          },
          "hoverlabel": {
           "align": "left"
          },
          "hovermode": "closest",
          "mapbox": {
           "style": "light"
          },
          "paper_bgcolor": "white",
          "plot_bgcolor": "#E5ECF6",
          "polar": {
           "angularaxis": {
            "gridcolor": "white",
            "linecolor": "white",
            "ticks": ""
           },
           "bgcolor": "#E5ECF6",
           "radialaxis": {
            "gridcolor": "white",
            "linecolor": "white",
            "ticks": ""
           }
          },
          "scene": {
           "xaxis": {
            "backgroundcolor": "#E5ECF6",
            "gridcolor": "white",
            "gridwidth": 2,
            "linecolor": "white",
            "showbackground": true,
            "ticks": "",
            "zerolinecolor": "white"
           },
           "yaxis": {
            "backgroundcolor": "#E5ECF6",
            "gridcolor": "white",
            "gridwidth": 2,
            "linecolor": "white",
            "showbackground": true,
            "ticks": "",
            "zerolinecolor": "white"
           },
           "zaxis": {
            "backgroundcolor": "#E5ECF6",
            "gridcolor": "white",
            "gridwidth": 2,
            "linecolor": "white",
            "showbackground": true,
            "ticks": "",
            "zerolinecolor": "white"
           }
          },
          "shapedefaults": {
           "line": {
            "color": "#2a3f5f"
           }
          },
          "ternary": {
           "aaxis": {
            "gridcolor": "white",
            "linecolor": "white",
            "ticks": ""
           },
           "baxis": {
            "gridcolor": "white",
            "linecolor": "white",
            "ticks": ""
           },
           "bgcolor": "#E5ECF6",
           "caxis": {
            "gridcolor": "white",
            "linecolor": "white",
            "ticks": ""
           }
          },
          "title": {
           "x": 0.05
          },
          "xaxis": {
           "automargin": true,
           "gridcolor": "white",
           "linecolor": "white",
           "ticks": "",
           "title": {
            "standoff": 15
           },
           "zerolinecolor": "white",
           "zerolinewidth": 2
          },
          "yaxis": {
           "automargin": true,
           "gridcolor": "white",
           "linecolor": "white",
           "ticks": "",
           "title": {
            "standoff": 15
           },
           "zerolinecolor": "white",
           "zerolinewidth": 2
          }
         }
        },
        "xaxis": {
         "anchor": "y",
         "categoryarray": [
          "Thoracica",
          "Rhizocephala",
          null
         ],
         "categoryorder": "array",
         "domain": [
          0,
          1
         ],
         "title": {
          "text": "infraclass"
         }
        },
        "yaxis": {
         "anchor": "x",
         "domain": [
          0,
          1
         ],
         "title": {
          "text": "Shannon"
         }
        }
       }
      }
     },
     "metadata": {},
     "output_type": "display_data"
    }
   ],
   "source": [
    "fig = px.box(viromeDF, x='infraclass', y=\"Shannon\", color='infraclass', points='all',)\n",
    "fig.show()"
   ]
  },
  {
   "cell_type": "code",
   "execution_count": 474,
   "id": "60bda639",
   "metadata": {},
   "outputs": [
    {
     "data": {
      "application/vnd.plotly.v1+json": {
       "config": {
        "plotlyServerURL": "https://plot.ly"
       },
       "data": [
        {
         "alignmentgroup": "True",
         "boxpoints": "all",
         "hovertemplate": "infraclass=%{x}<br>Richness=%{y}<extra></extra>",
         "legendgroup": "Thoracica",
         "marker": {
          "color": "#636efa"
         },
         "name": "Thoracica",
         "notched": false,
         "offsetgroup": "Thoracica",
         "orientation": "v",
         "showlegend": true,
         "type": "box",
         "x": [
          "Thoracica",
          "Thoracica",
          "Thoracica",
          "Thoracica",
          "Thoracica",
          "Thoracica",
          "Thoracica",
          "Thoracica",
          "Thoracica",
          "Thoracica",
          "Thoracica",
          "Thoracica",
          "Thoracica",
          "Thoracica",
          "Thoracica",
          "Thoracica",
          "Thoracica",
          "Thoracica",
          "Thoracica",
          "Thoracica",
          "Thoracica",
          "Thoracica",
          "Thoracica",
          "Thoracica",
          "Thoracica"
         ],
         "x0": " ",
         "xaxis": "x",
         "y": {
          "bdata": "HsyruLm1OUDmY4PmnJc3QNQURpaxtUBAP5/ozKg6NEC2XtBGDo1BQIzp8frZbzVAT55SxAEkREBkr4fjazBAQPuiQziHRElAj77okxGZSEAy/O6f1tVEQDkBRSj+2zdAI6srPrZmQUDKDo5iHIA5QDaJPHh6xkBAkQBtYfa+OUAf1MPKH4Y6QImdbjZRtDhA9VAkxjAAOkAFlLyM52o5QDws7c3oKD1AdJjgB2cAPUDk3P064mM+QE/rdA82Qz5AX7zAsnNyOUA=",
          "dtype": "f8"
         },
         "y0": " ",
         "yaxis": "y"
        },
        {
         "alignmentgroup": "True",
         "boxpoints": "all",
         "hovertemplate": "infraclass=%{x}<br>Richness=%{y}<extra></extra>",
         "legendgroup": "Rhizocephala",
         "marker": {
          "color": "#EF553B"
         },
         "name": "Rhizocephala",
         "notched": false,
         "offsetgroup": "Rhizocephala",
         "orientation": "v",
         "showlegend": true,
         "type": "box",
         "x": [
          "Rhizocephala",
          "Rhizocephala",
          "Rhizocephala",
          "Rhizocephala",
          "Rhizocephala"
         ],
         "x0": " ",
         "xaxis": "x",
         "y": {
          "bdata": "bLyfv+XROkCqWlBQOK0yQLMAuKZe/hZAz/FS2zCqOkDM7CQiUUQ5QA==",
          "dtype": "f8"
         },
         "y0": " ",
         "yaxis": "y"
        }
       ],
       "layout": {
        "boxmode": "overlay",
        "legend": {
         "title": {
          "text": "infraclass"
         },
         "tracegroupgap": 0
        },
        "margin": {
         "t": 60
        },
        "template": {
         "data": {
          "bar": [
           {
            "error_x": {
             "color": "#2a3f5f"
            },
            "error_y": {
             "color": "#2a3f5f"
            },
            "marker": {
             "line": {
              "color": "#E5ECF6",
              "width": 0.5
             },
             "pattern": {
              "fillmode": "overlay",
              "size": 10,
              "solidity": 0.2
             }
            },
            "type": "bar"
           }
          ],
          "barpolar": [
           {
            "marker": {
             "line": {
              "color": "#E5ECF6",
              "width": 0.5
             },
             "pattern": {
              "fillmode": "overlay",
              "size": 10,
              "solidity": 0.2
             }
            },
            "type": "barpolar"
           }
          ],
          "carpet": [
           {
            "aaxis": {
             "endlinecolor": "#2a3f5f",
             "gridcolor": "white",
             "linecolor": "white",
             "minorgridcolor": "white",
             "startlinecolor": "#2a3f5f"
            },
            "baxis": {
             "endlinecolor": "#2a3f5f",
             "gridcolor": "white",
             "linecolor": "white",
             "minorgridcolor": "white",
             "startlinecolor": "#2a3f5f"
            },
            "type": "carpet"
           }
          ],
          "choropleth": [
           {
            "colorbar": {
             "outlinewidth": 0,
             "ticks": ""
            },
            "type": "choropleth"
           }
          ],
          "contour": [
           {
            "colorbar": {
             "outlinewidth": 0,
             "ticks": ""
            },
            "colorscale": [
             [
              0,
              "#0d0887"
             ],
             [
              0.1111111111111111,
              "#46039f"
             ],
             [
              0.2222222222222222,
              "#7201a8"
             ],
             [
              0.3333333333333333,
              "#9c179e"
             ],
             [
              0.4444444444444444,
              "#bd3786"
             ],
             [
              0.5555555555555556,
              "#d8576b"
             ],
             [
              0.6666666666666666,
              "#ed7953"
             ],
             [
              0.7777777777777778,
              "#fb9f3a"
             ],
             [
              0.8888888888888888,
              "#fdca26"
             ],
             [
              1,
              "#f0f921"
             ]
            ],
            "type": "contour"
           }
          ],
          "contourcarpet": [
           {
            "colorbar": {
             "outlinewidth": 0,
             "ticks": ""
            },
            "type": "contourcarpet"
           }
          ],
          "heatmap": [
           {
            "colorbar": {
             "outlinewidth": 0,
             "ticks": ""
            },
            "colorscale": [
             [
              0,
              "#0d0887"
             ],
             [
              0.1111111111111111,
              "#46039f"
             ],
             [
              0.2222222222222222,
              "#7201a8"
             ],
             [
              0.3333333333333333,
              "#9c179e"
             ],
             [
              0.4444444444444444,
              "#bd3786"
             ],
             [
              0.5555555555555556,
              "#d8576b"
             ],
             [
              0.6666666666666666,
              "#ed7953"
             ],
             [
              0.7777777777777778,
              "#fb9f3a"
             ],
             [
              0.8888888888888888,
              "#fdca26"
             ],
             [
              1,
              "#f0f921"
             ]
            ],
            "type": "heatmap"
           }
          ],
          "histogram": [
           {
            "marker": {
             "pattern": {
              "fillmode": "overlay",
              "size": 10,
              "solidity": 0.2
             }
            },
            "type": "histogram"
           }
          ],
          "histogram2d": [
           {
            "colorbar": {
             "outlinewidth": 0,
             "ticks": ""
            },
            "colorscale": [
             [
              0,
              "#0d0887"
             ],
             [
              0.1111111111111111,
              "#46039f"
             ],
             [
              0.2222222222222222,
              "#7201a8"
             ],
             [
              0.3333333333333333,
              "#9c179e"
             ],
             [
              0.4444444444444444,
              "#bd3786"
             ],
             [
              0.5555555555555556,
              "#d8576b"
             ],
             [
              0.6666666666666666,
              "#ed7953"
             ],
             [
              0.7777777777777778,
              "#fb9f3a"
             ],
             [
              0.8888888888888888,
              "#fdca26"
             ],
             [
              1,
              "#f0f921"
             ]
            ],
            "type": "histogram2d"
           }
          ],
          "histogram2dcontour": [
           {
            "colorbar": {
             "outlinewidth": 0,
             "ticks": ""
            },
            "colorscale": [
             [
              0,
              "#0d0887"
             ],
             [
              0.1111111111111111,
              "#46039f"
             ],
             [
              0.2222222222222222,
              "#7201a8"
             ],
             [
              0.3333333333333333,
              "#9c179e"
             ],
             [
              0.4444444444444444,
              "#bd3786"
             ],
             [
              0.5555555555555556,
              "#d8576b"
             ],
             [
              0.6666666666666666,
              "#ed7953"
             ],
             [
              0.7777777777777778,
              "#fb9f3a"
             ],
             [
              0.8888888888888888,
              "#fdca26"
             ],
             [
              1,
              "#f0f921"
             ]
            ],
            "type": "histogram2dcontour"
           }
          ],
          "mesh3d": [
           {
            "colorbar": {
             "outlinewidth": 0,
             "ticks": ""
            },
            "type": "mesh3d"
           }
          ],
          "parcoords": [
           {
            "line": {
             "colorbar": {
              "outlinewidth": 0,
              "ticks": ""
             }
            },
            "type": "parcoords"
           }
          ],
          "pie": [
           {
            "automargin": true,
            "type": "pie"
           }
          ],
          "scatter": [
           {
            "fillpattern": {
             "fillmode": "overlay",
             "size": 10,
             "solidity": 0.2
            },
            "type": "scatter"
           }
          ],
          "scatter3d": [
           {
            "line": {
             "colorbar": {
              "outlinewidth": 0,
              "ticks": ""
             }
            },
            "marker": {
             "colorbar": {
              "outlinewidth": 0,
              "ticks": ""
             }
            },
            "type": "scatter3d"
           }
          ],
          "scattercarpet": [
           {
            "marker": {
             "colorbar": {
              "outlinewidth": 0,
              "ticks": ""
             }
            },
            "type": "scattercarpet"
           }
          ],
          "scattergeo": [
           {
            "marker": {
             "colorbar": {
              "outlinewidth": 0,
              "ticks": ""
             }
            },
            "type": "scattergeo"
           }
          ],
          "scattergl": [
           {
            "marker": {
             "colorbar": {
              "outlinewidth": 0,
              "ticks": ""
             }
            },
            "type": "scattergl"
           }
          ],
          "scattermap": [
           {
            "marker": {
             "colorbar": {
              "outlinewidth": 0,
              "ticks": ""
             }
            },
            "type": "scattermap"
           }
          ],
          "scattermapbox": [
           {
            "marker": {
             "colorbar": {
              "outlinewidth": 0,
              "ticks": ""
             }
            },
            "type": "scattermapbox"
           }
          ],
          "scatterpolar": [
           {
            "marker": {
             "colorbar": {
              "outlinewidth": 0,
              "ticks": ""
             }
            },
            "type": "scatterpolar"
           }
          ],
          "scatterpolargl": [
           {
            "marker": {
             "colorbar": {
              "outlinewidth": 0,
              "ticks": ""
             }
            },
            "type": "scatterpolargl"
           }
          ],
          "scatterternary": [
           {
            "marker": {
             "colorbar": {
              "outlinewidth": 0,
              "ticks": ""
             }
            },
            "type": "scatterternary"
           }
          ],
          "surface": [
           {
            "colorbar": {
             "outlinewidth": 0,
             "ticks": ""
            },
            "colorscale": [
             [
              0,
              "#0d0887"
             ],
             [
              0.1111111111111111,
              "#46039f"
             ],
             [
              0.2222222222222222,
              "#7201a8"
             ],
             [
              0.3333333333333333,
              "#9c179e"
             ],
             [
              0.4444444444444444,
              "#bd3786"
             ],
             [
              0.5555555555555556,
              "#d8576b"
             ],
             [
              0.6666666666666666,
              "#ed7953"
             ],
             [
              0.7777777777777778,
              "#fb9f3a"
             ],
             [
              0.8888888888888888,
              "#fdca26"
             ],
             [
              1,
              "#f0f921"
             ]
            ],
            "type": "surface"
           }
          ],
          "table": [
           {
            "cells": {
             "fill": {
              "color": "#EBF0F8"
             },
             "line": {
              "color": "white"
             }
            },
            "header": {
             "fill": {
              "color": "#C8D4E3"
             },
             "line": {
              "color": "white"
             }
            },
            "type": "table"
           }
          ]
         },
         "layout": {
          "annotationdefaults": {
           "arrowcolor": "#2a3f5f",
           "arrowhead": 0,
           "arrowwidth": 1
          },
          "autotypenumbers": "strict",
          "coloraxis": {
           "colorbar": {
            "outlinewidth": 0,
            "ticks": ""
           }
          },
          "colorscale": {
           "diverging": [
            [
             0,
             "#8e0152"
            ],
            [
             0.1,
             "#c51b7d"
            ],
            [
             0.2,
             "#de77ae"
            ],
            [
             0.3,
             "#f1b6da"
            ],
            [
             0.4,
             "#fde0ef"
            ],
            [
             0.5,
             "#f7f7f7"
            ],
            [
             0.6,
             "#e6f5d0"
            ],
            [
             0.7,
             "#b8e186"
            ],
            [
             0.8,
             "#7fbc41"
            ],
            [
             0.9,
             "#4d9221"
            ],
            [
             1,
             "#276419"
            ]
           ],
           "sequential": [
            [
             0,
             "#0d0887"
            ],
            [
             0.1111111111111111,
             "#46039f"
            ],
            [
             0.2222222222222222,
             "#7201a8"
            ],
            [
             0.3333333333333333,
             "#9c179e"
            ],
            [
             0.4444444444444444,
             "#bd3786"
            ],
            [
             0.5555555555555556,
             "#d8576b"
            ],
            [
             0.6666666666666666,
             "#ed7953"
            ],
            [
             0.7777777777777778,
             "#fb9f3a"
            ],
            [
             0.8888888888888888,
             "#fdca26"
            ],
            [
             1,
             "#f0f921"
            ]
           ],
           "sequentialminus": [
            [
             0,
             "#0d0887"
            ],
            [
             0.1111111111111111,
             "#46039f"
            ],
            [
             0.2222222222222222,
             "#7201a8"
            ],
            [
             0.3333333333333333,
             "#9c179e"
            ],
            [
             0.4444444444444444,
             "#bd3786"
            ],
            [
             0.5555555555555556,
             "#d8576b"
            ],
            [
             0.6666666666666666,
             "#ed7953"
            ],
            [
             0.7777777777777778,
             "#fb9f3a"
            ],
            [
             0.8888888888888888,
             "#fdca26"
            ],
            [
             1,
             "#f0f921"
            ]
           ]
          },
          "colorway": [
           "#636efa",
           "#EF553B",
           "#00cc96",
           "#ab63fa",
           "#FFA15A",
           "#19d3f3",
           "#FF6692",
           "#B6E880",
           "#FF97FF",
           "#FECB52"
          ],
          "font": {
           "color": "#2a3f5f"
          },
          "geo": {
           "bgcolor": "white",
           "lakecolor": "white",
           "landcolor": "#E5ECF6",
           "showlakes": true,
           "showland": true,
           "subunitcolor": "white"
          },
          "hoverlabel": {
           "align": "left"
          },
          "hovermode": "closest",
          "mapbox": {
           "style": "light"
          },
          "paper_bgcolor": "white",
          "plot_bgcolor": "#E5ECF6",
          "polar": {
           "angularaxis": {
            "gridcolor": "white",
            "linecolor": "white",
            "ticks": ""
           },
           "bgcolor": "#E5ECF6",
           "radialaxis": {
            "gridcolor": "white",
            "linecolor": "white",
            "ticks": ""
           }
          },
          "scene": {
           "xaxis": {
            "backgroundcolor": "#E5ECF6",
            "gridcolor": "white",
            "gridwidth": 2,
            "linecolor": "white",
            "showbackground": true,
            "ticks": "",
            "zerolinecolor": "white"
           },
           "yaxis": {
            "backgroundcolor": "#E5ECF6",
            "gridcolor": "white",
            "gridwidth": 2,
            "linecolor": "white",
            "showbackground": true,
            "ticks": "",
            "zerolinecolor": "white"
           },
           "zaxis": {
            "backgroundcolor": "#E5ECF6",
            "gridcolor": "white",
            "gridwidth": 2,
            "linecolor": "white",
            "showbackground": true,
            "ticks": "",
            "zerolinecolor": "white"
           }
          },
          "shapedefaults": {
           "line": {
            "color": "#2a3f5f"
           }
          },
          "ternary": {
           "aaxis": {
            "gridcolor": "white",
            "linecolor": "white",
            "ticks": ""
           },
           "baxis": {
            "gridcolor": "white",
            "linecolor": "white",
            "ticks": ""
           },
           "bgcolor": "#E5ECF6",
           "caxis": {
            "gridcolor": "white",
            "linecolor": "white",
            "ticks": ""
           }
          },
          "title": {
           "x": 0.05
          },
          "xaxis": {
           "automargin": true,
           "gridcolor": "white",
           "linecolor": "white",
           "ticks": "",
           "title": {
            "standoff": 15
           },
           "zerolinecolor": "white",
           "zerolinewidth": 2
          },
          "yaxis": {
           "automargin": true,
           "gridcolor": "white",
           "linecolor": "white",
           "ticks": "",
           "title": {
            "standoff": 15
           },
           "zerolinecolor": "white",
           "zerolinewidth": 2
          }
         }
        },
        "xaxis": {
         "anchor": "y",
         "categoryarray": [
          "Thoracica",
          "Rhizocephala",
          null
         ],
         "categoryorder": "array",
         "domain": [
          0,
          1
         ],
         "title": {
          "text": "infraclass"
         }
        },
        "yaxis": {
         "anchor": "x",
         "domain": [
          0,
          1
         ],
         "title": {
          "text": "Richness"
         }
        }
       }
      }
     },
     "metadata": {},
     "output_type": "display_data"
    }
   ],
   "source": [
    "fig = px.box(viromeDF, x='infraclass', y=\"Richness\", color='infraclass', points='all',)\n",
    "fig.show()"
   ]
  },
  {
   "cell_type": "markdown",
   "id": "4f4da698",
   "metadata": {},
   "source": []
  },
  {
   "cell_type": "code",
   "execution_count": 475,
   "id": "b9bf8a63",
   "metadata": {},
   "outputs": [
    {
     "data": {
      "text/html": [
       "<div>\n",
       "<style scoped>\n",
       "    .dataframe tbody tr th:only-of-type {\n",
       "        vertical-align: middle;\n",
       "    }\n",
       "\n",
       "    .dataframe tbody tr th {\n",
       "        vertical-align: top;\n",
       "    }\n",
       "\n",
       "    .dataframe thead th {\n",
       "        text-align: right;\n",
       "    }\n",
       "</style>\n",
       "<table border=\"1\" class=\"dataframe\">\n",
       "  <thead>\n",
       "    <tr style=\"text-align: right;\">\n",
       "      <th></th>\n",
       "      <th>W</th>\n",
       "      <th>pval</th>\n",
       "      <th>equal_var</th>\n",
       "    </tr>\n",
       "  </thead>\n",
       "  <tbody>\n",
       "    <tr>\n",
       "      <th>levene</th>\n",
       "      <td>0.000317</td>\n",
       "      <td>0.985919</td>\n",
       "      <td>True</td>\n",
       "    </tr>\n",
       "  </tbody>\n",
       "</table>\n",
       "</div>"
      ],
      "text/plain": [
       "               W      pval  equal_var\n",
       "levene  0.000317  0.985919       True"
      ]
     },
     "execution_count": 475,
     "metadata": {},
     "output_type": "execute_result"
    }
   ],
   "source": [
    "\n",
    "import pingouin as pg\n",
    "\n",
    "\n",
    "hmos = pg.homoscedasticity(viromeDF, dv='Richness', group='infraclass', method='levene', alpha=0.05)\n",
    "hmos"
   ]
  },
  {
   "cell_type": "code",
   "execution_count": 476,
   "id": "250c7fde",
   "metadata": {},
   "outputs": [
    {
     "data": {
      "text/html": [
       "<div>\n",
       "<style scoped>\n",
       "    .dataframe tbody tr th:only-of-type {\n",
       "        vertical-align: middle;\n",
       "    }\n",
       "\n",
       "    .dataframe tbody tr th {\n",
       "        vertical-align: top;\n",
       "    }\n",
       "\n",
       "    .dataframe thead th {\n",
       "        text-align: right;\n",
       "    }\n",
       "</style>\n",
       "<table border=\"1\" class=\"dataframe\">\n",
       "  <thead>\n",
       "    <tr style=\"text-align: right;\">\n",
       "      <th></th>\n",
       "      <th>W</th>\n",
       "      <th>pval</th>\n",
       "      <th>equal_var</th>\n",
       "    </tr>\n",
       "  </thead>\n",
       "  <tbody>\n",
       "    <tr>\n",
       "      <th>levene</th>\n",
       "      <td>0.000317</td>\n",
       "      <td>0.985919</td>\n",
       "      <td>True</td>\n",
       "    </tr>\n",
       "  </tbody>\n",
       "</table>\n",
       "</div>"
      ],
      "text/plain": [
       "               W      pval  equal_var\n",
       "levene  0.000317  0.985919       True"
      ]
     },
     "execution_count": 476,
     "metadata": {},
     "output_type": "execute_result"
    }
   ],
   "source": [
    "\n",
    "hmos = pg.homoscedasticity(viromeDF, dv='Richness', group='infraclass', method='levene', alpha=0.05)\n",
    "hmos"
   ]
  },
  {
   "cell_type": "code",
   "execution_count": 477,
   "id": "92ebf5ae",
   "metadata": {},
   "outputs": [
    {
     "data": {
      "text/html": [
       "<div>\n",
       "<style scoped>\n",
       "    .dataframe tbody tr th:only-of-type {\n",
       "        vertical-align: middle;\n",
       "    }\n",
       "\n",
       "    .dataframe tbody tr th {\n",
       "        vertical-align: top;\n",
       "    }\n",
       "\n",
       "    .dataframe thead th {\n",
       "        text-align: right;\n",
       "    }\n",
       "</style>\n",
       "<table border=\"1\" class=\"dataframe\">\n",
       "  <thead>\n",
       "    <tr style=\"text-align: right;\">\n",
       "      <th></th>\n",
       "      <th>Source</th>\n",
       "      <th>ddof1</th>\n",
       "      <th>ddof2</th>\n",
       "      <th>F</th>\n",
       "      <th>p-unc</th>\n",
       "      <th>np2</th>\n",
       "    </tr>\n",
       "  </thead>\n",
       "  <tbody>\n",
       "    <tr>\n",
       "      <th>0</th>\n",
       "      <td>infraclass</td>\n",
       "      <td>1</td>\n",
       "      <td>28</td>\n",
       "      <td>6.278849</td>\n",
       "      <td>0.018307</td>\n",
       "      <td>0.18317</td>\n",
       "    </tr>\n",
       "  </tbody>\n",
       "</table>\n",
       "</div>"
      ],
      "text/plain": [
       "       Source  ddof1  ddof2         F     p-unc      np2\n",
       "0  infraclass      1     28  6.278849  0.018307  0.18317"
      ]
     },
     "execution_count": 477,
     "metadata": {},
     "output_type": "execute_result"
    }
   ],
   "source": [
    "aov_richness = pg.anova(dv='Richness', between='infraclass', data=viromeDF)\n",
    "aov_richness"
   ]
  },
  {
   "cell_type": "code",
   "execution_count": 478,
   "id": "cd2c4d71",
   "metadata": {},
   "outputs": [
    {
     "data": {
      "text/html": [
       "<div>\n",
       "<style scoped>\n",
       "    .dataframe tbody tr th:only-of-type {\n",
       "        vertical-align: middle;\n",
       "    }\n",
       "\n",
       "    .dataframe tbody tr th {\n",
       "        vertical-align: top;\n",
       "    }\n",
       "\n",
       "    .dataframe thead th {\n",
       "        text-align: right;\n",
       "    }\n",
       "</style>\n",
       "<table border=\"1\" class=\"dataframe\">\n",
       "  <thead>\n",
       "    <tr style=\"text-align: right;\">\n",
       "      <th></th>\n",
       "      <th>Source</th>\n",
       "      <th>ddof1</th>\n",
       "      <th>ddof2</th>\n",
       "      <th>F</th>\n",
       "      <th>p-unc</th>\n",
       "      <th>np2</th>\n",
       "    </tr>\n",
       "  </thead>\n",
       "  <tbody>\n",
       "    <tr>\n",
       "      <th>0</th>\n",
       "      <td>infraclass</td>\n",
       "      <td>1</td>\n",
       "      <td>4.106549</td>\n",
       "      <td>1.455873</td>\n",
       "      <td>0.292465</td>\n",
       "      <td>0.181173</td>\n",
       "    </tr>\n",
       "  </tbody>\n",
       "</table>\n",
       "</div>"
      ],
      "text/plain": [
       "       Source  ddof1     ddof2         F     p-unc       np2\n",
       "0  infraclass      1  4.106549  1.455873  0.292465  0.181173"
      ]
     },
     "execution_count": 478,
     "metadata": {},
     "output_type": "execute_result"
    }
   ],
   "source": [
    "aov_shannon = pg.welch_anova(dv='Shannon', between='infraclass', data=viromeDF)\n",
    "aov_shannon"
   ]
  },
  {
   "cell_type": "code",
   "execution_count": 479,
   "id": "d834520f",
   "metadata": {},
   "outputs": [],
   "source": [
    "## add line with total viral reads\n",
    "# this is the sum of all viral reads in the genus level\n",
    "viromeDF.insert(len(viromeDF.columns), 'total_viral_reads', viromeDF[ViralGenus].sum(axis='columns'))\n"
   ]
  },
  {
   "cell_type": "code",
   "execution_count": 480,
   "id": "bb12260a",
   "metadata": {},
   "outputs": [],
   "source": [
    "viromeDF_relative = viromeDF[ViralGenus + ['total_viral_reads']]\n",
    "viromeDF_relative = viromeDF_relative.apply(lambda x : x / x['total_viral_reads'] * 100, axis=1) # This is porcentage of viral reads\n",
    "virome_relative_pseudocount = viromeDF_relative.replace(0.0, 0.0000000001) # uses a pseudocount strategy to run clr"
   ]
  },
  {
   "cell_type": "code",
   "execution_count": 481,
   "id": "c0d8fddb",
   "metadata": {},
   "outputs": [
    {
     "data": {
      "text/plain": [
       "Index(['DRR277134', 'DRR311751', 'DRR345795', 'SRR4113502', 'SRR5140130',\n",
       "       'SRR5140107', 'SRR5140144', 'SRR5198727', 'SRR5832119', 'SRR6327827',\n",
       "       'SRR6818896', 'SRR7594090', 'SRR8486073', 'SRR10527303', 'SRR10523768',\n",
       "       'SRR10995811', 'SRR12539558', 'SRR13051591', 'SRR13580929',\n",
       "       'SRR13557739', 'SRR13528008', 'SRR23490783', 'SRR13164554',\n",
       "       'SRR13169468', 'SRR13169467', 'SRR13523349', 'SRR13518267',\n",
       "       'SRR14354747', 'SRR17651134', 'SRR23562286', 'SRR23562283',\n",
       "       'SRR31412042'],\n",
       "      dtype='object', name='Run')"
      ]
     },
     "execution_count": 481,
     "metadata": {},
     "output_type": "execute_result"
    }
   ],
   "source": [
    "viromeDF.set_index('Run').index"
   ]
  },
  {
   "cell_type": "code",
   "execution_count": 482,
   "id": "d3e9ed3f",
   "metadata": {},
   "outputs": [
    {
     "data": {
      "text/html": [
       "<div>\n",
       "<style scoped>\n",
       "    .dataframe tbody tr th:only-of-type {\n",
       "        vertical-align: middle;\n",
       "    }\n",
       "\n",
       "    .dataframe tbody tr th {\n",
       "        vertical-align: top;\n",
       "    }\n",
       "\n",
       "    .dataframe thead th {\n",
       "        text-align: right;\n",
       "    }\n",
       "</style>\n",
       "<table border=\"1\" class=\"dataframe\">\n",
       "  <thead>\n",
       "    <tr style=\"text-align: right;\">\n",
       "      <th></th>\n",
       "      <th>infraclass</th>\n",
       "      <th>species</th>\n",
       "      <th>Run</th>\n",
       "      <th>Whispovirus</th>\n",
       "      <th>Emdodecavirus</th>\n",
       "      <th>Capripoxvirus</th>\n",
       "      <th>Elanorvirus</th>\n",
       "      <th>Immutovirus</th>\n",
       "      <th>Heverleevirus</th>\n",
       "      <th>Rockvillevirus</th>\n",
       "      <th>...</th>\n",
       "      <th>Amalgavirus</th>\n",
       "      <th>Longwoodvirus</th>\n",
       "      <th>Corgivirus</th>\n",
       "      <th>Foetvirus</th>\n",
       "      <th>Faunusvirus</th>\n",
       "      <th>Metaavulavirus</th>\n",
       "      <th>Duonihilunusvirus</th>\n",
       "      <th>Sholavirus</th>\n",
       "      <th>Babuvirus</th>\n",
       "      <th>Felispumavirus</th>\n",
       "    </tr>\n",
       "  </thead>\n",
       "  <tbody>\n",
       "    <tr>\n",
       "      <th>0</th>\n",
       "      <td>Thoracica</td>\n",
       "      <td>Megabalanus rosa</td>\n",
       "      <td>DRR277134</td>\n",
       "      <td>15.227167</td>\n",
       "      <td>16.004013</td>\n",
       "      <td>15.194906</td>\n",
       "      <td>-3.205806</td>\n",
       "      <td>11.084033</td>\n",
       "      <td>15.572669</td>\n",
       "      <td>-3.205806</td>\n",
       "      <td>...</td>\n",
       "      <td>-3.205806</td>\n",
       "      <td>-3.205806</td>\n",
       "      <td>-3.205806</td>\n",
       "      <td>-3.205806</td>\n",
       "      <td>-3.205806</td>\n",
       "      <td>-3.205806</td>\n",
       "      <td>-3.205806</td>\n",
       "      <td>-3.205806</td>\n",
       "      <td>-3.205806</td>\n",
       "      <td>-3.205806</td>\n",
       "    </tr>\n",
       "    <tr>\n",
       "      <th>1</th>\n",
       "      <td>Rhizocephala</td>\n",
       "      <td>Sacculina polygenea</td>\n",
       "      <td>DRR311751</td>\n",
       "      <td>16.747992</td>\n",
       "      <td>11.305574</td>\n",
       "      <td>14.138788</td>\n",
       "      <td>-3.275441</td>\n",
       "      <td>16.032962</td>\n",
       "      <td>16.892823</td>\n",
       "      <td>-3.275441</td>\n",
       "      <td>...</td>\n",
       "      <td>-3.275441</td>\n",
       "      <td>-3.275441</td>\n",
       "      <td>-3.275441</td>\n",
       "      <td>-3.275441</td>\n",
       "      <td>-3.275441</td>\n",
       "      <td>-3.275441</td>\n",
       "      <td>-3.275441</td>\n",
       "      <td>-3.275441</td>\n",
       "      <td>-3.275441</td>\n",
       "      <td>-3.275441</td>\n",
       "    </tr>\n",
       "    <tr>\n",
       "      <th>2</th>\n",
       "      <td>Thoracica</td>\n",
       "      <td>Balanus rostratus</td>\n",
       "      <td>DRR345795</td>\n",
       "      <td>16.517388</td>\n",
       "      <td>16.014284</td>\n",
       "      <td>15.154083</td>\n",
       "      <td>-2.752202</td>\n",
       "      <td>17.518362</td>\n",
       "      <td>15.321137</td>\n",
       "      <td>13.449335</td>\n",
       "      <td>...</td>\n",
       "      <td>-2.752202</td>\n",
       "      <td>-2.752202</td>\n",
       "      <td>-2.752202</td>\n",
       "      <td>-2.752202</td>\n",
       "      <td>-2.752202</td>\n",
       "      <td>-2.752202</td>\n",
       "      <td>-2.752202</td>\n",
       "      <td>-2.752202</td>\n",
       "      <td>-2.752202</td>\n",
       "      <td>-2.752202</td>\n",
       "    </tr>\n",
       "    <tr>\n",
       "      <th>3</th>\n",
       "      <td>Thoracica</td>\n",
       "      <td>Chthamalus fragilis</td>\n",
       "      <td>SRR4113502</td>\n",
       "      <td>14.915292</td>\n",
       "      <td>14.135133</td>\n",
       "      <td>16.081043</td>\n",
       "      <td>-3.864871</td>\n",
       "      <td>15.864372</td>\n",
       "      <td>14.828280</td>\n",
       "      <td>14.915292</td>\n",
       "      <td>...</td>\n",
       "      <td>-3.864871</td>\n",
       "      <td>-3.864871</td>\n",
       "      <td>-3.864871</td>\n",
       "      <td>-3.864871</td>\n",
       "      <td>-3.864871</td>\n",
       "      <td>-3.864871</td>\n",
       "      <td>-3.864871</td>\n",
       "      <td>-3.864871</td>\n",
       "      <td>-3.864871</td>\n",
       "      <td>-3.864871</td>\n",
       "    </tr>\n",
       "    <tr>\n",
       "      <th>4</th>\n",
       "      <td>Rhizocephala</td>\n",
       "      <td>Loxothylacus texanus</td>\n",
       "      <td>SRR5140130</td>\n",
       "      <td>15.456166</td>\n",
       "      <td>14.763019</td>\n",
       "      <td>17.941073</td>\n",
       "      <td>-2.105895</td>\n",
       "      <td>14.763019</td>\n",
       "      <td>16.842460</td>\n",
       "      <td>-2.105895</td>\n",
       "      <td>...</td>\n",
       "      <td>-2.105895</td>\n",
       "      <td>-2.105895</td>\n",
       "      <td>-2.105895</td>\n",
       "      <td>-2.105895</td>\n",
       "      <td>-2.105895</td>\n",
       "      <td>-2.105895</td>\n",
       "      <td>-2.105895</td>\n",
       "      <td>-2.105895</td>\n",
       "      <td>-2.105895</td>\n",
       "      <td>-2.105895</td>\n",
       "    </tr>\n",
       "    <tr>\n",
       "      <th>5</th>\n",
       "      <td>Thoracica</td>\n",
       "      <td>Pollicipes polymerus Sowerby, 1833</td>\n",
       "      <td>SRR5140107</td>\n",
       "      <td>-2.172700</td>\n",
       "      <td>17.922827</td>\n",
       "      <td>14.978388</td>\n",
       "      <td>-2.172700</td>\n",
       "      <td>18.069431</td>\n",
       "      <td>16.770148</td>\n",
       "      <td>-2.172700</td>\n",
       "      <td>...</td>\n",
       "      <td>-2.172700</td>\n",
       "      <td>-2.172700</td>\n",
       "      <td>-2.172700</td>\n",
       "      <td>-2.172700</td>\n",
       "      <td>-2.172700</td>\n",
       "      <td>-2.172700</td>\n",
       "      <td>-2.172700</td>\n",
       "      <td>-2.172700</td>\n",
       "      <td>-2.172700</td>\n",
       "      <td>-2.172700</td>\n",
       "    </tr>\n",
       "    <tr>\n",
       "      <th>6</th>\n",
       "      <td>Thoracica</td>\n",
       "      <td>Sessilia sp. DNAS-28B-224092</td>\n",
       "      <td>SRR5140144</td>\n",
       "      <td>14.069813</td>\n",
       "      <td>12.529368</td>\n",
       "      <td>13.733341</td>\n",
       "      <td>-4.007227</td>\n",
       "      <td>16.131236</td>\n",
       "      <td>13.627980</td>\n",
       "      <td>13.627980</td>\n",
       "      <td>...</td>\n",
       "      <td>-4.007227</td>\n",
       "      <td>-4.007227</td>\n",
       "      <td>-4.007227</td>\n",
       "      <td>-4.007227</td>\n",
       "      <td>-4.007227</td>\n",
       "      <td>-4.007227</td>\n",
       "      <td>-4.007227</td>\n",
       "      <td>-4.007227</td>\n",
       "      <td>-4.007227</td>\n",
       "      <td>-4.007227</td>\n",
       "    </tr>\n",
       "    <tr>\n",
       "      <th>7</th>\n",
       "      <td>NaN</td>\n",
       "      <td>Trachelipus rathkii</td>\n",
       "      <td>SRR5198727</td>\n",
       "      <td>15.234841</td>\n",
       "      <td>10.670493</td>\n",
       "      <td>14.541694</td>\n",
       "      <td>-3.590160</td>\n",
       "      <td>16.099839</td>\n",
       "      <td>13.155400</td>\n",
       "      <td>-3.590160</td>\n",
       "      <td>...</td>\n",
       "      <td>-3.590160</td>\n",
       "      <td>-3.590160</td>\n",
       "      <td>-3.590160</td>\n",
       "      <td>-3.590160</td>\n",
       "      <td>-3.590160</td>\n",
       "      <td>-3.590160</td>\n",
       "      <td>-3.590160</td>\n",
       "      <td>-3.590160</td>\n",
       "      <td>-3.590160</td>\n",
       "      <td>-3.590160</td>\n",
       "    </tr>\n",
       "    <tr>\n",
       "      <th>8</th>\n",
       "      <td>Thoracica</td>\n",
       "      <td>Pollicipes pollicipes</td>\n",
       "      <td>SRR5832119</td>\n",
       "      <td>15.486868</td>\n",
       "      <td>17.149416</td>\n",
       "      <td>15.922186</td>\n",
       "      <td>-2.553385</td>\n",
       "      <td>14.475267</td>\n",
       "      <td>18.016227</td>\n",
       "      <td>-2.553385</td>\n",
       "      <td>...</td>\n",
       "      <td>-2.553385</td>\n",
       "      <td>-2.553385</td>\n",
       "      <td>-2.553385</td>\n",
       "      <td>-2.553385</td>\n",
       "      <td>-2.553385</td>\n",
       "      <td>-2.553385</td>\n",
       "      <td>-2.553385</td>\n",
       "      <td>-2.553385</td>\n",
       "      <td>-2.553385</td>\n",
       "      <td>-2.553385</td>\n",
       "    </tr>\n",
       "    <tr>\n",
       "      <th>9</th>\n",
       "      <td>Thoracica</td>\n",
       "      <td>Balanus reticulatus Utinomi, 1967</td>\n",
       "      <td>SRR6327827</td>\n",
       "      <td>14.745036</td>\n",
       "      <td>14.271251</td>\n",
       "      <td>14.603385</td>\n",
       "      <td>-4.764337</td>\n",
       "      <td>11.873356</td>\n",
       "      <td>15.942383</td>\n",
       "      <td>10.081597</td>\n",
       "      <td>...</td>\n",
       "      <td>-4.764337</td>\n",
       "      <td>-4.764337</td>\n",
       "      <td>-4.764337</td>\n",
       "      <td>-4.764337</td>\n",
       "      <td>-4.764337</td>\n",
       "      <td>-4.764337</td>\n",
       "      <td>-4.764337</td>\n",
       "      <td>-4.764337</td>\n",
       "      <td>-4.764337</td>\n",
       "      <td>-4.764337</td>\n",
       "    </tr>\n",
       "    <tr>\n",
       "      <th>10</th>\n",
       "      <td>Thoracica</td>\n",
       "      <td>Lepas (Lepas) anatifera</td>\n",
       "      <td>SRR6818896</td>\n",
       "      <td>17.722501</td>\n",
       "      <td>-3.667245</td>\n",
       "      <td>17.114253</td>\n",
       "      <td>-3.667245</td>\n",
       "      <td>13.758518</td>\n",
       "      <td>15.750948</td>\n",
       "      <td>-3.667245</td>\n",
       "      <td>...</td>\n",
       "      <td>-3.667245</td>\n",
       "      <td>-3.667245</td>\n",
       "      <td>-3.667245</td>\n",
       "      <td>-3.667245</td>\n",
       "      <td>-3.667245</td>\n",
       "      <td>-3.667245</td>\n",
       "      <td>-3.667245</td>\n",
       "      <td>-3.667245</td>\n",
       "      <td>-3.667245</td>\n",
       "      <td>-3.667245</td>\n",
       "    </tr>\n",
       "    <tr>\n",
       "      <th>11</th>\n",
       "      <td>NaN</td>\n",
       "      <td>white shrimp</td>\n",
       "      <td>SRR7594090</td>\n",
       "      <td>15.937019</td>\n",
       "      <td>-1.483251</td>\n",
       "      <td>17.441096</td>\n",
       "      <td>-1.483251</td>\n",
       "      <td>15.243871</td>\n",
       "      <td>15.937019</td>\n",
       "      <td>-1.483251</td>\n",
       "      <td>...</td>\n",
       "      <td>-1.483251</td>\n",
       "      <td>-1.483251</td>\n",
       "      <td>-1.483251</td>\n",
       "      <td>-1.483251</td>\n",
       "      <td>-1.483251</td>\n",
       "      <td>-1.483251</td>\n",
       "      <td>-1.483251</td>\n",
       "      <td>-1.483251</td>\n",
       "      <td>-1.483251</td>\n",
       "      <td>-1.483251</td>\n",
       "    </tr>\n",
       "    <tr>\n",
       "      <th>12</th>\n",
       "      <td>Thoracica</td>\n",
       "      <td>Neolepas sp. 1 SH-2015</td>\n",
       "      <td>SRR8486073</td>\n",
       "      <td>13.353920</td>\n",
       "      <td>12.249477</td>\n",
       "      <td>12.510490</td>\n",
       "      <td>-6.008252</td>\n",
       "      <td>14.067212</td>\n",
       "      <td>12.968599</td>\n",
       "      <td>9.592720</td>\n",
       "      <td>...</td>\n",
       "      <td>-6.008252</td>\n",
       "      <td>-6.008252</td>\n",
       "      <td>-6.008252</td>\n",
       "      <td>-6.008252</td>\n",
       "      <td>-6.008252</td>\n",
       "      <td>-6.008252</td>\n",
       "      <td>-6.008252</td>\n",
       "      <td>-6.008252</td>\n",
       "      <td>-6.008252</td>\n",
       "      <td>-6.008252</td>\n",
       "    </tr>\n",
       "    <tr>\n",
       "      <th>13</th>\n",
       "      <td>Thoracica</td>\n",
       "      <td>Octolasmis warwickii</td>\n",
       "      <td>SRR10527303</td>\n",
       "      <td>16.328215</td>\n",
       "      <td>12.358656</td>\n",
       "      <td>11.675170</td>\n",
       "      <td>-6.003482</td>\n",
       "      <td>9.669837</td>\n",
       "      <td>13.444238</td>\n",
       "      <td>-6.003482</td>\n",
       "      <td>...</td>\n",
       "      <td>-6.003482</td>\n",
       "      <td>-6.003482</td>\n",
       "      <td>-6.003482</td>\n",
       "      <td>-6.003482</td>\n",
       "      <td>-6.003482</td>\n",
       "      <td>-6.003482</td>\n",
       "      <td>-6.003482</td>\n",
       "      <td>-6.003482</td>\n",
       "      <td>-6.003482</td>\n",
       "      <td>-6.003482</td>\n",
       "    </tr>\n",
       "    <tr>\n",
       "      <th>14</th>\n",
       "      <td>Thoracica</td>\n",
       "      <td>Poecilasma gigas</td>\n",
       "      <td>SRR10523768</td>\n",
       "      <td>16.263300</td>\n",
       "      <td>12.872502</td>\n",
       "      <td>15.116508</td>\n",
       "      <td>-5.068265</td>\n",
       "      <td>8.812059</td>\n",
       "      <td>12.549728</td>\n",
       "      <td>8.812059</td>\n",
       "      <td>...</td>\n",
       "      <td>8.812059</td>\n",
       "      <td>12.662206</td>\n",
       "      <td>8.812059</td>\n",
       "      <td>8.812059</td>\n",
       "      <td>10.757969</td>\n",
       "      <td>11.584647</td>\n",
       "      <td>8.812059</td>\n",
       "      <td>10.757969</td>\n",
       "      <td>8.812059</td>\n",
       "      <td>8.812059</td>\n",
       "    </tr>\n",
       "    <tr>\n",
       "      <th>15</th>\n",
       "      <td>Thoracica</td>\n",
       "      <td>Chelonibia testudinaria</td>\n",
       "      <td>SRR10995811</td>\n",
       "      <td>17.779533</td>\n",
       "      <td>15.311434</td>\n",
       "      <td>15.781438</td>\n",
       "      <td>-2.738442</td>\n",
       "      <td>-2.738442</td>\n",
       "      <td>17.530637</td>\n",
       "      <td>-2.738442</td>\n",
       "      <td>...</td>\n",
       "      <td>-2.738442</td>\n",
       "      <td>-2.738442</td>\n",
       "      <td>-2.738442</td>\n",
       "      <td>-2.738442</td>\n",
       "      <td>-2.738442</td>\n",
       "      <td>-2.738442</td>\n",
       "      <td>-2.738442</td>\n",
       "      <td>-2.738442</td>\n",
       "      <td>-2.738442</td>\n",
       "      <td>-2.738442</td>\n",
       "    </tr>\n",
       "    <tr>\n",
       "      <th>16</th>\n",
       "      <td>Rhizocephala</td>\n",
       "      <td>Sacculina carcini Thompson, 1836</td>\n",
       "      <td>SRR12539558</td>\n",
       "      <td>-0.480603</td>\n",
       "      <td>-0.480603</td>\n",
       "      <td>-0.480603</td>\n",
       "      <td>-0.480603</td>\n",
       "      <td>-0.480603</td>\n",
       "      <td>-0.480603</td>\n",
       "      <td>-0.480603</td>\n",
       "      <td>...</td>\n",
       "      <td>-0.480603</td>\n",
       "      <td>-0.480603</td>\n",
       "      <td>-0.480603</td>\n",
       "      <td>-0.480603</td>\n",
       "      <td>-0.480603</td>\n",
       "      <td>-0.480603</td>\n",
       "      <td>-0.480603</td>\n",
       "      <td>-0.480603</td>\n",
       "      <td>-0.480603</td>\n",
       "      <td>-0.480603</td>\n",
       "    </tr>\n",
       "    <tr>\n",
       "      <th>17</th>\n",
       "      <td>Thoracica</td>\n",
       "      <td>Lepas anserifera</td>\n",
       "      <td>SRR13051591</td>\n",
       "      <td>16.371004</td>\n",
       "      <td>11.670524</td>\n",
       "      <td>14.213250</td>\n",
       "      <td>-4.257938</td>\n",
       "      <td>11.334051</td>\n",
       "      <td>15.265877</td>\n",
       "      <td>-4.257938</td>\n",
       "      <td>...</td>\n",
       "      <td>-4.257938</td>\n",
       "      <td>-4.257938</td>\n",
       "      <td>-4.257938</td>\n",
       "      <td>-4.257938</td>\n",
       "      <td>-4.257938</td>\n",
       "      <td>-4.257938</td>\n",
       "      <td>-4.257938</td>\n",
       "      <td>-4.257938</td>\n",
       "      <td>-4.257938</td>\n",
       "      <td>-4.257938</td>\n",
       "    </tr>\n",
       "    <tr>\n",
       "      <th>18</th>\n",
       "      <td>Thoracica</td>\n",
       "      <td>Galkinius sp. KKC-2021</td>\n",
       "      <td>SRR13580929</td>\n",
       "      <td>17.489730</td>\n",
       "      <td>16.044842</td>\n",
       "      <td>16.044842</td>\n",
       "      <td>-3.032109</td>\n",
       "      <td>-3.032109</td>\n",
       "      <td>17.262513</td>\n",
       "      <td>-3.032109</td>\n",
       "      <td>...</td>\n",
       "      <td>-3.032109</td>\n",
       "      <td>-3.032109</td>\n",
       "      <td>-3.032109</td>\n",
       "      <td>-3.032109</td>\n",
       "      <td>-3.032109</td>\n",
       "      <td>-3.032109</td>\n",
       "      <td>-3.032109</td>\n",
       "      <td>-3.032109</td>\n",
       "      <td>-3.032109</td>\n",
       "      <td>-3.032109</td>\n",
       "    </tr>\n",
       "    <tr>\n",
       "      <th>19</th>\n",
       "      <td>Thoracica</td>\n",
       "      <td>Conchoderma hunteri</td>\n",
       "      <td>SRR13557739</td>\n",
       "      <td>15.195079</td>\n",
       "      <td>13.424373</td>\n",
       "      <td>13.647516</td>\n",
       "      <td>-3.886912</td>\n",
       "      <td>12.731226</td>\n",
       "      <td>16.181213</td>\n",
       "      <td>-3.886912</td>\n",
       "      <td>...</td>\n",
       "      <td>-3.886912</td>\n",
       "      <td>-3.886912</td>\n",
       "      <td>-3.886912</td>\n",
       "      <td>-3.886912</td>\n",
       "      <td>-3.886912</td>\n",
       "      <td>-3.886912</td>\n",
       "      <td>-3.886912</td>\n",
       "      <td>-3.886912</td>\n",
       "      <td>-3.886912</td>\n",
       "      <td>-3.886912</td>\n",
       "    </tr>\n",
       "    <tr>\n",
       "      <th>20</th>\n",
       "      <td>Thoracica</td>\n",
       "      <td>Chthamalus malayensis</td>\n",
       "      <td>SRR13528008</td>\n",
       "      <td>15.351115</td>\n",
       "      <td>16.404265</td>\n",
       "      <td>14.722506</td>\n",
       "      <td>12.643065</td>\n",
       "      <td>12.643065</td>\n",
       "      <td>15.821119</td>\n",
       "      <td>12.643065</td>\n",
       "      <td>...</td>\n",
       "      <td>-3.063749</td>\n",
       "      <td>-3.063749</td>\n",
       "      <td>-3.063749</td>\n",
       "      <td>-3.063749</td>\n",
       "      <td>-3.063749</td>\n",
       "      <td>-3.063749</td>\n",
       "      <td>-3.063749</td>\n",
       "      <td>-3.063749</td>\n",
       "      <td>-3.063749</td>\n",
       "      <td>-3.063749</td>\n",
       "    </tr>\n",
       "    <tr>\n",
       "      <th>21</th>\n",
       "      <td>Thoracica</td>\n",
       "      <td>Bathylasma hirsutum</td>\n",
       "      <td>SRR23490783</td>\n",
       "      <td>15.539473</td>\n",
       "      <td>15.944938</td>\n",
       "      <td>-3.355829</td>\n",
       "      <td>-3.355829</td>\n",
       "      <td>-3.355829</td>\n",
       "      <td>16.099088</td>\n",
       "      <td>15.972337</td>\n",
       "      <td>...</td>\n",
       "      <td>-3.355829</td>\n",
       "      <td>-3.355829</td>\n",
       "      <td>-3.355829</td>\n",
       "      <td>-3.355829</td>\n",
       "      <td>-3.355829</td>\n",
       "      <td>-3.355829</td>\n",
       "      <td>-3.355829</td>\n",
       "      <td>-3.355829</td>\n",
       "      <td>-3.355829</td>\n",
       "      <td>-3.355829</td>\n",
       "    </tr>\n",
       "    <tr>\n",
       "      <th>22</th>\n",
       "      <td>Thoracica</td>\n",
       "      <td>Megabalanus ajax</td>\n",
       "      <td>SRR13164554</td>\n",
       "      <td>16.769769</td>\n",
       "      <td>16.280221</td>\n",
       "      <td>15.733677</td>\n",
       "      <td>-2.839774</td>\n",
       "      <td>-2.839774</td>\n",
       "      <td>17.626241</td>\n",
       "      <td>-2.839774</td>\n",
       "      <td>...</td>\n",
       "      <td>-2.839774</td>\n",
       "      <td>-2.839774</td>\n",
       "      <td>-2.839774</td>\n",
       "      <td>-2.839774</td>\n",
       "      <td>-2.839774</td>\n",
       "      <td>-2.839774</td>\n",
       "      <td>-2.839774</td>\n",
       "      <td>-2.839774</td>\n",
       "      <td>-2.839774</td>\n",
       "      <td>-2.839774</td>\n",
       "    </tr>\n",
       "    <tr>\n",
       "      <th>23</th>\n",
       "      <td>Thoracica</td>\n",
       "      <td>Membranobalanus longirostrum</td>\n",
       "      <td>SRR13169468</td>\n",
       "      <td>16.717639</td>\n",
       "      <td>15.950384</td>\n",
       "      <td>16.866674</td>\n",
       "      <td>-3.054459</td>\n",
       "      <td>15.090182</td>\n",
       "      <td>17.923396</td>\n",
       "      <td>12.692287</td>\n",
       "      <td>...</td>\n",
       "      <td>-3.054459</td>\n",
       "      <td>-3.054459</td>\n",
       "      <td>-3.054459</td>\n",
       "      <td>-3.054459</td>\n",
       "      <td>-3.054459</td>\n",
       "      <td>-3.054459</td>\n",
       "      <td>-3.054459</td>\n",
       "      <td>-3.054459</td>\n",
       "      <td>-3.054459</td>\n",
       "      <td>-3.054459</td>\n",
       "    </tr>\n",
       "    <tr>\n",
       "      <th>24</th>\n",
       "      <td>Thoracica</td>\n",
       "      <td>Membranobalanus longirostrum</td>\n",
       "      <td>SRR13169467</td>\n",
       "      <td>16.652894</td>\n",
       "      <td>16.195061</td>\n",
       "      <td>17.023753</td>\n",
       "      <td>-2.988415</td>\n",
       "      <td>14.958298</td>\n",
       "      <td>17.823668</td>\n",
       "      <td>-2.988415</td>\n",
       "      <td>...</td>\n",
       "      <td>-2.988415</td>\n",
       "      <td>-2.988415</td>\n",
       "      <td>-2.988415</td>\n",
       "      <td>-2.988415</td>\n",
       "      <td>-2.988415</td>\n",
       "      <td>-2.988415</td>\n",
       "      <td>-2.988415</td>\n",
       "      <td>-2.988415</td>\n",
       "      <td>-2.988415</td>\n",
       "      <td>-2.988415</td>\n",
       "    </tr>\n",
       "    <tr>\n",
       "      <th>25</th>\n",
       "      <td>Thoracica</td>\n",
       "      <td>Pectinoacasta sp. KKC-2021</td>\n",
       "      <td>SRR13523349</td>\n",
       "      <td>17.141766</td>\n",
       "      <td>15.952182</td>\n",
       "      <td>16.085713</td>\n",
       "      <td>-3.385450</td>\n",
       "      <td>-3.385450</td>\n",
       "      <td>17.373568</td>\n",
       "      <td>-3.385450</td>\n",
       "      <td>...</td>\n",
       "      <td>-3.385450</td>\n",
       "      <td>-3.385450</td>\n",
       "      <td>-3.385450</td>\n",
       "      <td>-3.385450</td>\n",
       "      <td>-3.385450</td>\n",
       "      <td>-3.385450</td>\n",
       "      <td>-3.385450</td>\n",
       "      <td>-3.385450</td>\n",
       "      <td>-3.385450</td>\n",
       "      <td>-3.385450</td>\n",
       "    </tr>\n",
       "    <tr>\n",
       "      <th>26</th>\n",
       "      <td>Thoracica</td>\n",
       "      <td>Wanella milleporae</td>\n",
       "      <td>SRR13518267</td>\n",
       "      <td>16.297280</td>\n",
       "      <td>16.990427</td>\n",
       "      <td>16.613617</td>\n",
       "      <td>-3.371439</td>\n",
       "      <td>-3.371439</td>\n",
       "      <td>18.134502</td>\n",
       "      <td>-3.371439</td>\n",
       "      <td>...</td>\n",
       "      <td>-3.371439</td>\n",
       "      <td>-3.371439</td>\n",
       "      <td>-3.371439</td>\n",
       "      <td>-3.371439</td>\n",
       "      <td>-3.371439</td>\n",
       "      <td>-3.371439</td>\n",
       "      <td>-3.371439</td>\n",
       "      <td>-3.371439</td>\n",
       "      <td>-3.371439</td>\n",
       "      <td>-3.371439</td>\n",
       "    </tr>\n",
       "    <tr>\n",
       "      <th>27</th>\n",
       "      <td>Thoracica</td>\n",
       "      <td>Pollicipes mitella</td>\n",
       "      <td>SRR14354747</td>\n",
       "      <td>14.867703</td>\n",
       "      <td>15.158900</td>\n",
       "      <td>14.486587</td>\n",
       "      <td>13.762024</td>\n",
       "      <td>9.911876</td>\n",
       "      <td>15.464836</td>\n",
       "      <td>-3.833076</td>\n",
       "      <td>...</td>\n",
       "      <td>-3.833076</td>\n",
       "      <td>-3.833076</td>\n",
       "      <td>-3.833076</td>\n",
       "      <td>-3.833076</td>\n",
       "      <td>-3.833076</td>\n",
       "      <td>-3.833076</td>\n",
       "      <td>-3.833076</td>\n",
       "      <td>-3.833076</td>\n",
       "      <td>-3.833076</td>\n",
       "      <td>-3.833076</td>\n",
       "    </tr>\n",
       "    <tr>\n",
       "      <th>28</th>\n",
       "      <td>Rhizocephala</td>\n",
       "      <td>Peltogaster reticulata Shiino, 1943</td>\n",
       "      <td>SRR17651134</td>\n",
       "      <td>14.250933</td>\n",
       "      <td>15.376944</td>\n",
       "      <td>15.527227</td>\n",
       "      <td>-3.226614</td>\n",
       "      <td>14.538615</td>\n",
       "      <td>16.809452</td>\n",
       "      <td>11.766026</td>\n",
       "      <td>...</td>\n",
       "      <td>-3.226614</td>\n",
       "      <td>-3.226614</td>\n",
       "      <td>-3.226614</td>\n",
       "      <td>-3.226614</td>\n",
       "      <td>-3.226614</td>\n",
       "      <td>-3.226614</td>\n",
       "      <td>-3.226614</td>\n",
       "      <td>-3.226614</td>\n",
       "      <td>-3.226614</td>\n",
       "      <td>-3.226614</td>\n",
       "    </tr>\n",
       "    <tr>\n",
       "      <th>29</th>\n",
       "      <td>Thoracica</td>\n",
       "      <td>Vulcanolepas sp. 1 SJK-2019</td>\n",
       "      <td>SRR23562286</td>\n",
       "      <td>15.650868</td>\n",
       "      <td>15.630248</td>\n",
       "      <td>14.957720</td>\n",
       "      <td>-3.677903</td>\n",
       "      <td>-3.677903</td>\n",
       "      <td>16.718389</td>\n",
       "      <td>-3.677903</td>\n",
       "      <td>...</td>\n",
       "      <td>-3.677903</td>\n",
       "      <td>-3.677903</td>\n",
       "      <td>-3.677903</td>\n",
       "      <td>-3.677903</td>\n",
       "      <td>-3.677903</td>\n",
       "      <td>-3.677903</td>\n",
       "      <td>-3.677903</td>\n",
       "      <td>-3.677903</td>\n",
       "      <td>-3.677903</td>\n",
       "      <td>-3.677903</td>\n",
       "    </tr>\n",
       "    <tr>\n",
       "      <th>30</th>\n",
       "      <td>Thoracica</td>\n",
       "      <td>Scalpellum stearnsi</td>\n",
       "      <td>SRR23562283</td>\n",
       "      <td>17.338366</td>\n",
       "      <td>15.369856</td>\n",
       "      <td>13.760418</td>\n",
       "      <td>-3.062113</td>\n",
       "      <td>-3.062113</td>\n",
       "      <td>-3.062113</td>\n",
       "      <td>-3.062113</td>\n",
       "      <td>...</td>\n",
       "      <td>-3.062113</td>\n",
       "      <td>-3.062113</td>\n",
       "      <td>-3.062113</td>\n",
       "      <td>-3.062113</td>\n",
       "      <td>-3.062113</td>\n",
       "      <td>-3.062113</td>\n",
       "      <td>-3.062113</td>\n",
       "      <td>-3.062113</td>\n",
       "      <td>-3.062113</td>\n",
       "      <td>-3.062113</td>\n",
       "    </tr>\n",
       "    <tr>\n",
       "      <th>31</th>\n",
       "      <td>Rhizocephala</td>\n",
       "      <td>Sacculina sinensis</td>\n",
       "      <td>SRR31412042</td>\n",
       "      <td>14.001250</td>\n",
       "      <td>-3.099201</td>\n",
       "      <td>14.620290</td>\n",
       "      <td>-3.099201</td>\n",
       "      <td>12.055340</td>\n",
       "      <td>-3.099201</td>\n",
       "      <td>12.055340</td>\n",
       "      <td>...</td>\n",
       "      <td>-3.099201</td>\n",
       "      <td>-3.099201</td>\n",
       "      <td>-3.099201</td>\n",
       "      <td>-3.099201</td>\n",
       "      <td>-3.099201</td>\n",
       "      <td>-3.099201</td>\n",
       "      <td>-3.099201</td>\n",
       "      <td>-3.099201</td>\n",
       "      <td>-3.099201</td>\n",
       "      <td>-3.099201</td>\n",
       "    </tr>\n",
       "  </tbody>\n",
       "</table>\n",
       "<p>32 rows × 1844 columns</p>\n",
       "</div>"
      ],
      "text/plain": [
       "      infraclass                              species          Run  \\\n",
       "0      Thoracica                     Megabalanus rosa    DRR277134   \n",
       "1   Rhizocephala                  Sacculina polygenea    DRR311751   \n",
       "2      Thoracica                    Balanus rostratus    DRR345795   \n",
       "3      Thoracica                  Chthamalus fragilis   SRR4113502   \n",
       "4   Rhizocephala                 Loxothylacus texanus   SRR5140130   \n",
       "5      Thoracica   Pollicipes polymerus Sowerby, 1833   SRR5140107   \n",
       "6      Thoracica         Sessilia sp. DNAS-28B-224092   SRR5140144   \n",
       "7            NaN                  Trachelipus rathkii   SRR5198727   \n",
       "8      Thoracica                Pollicipes pollicipes   SRR5832119   \n",
       "9      Thoracica    Balanus reticulatus Utinomi, 1967   SRR6327827   \n",
       "10     Thoracica              Lepas (Lepas) anatifera   SRR6818896   \n",
       "11           NaN                         white shrimp   SRR7594090   \n",
       "12     Thoracica               Neolepas sp. 1 SH-2015   SRR8486073   \n",
       "13     Thoracica                 Octolasmis warwickii  SRR10527303   \n",
       "14     Thoracica                     Poecilasma gigas  SRR10523768   \n",
       "15     Thoracica              Chelonibia testudinaria  SRR10995811   \n",
       "16  Rhizocephala     Sacculina carcini Thompson, 1836  SRR12539558   \n",
       "17     Thoracica                     Lepas anserifera  SRR13051591   \n",
       "18     Thoracica               Galkinius sp. KKC-2021  SRR13580929   \n",
       "19     Thoracica                  Conchoderma hunteri  SRR13557739   \n",
       "20     Thoracica                Chthamalus malayensis  SRR13528008   \n",
       "21     Thoracica                  Bathylasma hirsutum  SRR23490783   \n",
       "22     Thoracica                     Megabalanus ajax  SRR13164554   \n",
       "23     Thoracica         Membranobalanus longirostrum  SRR13169468   \n",
       "24     Thoracica         Membranobalanus longirostrum  SRR13169467   \n",
       "25     Thoracica           Pectinoacasta sp. KKC-2021  SRR13523349   \n",
       "26     Thoracica                   Wanella milleporae  SRR13518267   \n",
       "27     Thoracica                   Pollicipes mitella  SRR14354747   \n",
       "28  Rhizocephala  Peltogaster reticulata Shiino, 1943  SRR17651134   \n",
       "29     Thoracica          Vulcanolepas sp. 1 SJK-2019  SRR23562286   \n",
       "30     Thoracica                  Scalpellum stearnsi  SRR23562283   \n",
       "31  Rhizocephala                   Sacculina sinensis  SRR31412042   \n",
       "\n",
       "    Whispovirus  Emdodecavirus  Capripoxvirus  Elanorvirus  Immutovirus  \\\n",
       "0     15.227167      16.004013      15.194906    -3.205806    11.084033   \n",
       "1     16.747992      11.305574      14.138788    -3.275441    16.032962   \n",
       "2     16.517388      16.014284      15.154083    -2.752202    17.518362   \n",
       "3     14.915292      14.135133      16.081043    -3.864871    15.864372   \n",
       "4     15.456166      14.763019      17.941073    -2.105895    14.763019   \n",
       "5     -2.172700      17.922827      14.978388    -2.172700    18.069431   \n",
       "6     14.069813      12.529368      13.733341    -4.007227    16.131236   \n",
       "7     15.234841      10.670493      14.541694    -3.590160    16.099839   \n",
       "8     15.486868      17.149416      15.922186    -2.553385    14.475267   \n",
       "9     14.745036      14.271251      14.603385    -4.764337    11.873356   \n",
       "10    17.722501      -3.667245      17.114253    -3.667245    13.758518   \n",
       "11    15.937019      -1.483251      17.441096    -1.483251    15.243871   \n",
       "12    13.353920      12.249477      12.510490    -6.008252    14.067212   \n",
       "13    16.328215      12.358656      11.675170    -6.003482     9.669837   \n",
       "14    16.263300      12.872502      15.116508    -5.068265     8.812059   \n",
       "15    17.779533      15.311434      15.781438    -2.738442    -2.738442   \n",
       "16    -0.480603      -0.480603      -0.480603    -0.480603    -0.480603   \n",
       "17    16.371004      11.670524      14.213250    -4.257938    11.334051   \n",
       "18    17.489730      16.044842      16.044842    -3.032109    -3.032109   \n",
       "19    15.195079      13.424373      13.647516    -3.886912    12.731226   \n",
       "20    15.351115      16.404265      14.722506    12.643065    12.643065   \n",
       "21    15.539473      15.944938      -3.355829    -3.355829    -3.355829   \n",
       "22    16.769769      16.280221      15.733677    -2.839774    -2.839774   \n",
       "23    16.717639      15.950384      16.866674    -3.054459    15.090182   \n",
       "24    16.652894      16.195061      17.023753    -2.988415    14.958298   \n",
       "25    17.141766      15.952182      16.085713    -3.385450    -3.385450   \n",
       "26    16.297280      16.990427      16.613617    -3.371439    -3.371439   \n",
       "27    14.867703      15.158900      14.486587    13.762024     9.911876   \n",
       "28    14.250933      15.376944      15.527227    -3.226614    14.538615   \n",
       "29    15.650868      15.630248      14.957720    -3.677903    -3.677903   \n",
       "30    17.338366      15.369856      13.760418    -3.062113    -3.062113   \n",
       "31    14.001250      -3.099201      14.620290    -3.099201    12.055340   \n",
       "\n",
       "    Heverleevirus  Rockvillevirus  ...  Amalgavirus  Longwoodvirus  \\\n",
       "0       15.572669       -3.205806  ...    -3.205806      -3.205806   \n",
       "1       16.892823       -3.275441  ...    -3.275441      -3.275441   \n",
       "2       15.321137       13.449335  ...    -2.752202      -2.752202   \n",
       "3       14.828280       14.915292  ...    -3.864871      -3.864871   \n",
       "4       16.842460       -2.105895  ...    -2.105895      -2.105895   \n",
       "5       16.770148       -2.172700  ...    -2.172700      -2.172700   \n",
       "6       13.627980       13.627980  ...    -4.007227      -4.007227   \n",
       "7       13.155400       -3.590160  ...    -3.590160      -3.590160   \n",
       "8       18.016227       -2.553385  ...    -2.553385      -2.553385   \n",
       "9       15.942383       10.081597  ...    -4.764337      -4.764337   \n",
       "10      15.750948       -3.667245  ...    -3.667245      -3.667245   \n",
       "11      15.937019       -1.483251  ...    -1.483251      -1.483251   \n",
       "12      12.968599        9.592720  ...    -6.008252      -6.008252   \n",
       "13      13.444238       -6.003482  ...    -6.003482      -6.003482   \n",
       "14      12.549728        8.812059  ...     8.812059      12.662206   \n",
       "15      17.530637       -2.738442  ...    -2.738442      -2.738442   \n",
       "16      -0.480603       -0.480603  ...    -0.480603      -0.480603   \n",
       "17      15.265877       -4.257938  ...    -4.257938      -4.257938   \n",
       "18      17.262513       -3.032109  ...    -3.032109      -3.032109   \n",
       "19      16.181213       -3.886912  ...    -3.886912      -3.886912   \n",
       "20      15.821119       12.643065  ...    -3.063749      -3.063749   \n",
       "21      16.099088       15.972337  ...    -3.355829      -3.355829   \n",
       "22      17.626241       -2.839774  ...    -2.839774      -2.839774   \n",
       "23      17.923396       12.692287  ...    -3.054459      -3.054459   \n",
       "24      17.823668       -2.988415  ...    -2.988415      -2.988415   \n",
       "25      17.373568       -3.385450  ...    -3.385450      -3.385450   \n",
       "26      18.134502       -3.371439  ...    -3.371439      -3.371439   \n",
       "27      15.464836       -3.833076  ...    -3.833076      -3.833076   \n",
       "28      16.809452       11.766026  ...    -3.226614      -3.226614   \n",
       "29      16.718389       -3.677903  ...    -3.677903      -3.677903   \n",
       "30      -3.062113       -3.062113  ...    -3.062113      -3.062113   \n",
       "31      -3.099201       12.055340  ...    -3.099201      -3.099201   \n",
       "\n",
       "    Corgivirus  Foetvirus  Faunusvirus  Metaavulavirus  Duonihilunusvirus  \\\n",
       "0    -3.205806  -3.205806    -3.205806       -3.205806          -3.205806   \n",
       "1    -3.275441  -3.275441    -3.275441       -3.275441          -3.275441   \n",
       "2    -2.752202  -2.752202    -2.752202       -2.752202          -2.752202   \n",
       "3    -3.864871  -3.864871    -3.864871       -3.864871          -3.864871   \n",
       "4    -2.105895  -2.105895    -2.105895       -2.105895          -2.105895   \n",
       "5    -2.172700  -2.172700    -2.172700       -2.172700          -2.172700   \n",
       "6    -4.007227  -4.007227    -4.007227       -4.007227          -4.007227   \n",
       "7    -3.590160  -3.590160    -3.590160       -3.590160          -3.590160   \n",
       "8    -2.553385  -2.553385    -2.553385       -2.553385          -2.553385   \n",
       "9    -4.764337  -4.764337    -4.764337       -4.764337          -4.764337   \n",
       "10   -3.667245  -3.667245    -3.667245       -3.667245          -3.667245   \n",
       "11   -1.483251  -1.483251    -1.483251       -1.483251          -1.483251   \n",
       "12   -6.008252  -6.008252    -6.008252       -6.008252          -6.008252   \n",
       "13   -6.003482  -6.003482    -6.003482       -6.003482          -6.003482   \n",
       "14    8.812059   8.812059    10.757969       11.584647           8.812059   \n",
       "15   -2.738442  -2.738442    -2.738442       -2.738442          -2.738442   \n",
       "16   -0.480603  -0.480603    -0.480603       -0.480603          -0.480603   \n",
       "17   -4.257938  -4.257938    -4.257938       -4.257938          -4.257938   \n",
       "18   -3.032109  -3.032109    -3.032109       -3.032109          -3.032109   \n",
       "19   -3.886912  -3.886912    -3.886912       -3.886912          -3.886912   \n",
       "20   -3.063749  -3.063749    -3.063749       -3.063749          -3.063749   \n",
       "21   -3.355829  -3.355829    -3.355829       -3.355829          -3.355829   \n",
       "22   -2.839774  -2.839774    -2.839774       -2.839774          -2.839774   \n",
       "23   -3.054459  -3.054459    -3.054459       -3.054459          -3.054459   \n",
       "24   -2.988415  -2.988415    -2.988415       -2.988415          -2.988415   \n",
       "25   -3.385450  -3.385450    -3.385450       -3.385450          -3.385450   \n",
       "26   -3.371439  -3.371439    -3.371439       -3.371439          -3.371439   \n",
       "27   -3.833076  -3.833076    -3.833076       -3.833076          -3.833076   \n",
       "28   -3.226614  -3.226614    -3.226614       -3.226614          -3.226614   \n",
       "29   -3.677903  -3.677903    -3.677903       -3.677903          -3.677903   \n",
       "30   -3.062113  -3.062113    -3.062113       -3.062113          -3.062113   \n",
       "31   -3.099201  -3.099201    -3.099201       -3.099201          -3.099201   \n",
       "\n",
       "    Sholavirus  Babuvirus  Felispumavirus  \n",
       "0    -3.205806  -3.205806       -3.205806  \n",
       "1    -3.275441  -3.275441       -3.275441  \n",
       "2    -2.752202  -2.752202       -2.752202  \n",
       "3    -3.864871  -3.864871       -3.864871  \n",
       "4    -2.105895  -2.105895       -2.105895  \n",
       "5    -2.172700  -2.172700       -2.172700  \n",
       "6    -4.007227  -4.007227       -4.007227  \n",
       "7    -3.590160  -3.590160       -3.590160  \n",
       "8    -2.553385  -2.553385       -2.553385  \n",
       "9    -4.764337  -4.764337       -4.764337  \n",
       "10   -3.667245  -3.667245       -3.667245  \n",
       "11   -1.483251  -1.483251       -1.483251  \n",
       "12   -6.008252  -6.008252       -6.008252  \n",
       "13   -6.003482  -6.003482       -6.003482  \n",
       "14   10.757969   8.812059        8.812059  \n",
       "15   -2.738442  -2.738442       -2.738442  \n",
       "16   -0.480603  -0.480603       -0.480603  \n",
       "17   -4.257938  -4.257938       -4.257938  \n",
       "18   -3.032109  -3.032109       -3.032109  \n",
       "19   -3.886912  -3.886912       -3.886912  \n",
       "20   -3.063749  -3.063749       -3.063749  \n",
       "21   -3.355829  -3.355829       -3.355829  \n",
       "22   -2.839774  -2.839774       -2.839774  \n",
       "23   -3.054459  -3.054459       -3.054459  \n",
       "24   -2.988415  -2.988415       -2.988415  \n",
       "25   -3.385450  -3.385450       -3.385450  \n",
       "26   -3.371439  -3.371439       -3.371439  \n",
       "27   -3.833076  -3.833076       -3.833076  \n",
       "28   -3.226614  -3.226614       -3.226614  \n",
       "29   -3.677903  -3.677903       -3.677903  \n",
       "30   -3.062113  -3.062113       -3.062113  \n",
       "31   -3.099201  -3.099201       -3.099201  \n",
       "\n",
       "[32 rows x 1844 columns]"
      ]
     },
     "execution_count": 482,
     "metadata": {},
     "output_type": "execute_result"
    }
   ],
   "source": [
    "import numpy as np\n",
    "from skbio.stats.composition import clr\n",
    "\n",
    "viromeDF_relative_clr = clr(virome_relative_pseudocount[ViralGenus])\n",
    "viromeDF_relative_clr = pd.DataFrame(viromeDF_relative_clr, columns=ViralGenus)\n",
    "viromeDF_relative_clr.insert(0, 'Run', list(viromeDF.set_index('Run').index)) # makes sure that runs are added\n",
    "viromeDF_relative_clr.insert(0, 'species', list(viromeDF.set_index('species').index)) # makes sure that runs are added\n",
    "viromeDF_relative_clr.insert(0, 'infraclass', list(viromeDF.set_index('infraclass').index)) # makes sure that runs are added\n",
    "\n",
    "viromeDF_relative_clr\n",
    "\n"
   ]
  },
  {
   "cell_type": "code",
   "execution_count": 483,
   "id": "e1eb9c2f",
   "metadata": {},
   "outputs": [],
   "source": [
    "import numpy as np\n",
    "from sklearn.decomposition import PCA\n",
    "\n",
    "pca = PCA(n_components=2)\n",
    "components = pca.fit_transform(viromeDF_relative_clr[ViralGenus])\n",
    "\n",
    "labels = {\n",
    "    str(i): f\"PC {i+1} ({var:.1f}%)\"\n",
    "    for i, var in enumerate(pca.explained_variance_ratio_ * 100)\n",
    "}\n"
   ]
  },
  {
   "cell_type": "code",
   "execution_count": 484,
   "id": "68e1a25f",
   "metadata": {},
   "outputs": [
    {
     "data": {
      "application/vnd.plotly.v1+json": {
       "config": {
        "plotlyServerURL": "https://plot.ly"
       },
       "data": [
        {
         "diagonal": {
          "visible": false
         },
         "dimensions": [
          {
           "axis": {
            "matches": true
           },
           "label": "PC 1 (6.9%)",
           "values": {
            "bdata": "JSuU/L8eHkDduegQok4pwFFKGAhrHjLAmCkHG5QTTMANzhMFglBAwNlf3kI7KhrAR3Q4FrFMLcDkgICJ4Zc5QGKQgb9e11xAcH21j1TfXkDfVdhCz5pRQM2R23H1EwdAId/j77VfMEBcll0SKJRDQGKa8dCe2kpAAFt8z8CHOEDXExdguBxlwEQIP+SftjBAeuJsCRu2N0DMl1Lca+83QELIxioK90ZAag9oHFNtQkDcnZXiCDtEQFP2bcoVWC1A/4QSySUQMcA=",
            "dtype": "f8"
           }
          },
          {
           "axis": {
            "matches": true
           },
           "label": "PC 2 (6.2%)",
           "values": {
            "bdata": "F8oG+scqMcAHLr3VLA1KwCECDmDdt/Y/sw6dVGWMRcCRjA8EHC1NwOpkHTWuzEXARahJXhl6X0A1xtQJKbk7wEnh1icw71ZA+OJ8g9lUVUCcL0ZWHtdLQFWOcoyRljTA1Vaa6sFhOECI9P7an49FwJpcVRVWWjNA95S02dxHOMBqcqGrgT9iQBR27hz1EivAcQGlN900T8A/J8tmGcVPwG0rQoN1HzbAD5X7zH6hQsD7xHt8yYo1wL4WMNz1vlFAchKDsSk/JkA=",
            "dtype": "f8"
           }
          }
         ],
         "hovertemplate": "color=Thoracica<br>%{xaxis.title.text}=%{x}<br>%{yaxis.title.text}=%{y}<extra></extra>",
         "legendgroup": "Thoracica",
         "marker": {
          "color": "#636efa",
          "symbol": "circle"
         },
         "name": "Thoracica",
         "showlegend": true,
         "type": "splom"
        },
        {
         "diagonal": {
          "visible": false
         },
         "dimensions": [
          {
           "axis": {
            "matches": true
           },
           "label": "PC 1 (6.9%)",
           "values": {
            "bdata": "Kdz+WPUyHsDj6XLKFIpOwBwRWNZOelPA6ZJtfAx6QcBIVjEA1NdRwA==",
            "dtype": "f8"
           }
          },
          {
           "axis": {
            "matches": true
           },
           "label": "PC 2 (6.2%)",
           "values": {
            "bdata": "83kcjJ1UN8Dywn+ok29FwM3hoX98GR7ACf4OpTmAFUC/dMEyDIUzwA==",
            "dtype": "f8"
           }
          }
         ],
         "hovertemplate": "color=Rhizocephala<br>%{xaxis.title.text}=%{x}<br>%{yaxis.title.text}=%{y}<extra></extra>",
         "legendgroup": "Rhizocephala",
         "marker": {
          "color": "#EF553B",
          "symbol": "circle"
         },
         "name": "Rhizocephala",
         "showlegend": true,
         "type": "splom"
        }
       ],
       "layout": {
        "dragmode": "select",
        "legend": {
         "title": {
          "text": "color"
         },
         "tracegroupgap": 0
        },
        "margin": {
         "t": 60
        },
        "template": {
         "data": {
          "bar": [
           {
            "error_x": {
             "color": "#2a3f5f"
            },
            "error_y": {
             "color": "#2a3f5f"
            },
            "marker": {
             "line": {
              "color": "#E5ECF6",
              "width": 0.5
             },
             "pattern": {
              "fillmode": "overlay",
              "size": 10,
              "solidity": 0.2
             }
            },
            "type": "bar"
           }
          ],
          "barpolar": [
           {
            "marker": {
             "line": {
              "color": "#E5ECF6",
              "width": 0.5
             },
             "pattern": {
              "fillmode": "overlay",
              "size": 10,
              "solidity": 0.2
             }
            },
            "type": "barpolar"
           }
          ],
          "carpet": [
           {
            "aaxis": {
             "endlinecolor": "#2a3f5f",
             "gridcolor": "white",
             "linecolor": "white",
             "minorgridcolor": "white",
             "startlinecolor": "#2a3f5f"
            },
            "baxis": {
             "endlinecolor": "#2a3f5f",
             "gridcolor": "white",
             "linecolor": "white",
             "minorgridcolor": "white",
             "startlinecolor": "#2a3f5f"
            },
            "type": "carpet"
           }
          ],
          "choropleth": [
           {
            "colorbar": {
             "outlinewidth": 0,
             "ticks": ""
            },
            "type": "choropleth"
           }
          ],
          "contour": [
           {
            "colorbar": {
             "outlinewidth": 0,
             "ticks": ""
            },
            "colorscale": [
             [
              0,
              "#0d0887"
             ],
             [
              0.1111111111111111,
              "#46039f"
             ],
             [
              0.2222222222222222,
              "#7201a8"
             ],
             [
              0.3333333333333333,
              "#9c179e"
             ],
             [
              0.4444444444444444,
              "#bd3786"
             ],
             [
              0.5555555555555556,
              "#d8576b"
             ],
             [
              0.6666666666666666,
              "#ed7953"
             ],
             [
              0.7777777777777778,
              "#fb9f3a"
             ],
             [
              0.8888888888888888,
              "#fdca26"
             ],
             [
              1,
              "#f0f921"
             ]
            ],
            "type": "contour"
           }
          ],
          "contourcarpet": [
           {
            "colorbar": {
             "outlinewidth": 0,
             "ticks": ""
            },
            "type": "contourcarpet"
           }
          ],
          "heatmap": [
           {
            "colorbar": {
             "outlinewidth": 0,
             "ticks": ""
            },
            "colorscale": [
             [
              0,
              "#0d0887"
             ],
             [
              0.1111111111111111,
              "#46039f"
             ],
             [
              0.2222222222222222,
              "#7201a8"
             ],
             [
              0.3333333333333333,
              "#9c179e"
             ],
             [
              0.4444444444444444,
              "#bd3786"
             ],
             [
              0.5555555555555556,
              "#d8576b"
             ],
             [
              0.6666666666666666,
              "#ed7953"
             ],
             [
              0.7777777777777778,
              "#fb9f3a"
             ],
             [
              0.8888888888888888,
              "#fdca26"
             ],
             [
              1,
              "#f0f921"
             ]
            ],
            "type": "heatmap"
           }
          ],
          "histogram": [
           {
            "marker": {
             "pattern": {
              "fillmode": "overlay",
              "size": 10,
              "solidity": 0.2
             }
            },
            "type": "histogram"
           }
          ],
          "histogram2d": [
           {
            "colorbar": {
             "outlinewidth": 0,
             "ticks": ""
            },
            "colorscale": [
             [
              0,
              "#0d0887"
             ],
             [
              0.1111111111111111,
              "#46039f"
             ],
             [
              0.2222222222222222,
              "#7201a8"
             ],
             [
              0.3333333333333333,
              "#9c179e"
             ],
             [
              0.4444444444444444,
              "#bd3786"
             ],
             [
              0.5555555555555556,
              "#d8576b"
             ],
             [
              0.6666666666666666,
              "#ed7953"
             ],
             [
              0.7777777777777778,
              "#fb9f3a"
             ],
             [
              0.8888888888888888,
              "#fdca26"
             ],
             [
              1,
              "#f0f921"
             ]
            ],
            "type": "histogram2d"
           }
          ],
          "histogram2dcontour": [
           {
            "colorbar": {
             "outlinewidth": 0,
             "ticks": ""
            },
            "colorscale": [
             [
              0,
              "#0d0887"
             ],
             [
              0.1111111111111111,
              "#46039f"
             ],
             [
              0.2222222222222222,
              "#7201a8"
             ],
             [
              0.3333333333333333,
              "#9c179e"
             ],
             [
              0.4444444444444444,
              "#bd3786"
             ],
             [
              0.5555555555555556,
              "#d8576b"
             ],
             [
              0.6666666666666666,
              "#ed7953"
             ],
             [
              0.7777777777777778,
              "#fb9f3a"
             ],
             [
              0.8888888888888888,
              "#fdca26"
             ],
             [
              1,
              "#f0f921"
             ]
            ],
            "type": "histogram2dcontour"
           }
          ],
          "mesh3d": [
           {
            "colorbar": {
             "outlinewidth": 0,
             "ticks": ""
            },
            "type": "mesh3d"
           }
          ],
          "parcoords": [
           {
            "line": {
             "colorbar": {
              "outlinewidth": 0,
              "ticks": ""
             }
            },
            "type": "parcoords"
           }
          ],
          "pie": [
           {
            "automargin": true,
            "type": "pie"
           }
          ],
          "scatter": [
           {
            "fillpattern": {
             "fillmode": "overlay",
             "size": 10,
             "solidity": 0.2
            },
            "type": "scatter"
           }
          ],
          "scatter3d": [
           {
            "line": {
             "colorbar": {
              "outlinewidth": 0,
              "ticks": ""
             }
            },
            "marker": {
             "colorbar": {
              "outlinewidth": 0,
              "ticks": ""
             }
            },
            "type": "scatter3d"
           }
          ],
          "scattercarpet": [
           {
            "marker": {
             "colorbar": {
              "outlinewidth": 0,
              "ticks": ""
             }
            },
            "type": "scattercarpet"
           }
          ],
          "scattergeo": [
           {
            "marker": {
             "colorbar": {
              "outlinewidth": 0,
              "ticks": ""
             }
            },
            "type": "scattergeo"
           }
          ],
          "scattergl": [
           {
            "marker": {
             "colorbar": {
              "outlinewidth": 0,
              "ticks": ""
             }
            },
            "type": "scattergl"
           }
          ],
          "scattermap": [
           {
            "marker": {
             "colorbar": {
              "outlinewidth": 0,
              "ticks": ""
             }
            },
            "type": "scattermap"
           }
          ],
          "scattermapbox": [
           {
            "marker": {
             "colorbar": {
              "outlinewidth": 0,
              "ticks": ""
             }
            },
            "type": "scattermapbox"
           }
          ],
          "scatterpolar": [
           {
            "marker": {
             "colorbar": {
              "outlinewidth": 0,
              "ticks": ""
             }
            },
            "type": "scatterpolar"
           }
          ],
          "scatterpolargl": [
           {
            "marker": {
             "colorbar": {
              "outlinewidth": 0,
              "ticks": ""
             }
            },
            "type": "scatterpolargl"
           }
          ],
          "scatterternary": [
           {
            "marker": {
             "colorbar": {
              "outlinewidth": 0,
              "ticks": ""
             }
            },
            "type": "scatterternary"
           }
          ],
          "surface": [
           {
            "colorbar": {
             "outlinewidth": 0,
             "ticks": ""
            },
            "colorscale": [
             [
              0,
              "#0d0887"
             ],
             [
              0.1111111111111111,
              "#46039f"
             ],
             [
              0.2222222222222222,
              "#7201a8"
             ],
             [
              0.3333333333333333,
              "#9c179e"
             ],
             [
              0.4444444444444444,
              "#bd3786"
             ],
             [
              0.5555555555555556,
              "#d8576b"
             ],
             [
              0.6666666666666666,
              "#ed7953"
             ],
             [
              0.7777777777777778,
              "#fb9f3a"
             ],
             [
              0.8888888888888888,
              "#fdca26"
             ],
             [
              1,
              "#f0f921"
             ]
            ],
            "type": "surface"
           }
          ],
          "table": [
           {
            "cells": {
             "fill": {
              "color": "#EBF0F8"
             },
             "line": {
              "color": "white"
             }
            },
            "header": {
             "fill": {
              "color": "#C8D4E3"
             },
             "line": {
              "color": "white"
             }
            },
            "type": "table"
           }
          ]
         },
         "layout": {
          "annotationdefaults": {
           "arrowcolor": "#2a3f5f",
           "arrowhead": 0,
           "arrowwidth": 1
          },
          "autotypenumbers": "strict",
          "coloraxis": {
           "colorbar": {
            "outlinewidth": 0,
            "ticks": ""
           }
          },
          "colorscale": {
           "diverging": [
            [
             0,
             "#8e0152"
            ],
            [
             0.1,
             "#c51b7d"
            ],
            [
             0.2,
             "#de77ae"
            ],
            [
             0.3,
             "#f1b6da"
            ],
            [
             0.4,
             "#fde0ef"
            ],
            [
             0.5,
             "#f7f7f7"
            ],
            [
             0.6,
             "#e6f5d0"
            ],
            [
             0.7,
             "#b8e186"
            ],
            [
             0.8,
             "#7fbc41"
            ],
            [
             0.9,
             "#4d9221"
            ],
            [
             1,
             "#276419"
            ]
           ],
           "sequential": [
            [
             0,
             "#0d0887"
            ],
            [
             0.1111111111111111,
             "#46039f"
            ],
            [
             0.2222222222222222,
             "#7201a8"
            ],
            [
             0.3333333333333333,
             "#9c179e"
            ],
            [
             0.4444444444444444,
             "#bd3786"
            ],
            [
             0.5555555555555556,
             "#d8576b"
            ],
            [
             0.6666666666666666,
             "#ed7953"
            ],
            [
             0.7777777777777778,
             "#fb9f3a"
            ],
            [
             0.8888888888888888,
             "#fdca26"
            ],
            [
             1,
             "#f0f921"
            ]
           ],
           "sequentialminus": [
            [
             0,
             "#0d0887"
            ],
            [
             0.1111111111111111,
             "#46039f"
            ],
            [
             0.2222222222222222,
             "#7201a8"
            ],
            [
             0.3333333333333333,
             "#9c179e"
            ],
            [
             0.4444444444444444,
             "#bd3786"
            ],
            [
             0.5555555555555556,
             "#d8576b"
            ],
            [
             0.6666666666666666,
             "#ed7953"
            ],
            [
             0.7777777777777778,
             "#fb9f3a"
            ],
            [
             0.8888888888888888,
             "#fdca26"
            ],
            [
             1,
             "#f0f921"
            ]
           ]
          },
          "colorway": [
           "#636efa",
           "#EF553B",
           "#00cc96",
           "#ab63fa",
           "#FFA15A",
           "#19d3f3",
           "#FF6692",
           "#B6E880",
           "#FF97FF",
           "#FECB52"
          ],
          "font": {
           "color": "#2a3f5f"
          },
          "geo": {
           "bgcolor": "white",
           "lakecolor": "white",
           "landcolor": "#E5ECF6",
           "showlakes": true,
           "showland": true,
           "subunitcolor": "white"
          },
          "hoverlabel": {
           "align": "left"
          },
          "hovermode": "closest",
          "mapbox": {
           "style": "light"
          },
          "paper_bgcolor": "white",
          "plot_bgcolor": "#E5ECF6",
          "polar": {
           "angularaxis": {
            "gridcolor": "white",
            "linecolor": "white",
            "ticks": ""
           },
           "bgcolor": "#E5ECF6",
           "radialaxis": {
            "gridcolor": "white",
            "linecolor": "white",
            "ticks": ""
           }
          },
          "scene": {
           "xaxis": {
            "backgroundcolor": "#E5ECF6",
            "gridcolor": "white",
            "gridwidth": 2,
            "linecolor": "white",
            "showbackground": true,
            "ticks": "",
            "zerolinecolor": "white"
           },
           "yaxis": {
            "backgroundcolor": "#E5ECF6",
            "gridcolor": "white",
            "gridwidth": 2,
            "linecolor": "white",
            "showbackground": true,
            "ticks": "",
            "zerolinecolor": "white"
           },
           "zaxis": {
            "backgroundcolor": "#E5ECF6",
            "gridcolor": "white",
            "gridwidth": 2,
            "linecolor": "white",
            "showbackground": true,
            "ticks": "",
            "zerolinecolor": "white"
           }
          },
          "shapedefaults": {
           "line": {
            "color": "#2a3f5f"
           }
          },
          "ternary": {
           "aaxis": {
            "gridcolor": "white",
            "linecolor": "white",
            "ticks": ""
           },
           "baxis": {
            "gridcolor": "white",
            "linecolor": "white",
            "ticks": ""
           },
           "bgcolor": "#E5ECF6",
           "caxis": {
            "gridcolor": "white",
            "linecolor": "white",
            "ticks": ""
           }
          },
          "title": {
           "x": 0.05
          },
          "xaxis": {
           "automargin": true,
           "gridcolor": "white",
           "linecolor": "white",
           "ticks": "",
           "title": {
            "standoff": 15
           },
           "zerolinecolor": "white",
           "zerolinewidth": 2
          },
          "yaxis": {
           "automargin": true,
           "gridcolor": "white",
           "linecolor": "white",
           "ticks": "",
           "title": {
            "standoff": 15
           },
           "zerolinecolor": "white",
           "zerolinewidth": 2
          }
         }
        }
       }
      }
     },
     "metadata": {},
     "output_type": "display_data"
    }
   ],
   "source": [
    "import plotly.express as px\n",
    "\n",
    "\n",
    "fig = px.scatter_matrix(\n",
    "    components,\n",
    "    labels=labels,\n",
    "    dimensions=range(2),\n",
    "    color=viromeDF_relative_clr[\"infraclass\"]\n",
    ")\n",
    "fig.update_traces(diagonal_visible=False)\n",
    "fig.show()"
   ]
  },
  {
   "cell_type": "code",
   "execution_count": 485,
   "id": "d36b73f8",
   "metadata": {},
   "outputs": [],
   "source": [
    "import numpy as np\n",
    "from scipy.spatial import distance_matrix\n",
    "from scipy.cluster.hierarchy import linkage, dendrogram\n",
    "\n",
    "\n",
    "df = viromeDF_relative_clr[ViralGenus + ['species']].set_index('species')\n",
    "dist_mat = pdist(df.values)\n",
    "Z = linkage(dist_mat, method='complete', optimal_ordering=False)\n"
   ]
  },
  {
   "cell_type": "code",
   "execution_count": 486,
   "id": "d59f49a8",
   "metadata": {},
   "outputs": [
    {
     "data": {
      "image/png": "[encoded data removed]",
      "text/plain": [
       "<Figure size 2000x500 with 1 Axes>"
      ]
     },
     "metadata": {},
     "output_type": "display_data"
    }
   ],
   "source": [
    "plt.figure(figsize=(20, 5))\n",
    "dendrogram(Z, labels=df.index.tolist(), leaf_font_size=10, leaf_rotation=90)\n",
    "plt.title('Hierarchical Cluster Dendrogram')\n",
    "plt.xlabel('Data Point Indexes')\n",
    "plt.ylabel('Distance')\n",
    "plt.show()"
   ]
  },
  {
   "cell_type": "code",
   "execution_count": 487,
   "id": "61ec59f4",
   "metadata": {},
   "outputs": [
    {
     "data": {
      "text/plain": [
       "<skbio.stats.distance._base.DistanceMatrix at 0x7f3cb2247140>"
      ]
     },
     "execution_count": 487,
     "metadata": {},
     "output_type": "execute_result"
    }
   ],
   "source": [
    "from skbio.stats.distance import permanova\n",
    "\n",
    "from skbio.stats.distance import DistanceMatrix, DissimilarityMatrix\n",
    "\n",
    "dist_mat = DistanceMatrix(dist_mat)\n",
    "\n",
    "dist_mat"
   ]
  },
  {
   "cell_type": "code",
   "execution_count": 488,
   "id": "dd75664d",
   "metadata": {},
   "outputs": [
    {
     "data": {
      "text/plain": [
       "method name               PERMANOVA\n",
       "test statistic name        pseudo-F\n",
       "sample size                      32\n",
       "number of groups                  3\n",
       "test statistic             1.052156\n",
       "p-value                       0.289\n",
       "number of permutations          999\n",
       "Name: PERMANOVA results, dtype: object"
      ]
     },
     "execution_count": 488,
     "metadata": {},
     "output_type": "execute_result"
    }
   ],
   "source": [
    "permanova(dist_mat, list(viromeDF_relative_clr[\"infraclass\"])) ## permanova test on frequency data"
   ]
  },
  {
   "cell_type": "code",
   "execution_count": 489,
   "id": "0b010e78",
   "metadata": {},
   "outputs": [
    {
     "data": {
      "text/plain": [
       "method name               PERMANOVA\n",
       "test statistic name        pseudo-F\n",
       "sample size                      32\n",
       "number of groups                  3\n",
       "test statistic             1.071929\n",
       "p-value                       0.273\n",
       "number of permutations          999\n",
       "Name: PERMANOVA results, dtype: object"
      ]
     },
     "execution_count": 489,
     "metadata": {},
     "output_type": "execute_result"
    }
   ],
   "source": [
    "viromeDF_presence =(viromeDF_relative > 0).astype(int)\n",
    "dist_mat = pdist(viromeDF_presence.values)\n",
    "dist_mat1 = DistanceMatrix(dist_mat)\n",
    "permanova(dist_mat1, list(viromeDF_relative_clr[\"infraclass\"])) ## permanova test on frequency data"
   ]
  },
  {
   "cell_type": "code",
   "execution_count": 490,
   "id": "0c29ceb3",
   "metadata": {},
   "outputs": [
    {
     "data": {
      "text/plain": [
       "method name               PERMANOVA\n",
       "test statistic name        pseudo-F\n",
       "sample size                      32\n",
       "number of groups                  3\n",
       "test statistic             1.071929\n",
       "p-value                       0.264\n",
       "number of permutations          999\n",
       "Name: PERMANOVA results, dtype: object"
      ]
     },
     "execution_count": 490,
     "metadata": {},
     "output_type": "execute_result"
    }
   ],
   "source": [
    "## test permanova with dissimilarity distance matrix\n",
    "\n",
    "diss_mat = DissimilarityMatrix(dist_mat)\n",
    "diss_mat1 = DistanceMatrix(diss_mat)\n",
    "permanova(diss_mat1, list(viromeDF_relative_clr[\"infraclass\"])) ## permanova test on frequency data"
   ]
  },
  {
   "cell_type": "code",
   "execution_count": 491,
   "id": "b3f6986f",
   "metadata": {},
   "outputs": [
    {
     "data": {
      "image/png": "[encoded data removed]",
      "text/plain": [
       "<Figure size 2000x500 with 1 Axes>"
      ]
     },
     "metadata": {},
     "output_type": "display_data"
    }
   ],
   "source": [
    "Z = linkage(dist_mat, method='complete', optimal_ordering=False)\n",
    "plt.figure(figsize=(20, 5))\n",
    "dendrogram(Z, labels=df.index.tolist(), leaf_font_size=10, leaf_rotation=90)\n",
    "plt.title('Hierarchical Cluster Dendrogram')\n",
    "plt.xlabel('Data Point Indexes')\n",
    "plt.ylabel('Distance')\n",
    "plt.show()"
   ]
  },
  {
   "cell_type": "code",
   "execution_count": 492,
   "id": "4f095586",
   "metadata": {},
   "outputs": [],
   "source": [
    "viromeDF_presence.insert(0, 'infraclass', viromeDF_relative_clr[\"infraclass\"])"
   ]
  },
  {
   "cell_type": "code",
   "execution_count": 493,
   "id": "03467d61",
   "metadata": {},
   "outputs": [
    {
     "data": {
      "text/html": [
       "<div>\n",
       "<style scoped>\n",
       "    .dataframe tbody tr th:only-of-type {\n",
       "        vertical-align: middle;\n",
       "    }\n",
       "\n",
       "    .dataframe tbody tr th {\n",
       "        vertical-align: top;\n",
       "    }\n",
       "\n",
       "    .dataframe thead th {\n",
       "        text-align: right;\n",
       "    }\n",
       "</style>\n",
       "<table border=\"1\" class=\"dataframe\">\n",
       "  <thead>\n",
       "    <tr style=\"text-align: right;\">\n",
       "      <th></th>\n",
       "      <th>infraclass</th>\n",
       "      <th>Whispovirus</th>\n",
       "      <th>Emdodecavirus</th>\n",
       "      <th>Capripoxvirus</th>\n",
       "      <th>Elanorvirus</th>\n",
       "      <th>Immutovirus</th>\n",
       "      <th>Heverleevirus</th>\n",
       "      <th>Rockvillevirus</th>\n",
       "      <th>Soymovirus</th>\n",
       "      <th>Phaeovirus</th>\n",
       "      <th>...</th>\n",
       "      <th>Longwoodvirus</th>\n",
       "      <th>Corgivirus</th>\n",
       "      <th>Foetvirus</th>\n",
       "      <th>Faunusvirus</th>\n",
       "      <th>Metaavulavirus</th>\n",
       "      <th>Duonihilunusvirus</th>\n",
       "      <th>Sholavirus</th>\n",
       "      <th>Babuvirus</th>\n",
       "      <th>Felispumavirus</th>\n",
       "      <th>total_viral_reads</th>\n",
       "    </tr>\n",
       "  </thead>\n",
       "  <tbody>\n",
       "    <tr>\n",
       "      <th>1</th>\n",
       "      <td>Rhizocephala</td>\n",
       "      <td>1</td>\n",
       "      <td>1</td>\n",
       "      <td>1</td>\n",
       "      <td>0</td>\n",
       "      <td>1</td>\n",
       "      <td>1</td>\n",
       "      <td>0</td>\n",
       "      <td>1</td>\n",
       "      <td>1</td>\n",
       "      <td>...</td>\n",
       "      <td>0</td>\n",
       "      <td>0</td>\n",
       "      <td>0</td>\n",
       "      <td>0</td>\n",
       "      <td>0</td>\n",
       "      <td>0</td>\n",
       "      <td>0</td>\n",
       "      <td>0</td>\n",
       "      <td>0</td>\n",
       "      <td>1</td>\n",
       "    </tr>\n",
       "    <tr>\n",
       "      <th>2</th>\n",
       "      <td>Thoracica</td>\n",
       "      <td>1</td>\n",
       "      <td>1</td>\n",
       "      <td>1</td>\n",
       "      <td>0</td>\n",
       "      <td>1</td>\n",
       "      <td>1</td>\n",
       "      <td>0</td>\n",
       "      <td>0</td>\n",
       "      <td>1</td>\n",
       "      <td>...</td>\n",
       "      <td>0</td>\n",
       "      <td>0</td>\n",
       "      <td>0</td>\n",
       "      <td>0</td>\n",
       "      <td>0</td>\n",
       "      <td>0</td>\n",
       "      <td>0</td>\n",
       "      <td>0</td>\n",
       "      <td>0</td>\n",
       "      <td>1</td>\n",
       "    </tr>\n",
       "    <tr>\n",
       "      <th>3</th>\n",
       "      <td>Thoracica</td>\n",
       "      <td>1</td>\n",
       "      <td>1</td>\n",
       "      <td>1</td>\n",
       "      <td>0</td>\n",
       "      <td>1</td>\n",
       "      <td>1</td>\n",
       "      <td>1</td>\n",
       "      <td>0</td>\n",
       "      <td>1</td>\n",
       "      <td>...</td>\n",
       "      <td>0</td>\n",
       "      <td>0</td>\n",
       "      <td>0</td>\n",
       "      <td>0</td>\n",
       "      <td>0</td>\n",
       "      <td>0</td>\n",
       "      <td>0</td>\n",
       "      <td>0</td>\n",
       "      <td>0</td>\n",
       "      <td>1</td>\n",
       "    </tr>\n",
       "    <tr>\n",
       "      <th>6</th>\n",
       "      <td>Thoracica</td>\n",
       "      <td>1</td>\n",
       "      <td>1</td>\n",
       "      <td>1</td>\n",
       "      <td>0</td>\n",
       "      <td>1</td>\n",
       "      <td>1</td>\n",
       "      <td>1</td>\n",
       "      <td>1</td>\n",
       "      <td>1</td>\n",
       "      <td>...</td>\n",
       "      <td>0</td>\n",
       "      <td>0</td>\n",
       "      <td>0</td>\n",
       "      <td>0</td>\n",
       "      <td>0</td>\n",
       "      <td>0</td>\n",
       "      <td>0</td>\n",
       "      <td>0</td>\n",
       "      <td>0</td>\n",
       "      <td>1</td>\n",
       "    </tr>\n",
       "    <tr>\n",
       "      <th>7</th>\n",
       "      <td>NaN</td>\n",
       "      <td>1</td>\n",
       "      <td>1</td>\n",
       "      <td>1</td>\n",
       "      <td>0</td>\n",
       "      <td>1</td>\n",
       "      <td>1</td>\n",
       "      <td>0</td>\n",
       "      <td>0</td>\n",
       "      <td>1</td>\n",
       "      <td>...</td>\n",
       "      <td>0</td>\n",
       "      <td>0</td>\n",
       "      <td>0</td>\n",
       "      <td>0</td>\n",
       "      <td>0</td>\n",
       "      <td>0</td>\n",
       "      <td>0</td>\n",
       "      <td>0</td>\n",
       "      <td>0</td>\n",
       "      <td>1</td>\n",
       "    </tr>\n",
       "    <tr>\n",
       "      <th>8</th>\n",
       "      <td>Thoracica</td>\n",
       "      <td>0</td>\n",
       "      <td>1</td>\n",
       "      <td>1</td>\n",
       "      <td>0</td>\n",
       "      <td>1</td>\n",
       "      <td>1</td>\n",
       "      <td>0</td>\n",
       "      <td>0</td>\n",
       "      <td>1</td>\n",
       "      <td>...</td>\n",
       "      <td>0</td>\n",
       "      <td>0</td>\n",
       "      <td>0</td>\n",
       "      <td>0</td>\n",
       "      <td>0</td>\n",
       "      <td>0</td>\n",
       "      <td>0</td>\n",
       "      <td>0</td>\n",
       "      <td>0</td>\n",
       "      <td>1</td>\n",
       "    </tr>\n",
       "    <tr>\n",
       "      <th>9</th>\n",
       "      <td>Thoracica</td>\n",
       "      <td>1</td>\n",
       "      <td>1</td>\n",
       "      <td>1</td>\n",
       "      <td>0</td>\n",
       "      <td>1</td>\n",
       "      <td>1</td>\n",
       "      <td>1</td>\n",
       "      <td>0</td>\n",
       "      <td>1</td>\n",
       "      <td>...</td>\n",
       "      <td>0</td>\n",
       "      <td>0</td>\n",
       "      <td>0</td>\n",
       "      <td>0</td>\n",
       "      <td>0</td>\n",
       "      <td>0</td>\n",
       "      <td>0</td>\n",
       "      <td>0</td>\n",
       "      <td>0</td>\n",
       "      <td>1</td>\n",
       "    </tr>\n",
       "    <tr>\n",
       "      <th>10</th>\n",
       "      <td>Thoracica</td>\n",
       "      <td>1</td>\n",
       "      <td>1</td>\n",
       "      <td>1</td>\n",
       "      <td>0</td>\n",
       "      <td>1</td>\n",
       "      <td>1</td>\n",
       "      <td>0</td>\n",
       "      <td>0</td>\n",
       "      <td>1</td>\n",
       "      <td>...</td>\n",
       "      <td>0</td>\n",
       "      <td>0</td>\n",
       "      <td>0</td>\n",
       "      <td>0</td>\n",
       "      <td>0</td>\n",
       "      <td>0</td>\n",
       "      <td>0</td>\n",
       "      <td>0</td>\n",
       "      <td>0</td>\n",
       "      <td>1</td>\n",
       "    </tr>\n",
       "    <tr>\n",
       "      <th>11</th>\n",
       "      <td>NaN</td>\n",
       "      <td>1</td>\n",
       "      <td>1</td>\n",
       "      <td>1</td>\n",
       "      <td>0</td>\n",
       "      <td>1</td>\n",
       "      <td>1</td>\n",
       "      <td>0</td>\n",
       "      <td>0</td>\n",
       "      <td>1</td>\n",
       "      <td>...</td>\n",
       "      <td>0</td>\n",
       "      <td>0</td>\n",
       "      <td>0</td>\n",
       "      <td>0</td>\n",
       "      <td>0</td>\n",
       "      <td>0</td>\n",
       "      <td>0</td>\n",
       "      <td>0</td>\n",
       "      <td>0</td>\n",
       "      <td>1</td>\n",
       "    </tr>\n",
       "    <tr>\n",
       "      <th>12</th>\n",
       "      <td>Thoracica</td>\n",
       "      <td>1</td>\n",
       "      <td>1</td>\n",
       "      <td>1</td>\n",
       "      <td>0</td>\n",
       "      <td>1</td>\n",
       "      <td>1</td>\n",
       "      <td>1</td>\n",
       "      <td>1</td>\n",
       "      <td>1</td>\n",
       "      <td>...</td>\n",
       "      <td>0</td>\n",
       "      <td>0</td>\n",
       "      <td>0</td>\n",
       "      <td>0</td>\n",
       "      <td>0</td>\n",
       "      <td>0</td>\n",
       "      <td>0</td>\n",
       "      <td>0</td>\n",
       "      <td>0</td>\n",
       "      <td>1</td>\n",
       "    </tr>\n",
       "    <tr>\n",
       "      <th>14</th>\n",
       "      <td>Thoracica</td>\n",
       "      <td>1</td>\n",
       "      <td>0</td>\n",
       "      <td>1</td>\n",
       "      <td>0</td>\n",
       "      <td>1</td>\n",
       "      <td>1</td>\n",
       "      <td>0</td>\n",
       "      <td>1</td>\n",
       "      <td>1</td>\n",
       "      <td>...</td>\n",
       "      <td>0</td>\n",
       "      <td>0</td>\n",
       "      <td>0</td>\n",
       "      <td>0</td>\n",
       "      <td>0</td>\n",
       "      <td>0</td>\n",
       "      <td>0</td>\n",
       "      <td>0</td>\n",
       "      <td>0</td>\n",
       "      <td>1</td>\n",
       "    </tr>\n",
       "    <tr>\n",
       "      <th>15</th>\n",
       "      <td>Thoracica</td>\n",
       "      <td>1</td>\n",
       "      <td>0</td>\n",
       "      <td>1</td>\n",
       "      <td>0</td>\n",
       "      <td>1</td>\n",
       "      <td>1</td>\n",
       "      <td>0</td>\n",
       "      <td>0</td>\n",
       "      <td>1</td>\n",
       "      <td>...</td>\n",
       "      <td>0</td>\n",
       "      <td>0</td>\n",
       "      <td>0</td>\n",
       "      <td>0</td>\n",
       "      <td>0</td>\n",
       "      <td>0</td>\n",
       "      <td>0</td>\n",
       "      <td>0</td>\n",
       "      <td>0</td>\n",
       "      <td>1</td>\n",
       "    </tr>\n",
       "    <tr>\n",
       "      <th>16</th>\n",
       "      <td>Rhizocephala</td>\n",
       "      <td>1</td>\n",
       "      <td>1</td>\n",
       "      <td>1</td>\n",
       "      <td>0</td>\n",
       "      <td>1</td>\n",
       "      <td>1</td>\n",
       "      <td>1</td>\n",
       "      <td>0</td>\n",
       "      <td>1</td>\n",
       "      <td>...</td>\n",
       "      <td>0</td>\n",
       "      <td>0</td>\n",
       "      <td>0</td>\n",
       "      <td>0</td>\n",
       "      <td>0</td>\n",
       "      <td>0</td>\n",
       "      <td>0</td>\n",
       "      <td>0</td>\n",
       "      <td>0</td>\n",
       "      <td>1</td>\n",
       "    </tr>\n",
       "    <tr>\n",
       "      <th>18</th>\n",
       "      <td>Thoracica</td>\n",
       "      <td>1</td>\n",
       "      <td>1</td>\n",
       "      <td>1</td>\n",
       "      <td>0</td>\n",
       "      <td>1</td>\n",
       "      <td>1</td>\n",
       "      <td>0</td>\n",
       "      <td>1</td>\n",
       "      <td>1</td>\n",
       "      <td>...</td>\n",
       "      <td>0</td>\n",
       "      <td>0</td>\n",
       "      <td>0</td>\n",
       "      <td>0</td>\n",
       "      <td>0</td>\n",
       "      <td>0</td>\n",
       "      <td>0</td>\n",
       "      <td>0</td>\n",
       "      <td>0</td>\n",
       "      <td>1</td>\n",
       "    </tr>\n",
       "    <tr>\n",
       "      <th>19</th>\n",
       "      <td>Thoracica</td>\n",
       "      <td>1</td>\n",
       "      <td>1</td>\n",
       "      <td>1</td>\n",
       "      <td>0</td>\n",
       "      <td>1</td>\n",
       "      <td>1</td>\n",
       "      <td>1</td>\n",
       "      <td>1</td>\n",
       "      <td>1</td>\n",
       "      <td>...</td>\n",
       "      <td>1</td>\n",
       "      <td>1</td>\n",
       "      <td>1</td>\n",
       "      <td>1</td>\n",
       "      <td>1</td>\n",
       "      <td>1</td>\n",
       "      <td>1</td>\n",
       "      <td>1</td>\n",
       "      <td>1</td>\n",
       "      <td>1</td>\n",
       "    </tr>\n",
       "    <tr>\n",
       "      <th>20</th>\n",
       "      <td>Thoracica</td>\n",
       "      <td>1</td>\n",
       "      <td>1</td>\n",
       "      <td>1</td>\n",
       "      <td>0</td>\n",
       "      <td>0</td>\n",
       "      <td>1</td>\n",
       "      <td>0</td>\n",
       "      <td>1</td>\n",
       "      <td>1</td>\n",
       "      <td>...</td>\n",
       "      <td>0</td>\n",
       "      <td>0</td>\n",
       "      <td>0</td>\n",
       "      <td>0</td>\n",
       "      <td>0</td>\n",
       "      <td>0</td>\n",
       "      <td>0</td>\n",
       "      <td>0</td>\n",
       "      <td>0</td>\n",
       "      <td>1</td>\n",
       "    </tr>\n",
       "    <tr>\n",
       "      <th>21</th>\n",
       "      <td>Thoracica</td>\n",
       "      <td>0</td>\n",
       "      <td>0</td>\n",
       "      <td>0</td>\n",
       "      <td>0</td>\n",
       "      <td>0</td>\n",
       "      <td>0</td>\n",
       "      <td>0</td>\n",
       "      <td>0</td>\n",
       "      <td>0</td>\n",
       "      <td>...</td>\n",
       "      <td>0</td>\n",
       "      <td>0</td>\n",
       "      <td>0</td>\n",
       "      <td>0</td>\n",
       "      <td>0</td>\n",
       "      <td>0</td>\n",
       "      <td>0</td>\n",
       "      <td>0</td>\n",
       "      <td>0</td>\n",
       "      <td>1</td>\n",
       "    </tr>\n",
       "    <tr>\n",
       "      <th>22</th>\n",
       "      <td>Thoracica</td>\n",
       "      <td>1</td>\n",
       "      <td>1</td>\n",
       "      <td>1</td>\n",
       "      <td>0</td>\n",
       "      <td>1</td>\n",
       "      <td>1</td>\n",
       "      <td>0</td>\n",
       "      <td>1</td>\n",
       "      <td>1</td>\n",
       "      <td>...</td>\n",
       "      <td>0</td>\n",
       "      <td>0</td>\n",
       "      <td>0</td>\n",
       "      <td>0</td>\n",
       "      <td>0</td>\n",
       "      <td>0</td>\n",
       "      <td>0</td>\n",
       "      <td>0</td>\n",
       "      <td>0</td>\n",
       "      <td>1</td>\n",
       "    </tr>\n",
       "    <tr>\n",
       "      <th>23</th>\n",
       "      <td>Thoracica</td>\n",
       "      <td>1</td>\n",
       "      <td>1</td>\n",
       "      <td>1</td>\n",
       "      <td>0</td>\n",
       "      <td>0</td>\n",
       "      <td>1</td>\n",
       "      <td>0</td>\n",
       "      <td>0</td>\n",
       "      <td>1</td>\n",
       "      <td>...</td>\n",
       "      <td>0</td>\n",
       "      <td>0</td>\n",
       "      <td>0</td>\n",
       "      <td>0</td>\n",
       "      <td>0</td>\n",
       "      <td>0</td>\n",
       "      <td>0</td>\n",
       "      <td>0</td>\n",
       "      <td>0</td>\n",
       "      <td>1</td>\n",
       "    </tr>\n",
       "    <tr>\n",
       "      <th>24</th>\n",
       "      <td>Thoracica</td>\n",
       "      <td>1</td>\n",
       "      <td>1</td>\n",
       "      <td>1</td>\n",
       "      <td>0</td>\n",
       "      <td>1</td>\n",
       "      <td>1</td>\n",
       "      <td>0</td>\n",
       "      <td>0</td>\n",
       "      <td>1</td>\n",
       "      <td>...</td>\n",
       "      <td>0</td>\n",
       "      <td>0</td>\n",
       "      <td>0</td>\n",
       "      <td>0</td>\n",
       "      <td>0</td>\n",
       "      <td>0</td>\n",
       "      <td>0</td>\n",
       "      <td>0</td>\n",
       "      <td>0</td>\n",
       "      <td>1</td>\n",
       "    </tr>\n",
       "    <tr>\n",
       "      <th>25</th>\n",
       "      <td>Thoracica</td>\n",
       "      <td>1</td>\n",
       "      <td>1</td>\n",
       "      <td>1</td>\n",
       "      <td>1</td>\n",
       "      <td>1</td>\n",
       "      <td>1</td>\n",
       "      <td>1</td>\n",
       "      <td>1</td>\n",
       "      <td>1</td>\n",
       "      <td>...</td>\n",
       "      <td>0</td>\n",
       "      <td>0</td>\n",
       "      <td>0</td>\n",
       "      <td>0</td>\n",
       "      <td>0</td>\n",
       "      <td>0</td>\n",
       "      <td>0</td>\n",
       "      <td>0</td>\n",
       "      <td>0</td>\n",
       "      <td>1</td>\n",
       "    </tr>\n",
       "    <tr>\n",
       "      <th>27</th>\n",
       "      <td>Thoracica</td>\n",
       "      <td>1</td>\n",
       "      <td>1</td>\n",
       "      <td>0</td>\n",
       "      <td>0</td>\n",
       "      <td>0</td>\n",
       "      <td>1</td>\n",
       "      <td>1</td>\n",
       "      <td>0</td>\n",
       "      <td>1</td>\n",
       "      <td>...</td>\n",
       "      <td>0</td>\n",
       "      <td>0</td>\n",
       "      <td>0</td>\n",
       "      <td>0</td>\n",
       "      <td>0</td>\n",
       "      <td>0</td>\n",
       "      <td>0</td>\n",
       "      <td>0</td>\n",
       "      <td>0</td>\n",
       "      <td>1</td>\n",
       "    </tr>\n",
       "    <tr>\n",
       "      <th>28</th>\n",
       "      <td>Rhizocephala</td>\n",
       "      <td>1</td>\n",
       "      <td>1</td>\n",
       "      <td>1</td>\n",
       "      <td>0</td>\n",
       "      <td>0</td>\n",
       "      <td>1</td>\n",
       "      <td>0</td>\n",
       "      <td>1</td>\n",
       "      <td>1</td>\n",
       "      <td>...</td>\n",
       "      <td>0</td>\n",
       "      <td>0</td>\n",
       "      <td>0</td>\n",
       "      <td>0</td>\n",
       "      <td>0</td>\n",
       "      <td>0</td>\n",
       "      <td>0</td>\n",
       "      <td>0</td>\n",
       "      <td>0</td>\n",
       "      <td>1</td>\n",
       "    </tr>\n",
       "    <tr>\n",
       "      <th>29</th>\n",
       "      <td>Thoracica</td>\n",
       "      <td>1</td>\n",
       "      <td>1</td>\n",
       "      <td>1</td>\n",
       "      <td>0</td>\n",
       "      <td>1</td>\n",
       "      <td>1</td>\n",
       "      <td>1</td>\n",
       "      <td>0</td>\n",
       "      <td>1</td>\n",
       "      <td>...</td>\n",
       "      <td>0</td>\n",
       "      <td>0</td>\n",
       "      <td>0</td>\n",
       "      <td>0</td>\n",
       "      <td>0</td>\n",
       "      <td>0</td>\n",
       "      <td>0</td>\n",
       "      <td>0</td>\n",
       "      <td>0</td>\n",
       "      <td>1</td>\n",
       "    </tr>\n",
       "    <tr>\n",
       "      <th>30</th>\n",
       "      <td>Thoracica</td>\n",
       "      <td>1</td>\n",
       "      <td>1</td>\n",
       "      <td>1</td>\n",
       "      <td>0</td>\n",
       "      <td>1</td>\n",
       "      <td>1</td>\n",
       "      <td>0</td>\n",
       "      <td>1</td>\n",
       "      <td>1</td>\n",
       "      <td>...</td>\n",
       "      <td>0</td>\n",
       "      <td>0</td>\n",
       "      <td>0</td>\n",
       "      <td>0</td>\n",
       "      <td>0</td>\n",
       "      <td>0</td>\n",
       "      <td>0</td>\n",
       "      <td>0</td>\n",
       "      <td>0</td>\n",
       "      <td>1</td>\n",
       "    </tr>\n",
       "    <tr>\n",
       "      <th>31</th>\n",
       "      <td>Rhizocephala</td>\n",
       "      <td>1</td>\n",
       "      <td>1</td>\n",
       "      <td>1</td>\n",
       "      <td>0</td>\n",
       "      <td>0</td>\n",
       "      <td>1</td>\n",
       "      <td>0</td>\n",
       "      <td>0</td>\n",
       "      <td>1</td>\n",
       "      <td>...</td>\n",
       "      <td>0</td>\n",
       "      <td>0</td>\n",
       "      <td>0</td>\n",
       "      <td>0</td>\n",
       "      <td>0</td>\n",
       "      <td>0</td>\n",
       "      <td>0</td>\n",
       "      <td>0</td>\n",
       "      <td>0</td>\n",
       "      <td>1</td>\n",
       "    </tr>\n",
       "    <tr>\n",
       "      <th>32</th>\n",
       "      <td>NaN</td>\n",
       "      <td>1</td>\n",
       "      <td>1</td>\n",
       "      <td>1</td>\n",
       "      <td>0</td>\n",
       "      <td>0</td>\n",
       "      <td>1</td>\n",
       "      <td>0</td>\n",
       "      <td>1</td>\n",
       "      <td>1</td>\n",
       "      <td>...</td>\n",
       "      <td>0</td>\n",
       "      <td>0</td>\n",
       "      <td>0</td>\n",
       "      <td>0</td>\n",
       "      <td>0</td>\n",
       "      <td>0</td>\n",
       "      <td>0</td>\n",
       "      <td>0</td>\n",
       "      <td>0</td>\n",
       "      <td>1</td>\n",
       "    </tr>\n",
       "    <tr>\n",
       "      <th>33</th>\n",
       "      <td>NaN</td>\n",
       "      <td>1</td>\n",
       "      <td>1</td>\n",
       "      <td>1</td>\n",
       "      <td>1</td>\n",
       "      <td>1</td>\n",
       "      <td>1</td>\n",
       "      <td>0</td>\n",
       "      <td>0</td>\n",
       "      <td>1</td>\n",
       "      <td>...</td>\n",
       "      <td>0</td>\n",
       "      <td>0</td>\n",
       "      <td>0</td>\n",
       "      <td>0</td>\n",
       "      <td>0</td>\n",
       "      <td>0</td>\n",
       "      <td>0</td>\n",
       "      <td>0</td>\n",
       "      <td>0</td>\n",
       "      <td>1</td>\n",
       "    </tr>\n",
       "    <tr>\n",
       "      <th>36</th>\n",
       "      <td>NaN</td>\n",
       "      <td>1</td>\n",
       "      <td>1</td>\n",
       "      <td>1</td>\n",
       "      <td>0</td>\n",
       "      <td>1</td>\n",
       "      <td>1</td>\n",
       "      <td>1</td>\n",
       "      <td>1</td>\n",
       "      <td>1</td>\n",
       "      <td>...</td>\n",
       "      <td>0</td>\n",
       "      <td>0</td>\n",
       "      <td>0</td>\n",
       "      <td>0</td>\n",
       "      <td>0</td>\n",
       "      <td>0</td>\n",
       "      <td>0</td>\n",
       "      <td>0</td>\n",
       "      <td>0</td>\n",
       "      <td>1</td>\n",
       "    </tr>\n",
       "    <tr>\n",
       "      <th>37</th>\n",
       "      <td>NaN</td>\n",
       "      <td>1</td>\n",
       "      <td>1</td>\n",
       "      <td>1</td>\n",
       "      <td>0</td>\n",
       "      <td>0</td>\n",
       "      <td>1</td>\n",
       "      <td>0</td>\n",
       "      <td>1</td>\n",
       "      <td>1</td>\n",
       "      <td>...</td>\n",
       "      <td>0</td>\n",
       "      <td>0</td>\n",
       "      <td>0</td>\n",
       "      <td>0</td>\n",
       "      <td>0</td>\n",
       "      <td>0</td>\n",
       "      <td>0</td>\n",
       "      <td>0</td>\n",
       "      <td>0</td>\n",
       "      <td>1</td>\n",
       "    </tr>\n",
       "    <tr>\n",
       "      <th>38</th>\n",
       "      <td>NaN</td>\n",
       "      <td>1</td>\n",
       "      <td>1</td>\n",
       "      <td>1</td>\n",
       "      <td>0</td>\n",
       "      <td>0</td>\n",
       "      <td>0</td>\n",
       "      <td>0</td>\n",
       "      <td>0</td>\n",
       "      <td>1</td>\n",
       "      <td>...</td>\n",
       "      <td>0</td>\n",
       "      <td>0</td>\n",
       "      <td>0</td>\n",
       "      <td>0</td>\n",
       "      <td>0</td>\n",
       "      <td>0</td>\n",
       "      <td>0</td>\n",
       "      <td>0</td>\n",
       "      <td>0</td>\n",
       "      <td>1</td>\n",
       "    </tr>\n",
       "    <tr>\n",
       "      <th>40</th>\n",
       "      <td>NaN</td>\n",
       "      <td>1</td>\n",
       "      <td>0</td>\n",
       "      <td>1</td>\n",
       "      <td>0</td>\n",
       "      <td>1</td>\n",
       "      <td>0</td>\n",
       "      <td>1</td>\n",
       "      <td>1</td>\n",
       "      <td>1</td>\n",
       "      <td>...</td>\n",
       "      <td>0</td>\n",
       "      <td>0</td>\n",
       "      <td>0</td>\n",
       "      <td>0</td>\n",
       "      <td>0</td>\n",
       "      <td>0</td>\n",
       "      <td>0</td>\n",
       "      <td>0</td>\n",
       "      <td>0</td>\n",
       "      <td>1</td>\n",
       "    </tr>\n",
       "  </tbody>\n",
       "</table>\n",
       "<p>32 rows × 1843 columns</p>\n",
       "</div>"
      ],
      "text/plain": [
       "      infraclass  Whispovirus  Emdodecavirus  Capripoxvirus  Elanorvirus  \\\n",
       "1   Rhizocephala            1              1              1            0   \n",
       "2      Thoracica            1              1              1            0   \n",
       "3      Thoracica            1              1              1            0   \n",
       "6      Thoracica            1              1              1            0   \n",
       "7            NaN            1              1              1            0   \n",
       "8      Thoracica            0              1              1            0   \n",
       "9      Thoracica            1              1              1            0   \n",
       "10     Thoracica            1              1              1            0   \n",
       "11           NaN            1              1              1            0   \n",
       "12     Thoracica            1              1              1            0   \n",
       "14     Thoracica            1              0              1            0   \n",
       "15     Thoracica            1              0              1            0   \n",
       "16  Rhizocephala            1              1              1            0   \n",
       "18     Thoracica            1              1              1            0   \n",
       "19     Thoracica            1              1              1            0   \n",
       "20     Thoracica            1              1              1            0   \n",
       "21     Thoracica            0              0              0            0   \n",
       "22     Thoracica            1              1              1            0   \n",
       "23     Thoracica            1              1              1            0   \n",
       "24     Thoracica            1              1              1            0   \n",
       "25     Thoracica            1              1              1            1   \n",
       "27     Thoracica            1              1              0            0   \n",
       "28  Rhizocephala            1              1              1            0   \n",
       "29     Thoracica            1              1              1            0   \n",
       "30     Thoracica            1              1              1            0   \n",
       "31  Rhizocephala            1              1              1            0   \n",
       "32           NaN            1              1              1            0   \n",
       "33           NaN            1              1              1            1   \n",
       "36           NaN            1              1              1            0   \n",
       "37           NaN            1              1              1            0   \n",
       "38           NaN            1              1              1            0   \n",
       "40           NaN            1              0              1            0   \n",
       "\n",
       "    Immutovirus  Heverleevirus  Rockvillevirus  Soymovirus  Phaeovirus  ...  \\\n",
       "1             1              1               0           1           1  ...   \n",
       "2             1              1               0           0           1  ...   \n",
       "3             1              1               1           0           1  ...   \n",
       "6             1              1               1           1           1  ...   \n",
       "7             1              1               0           0           1  ...   \n",
       "8             1              1               0           0           1  ...   \n",
       "9             1              1               1           0           1  ...   \n",
       "10            1              1               0           0           1  ...   \n",
       "11            1              1               0           0           1  ...   \n",
       "12            1              1               1           1           1  ...   \n",
       "14            1              1               0           1           1  ...   \n",
       "15            1              1               0           0           1  ...   \n",
       "16            1              1               1           0           1  ...   \n",
       "18            1              1               0           1           1  ...   \n",
       "19            1              1               1           1           1  ...   \n",
       "20            0              1               0           1           1  ...   \n",
       "21            0              0               0           0           0  ...   \n",
       "22            1              1               0           1           1  ...   \n",
       "23            0              1               0           0           1  ...   \n",
       "24            1              1               0           0           1  ...   \n",
       "25            1              1               1           1           1  ...   \n",
       "27            0              1               1           0           1  ...   \n",
       "28            0              1               0           1           1  ...   \n",
       "29            1              1               1           0           1  ...   \n",
       "30            1              1               0           1           1  ...   \n",
       "31            0              1               0           0           1  ...   \n",
       "32            0              1               0           1           1  ...   \n",
       "33            1              1               0           0           1  ...   \n",
       "36            1              1               1           1           1  ...   \n",
       "37            0              1               0           1           1  ...   \n",
       "38            0              0               0           0           1  ...   \n",
       "40            1              0               1           1           1  ...   \n",
       "\n",
       "    Longwoodvirus  Corgivirus  Foetvirus  Faunusvirus  Metaavulavirus  \\\n",
       "1               0           0          0            0               0   \n",
       "2               0           0          0            0               0   \n",
       "3               0           0          0            0               0   \n",
       "6               0           0          0            0               0   \n",
       "7               0           0          0            0               0   \n",
       "8               0           0          0            0               0   \n",
       "9               0           0          0            0               0   \n",
       "10              0           0          0            0               0   \n",
       "11              0           0          0            0               0   \n",
       "12              0           0          0            0               0   \n",
       "14              0           0          0            0               0   \n",
       "15              0           0          0            0               0   \n",
       "16              0           0          0            0               0   \n",
       "18              0           0          0            0               0   \n",
       "19              1           1          1            1               1   \n",
       "20              0           0          0            0               0   \n",
       "21              0           0          0            0               0   \n",
       "22              0           0          0            0               0   \n",
       "23              0           0          0            0               0   \n",
       "24              0           0          0            0               0   \n",
       "25              0           0          0            0               0   \n",
       "27              0           0          0            0               0   \n",
       "28              0           0          0            0               0   \n",
       "29              0           0          0            0               0   \n",
       "30              0           0          0            0               0   \n",
       "31              0           0          0            0               0   \n",
       "32              0           0          0            0               0   \n",
       "33              0           0          0            0               0   \n",
       "36              0           0          0            0               0   \n",
       "37              0           0          0            0               0   \n",
       "38              0           0          0            0               0   \n",
       "40              0           0          0            0               0   \n",
       "\n",
       "    Duonihilunusvirus  Sholavirus  Babuvirus  Felispumavirus  \\\n",
       "1                   0           0          0               0   \n",
       "2                   0           0          0               0   \n",
       "3                   0           0          0               0   \n",
       "6                   0           0          0               0   \n",
       "7                   0           0          0               0   \n",
       "8                   0           0          0               0   \n",
       "9                   0           0          0               0   \n",
       "10                  0           0          0               0   \n",
       "11                  0           0          0               0   \n",
       "12                  0           0          0               0   \n",
       "14                  0           0          0               0   \n",
       "15                  0           0          0               0   \n",
       "16                  0           0          0               0   \n",
       "18                  0           0          0               0   \n",
       "19                  1           1          1               1   \n",
       "20                  0           0          0               0   \n",
       "21                  0           0          0               0   \n",
       "22                  0           0          0               0   \n",
       "23                  0           0          0               0   \n",
       "24                  0           0          0               0   \n",
       "25                  0           0          0               0   \n",
       "27                  0           0          0               0   \n",
       "28                  0           0          0               0   \n",
       "29                  0           0          0               0   \n",
       "30                  0           0          0               0   \n",
       "31                  0           0          0               0   \n",
       "32                  0           0          0               0   \n",
       "33                  0           0          0               0   \n",
       "36                  0           0          0               0   \n",
       "37                  0           0          0               0   \n",
       "38                  0           0          0               0   \n",
       "40                  0           0          0               0   \n",
       "\n",
       "    total_viral_reads  \n",
       "1                   1  \n",
       "2                   1  \n",
       "3                   1  \n",
       "6                   1  \n",
       "7                   1  \n",
       "8                   1  \n",
       "9                   1  \n",
       "10                  1  \n",
       "11                  1  \n",
       "12                  1  \n",
       "14                  1  \n",
       "15                  1  \n",
       "16                  1  \n",
       "18                  1  \n",
       "19                  1  \n",
       "20                  1  \n",
       "21                  1  \n",
       "22                  1  \n",
       "23                  1  \n",
       "24                  1  \n",
       "25                  1  \n",
       "27                  1  \n",
       "28                  1  \n",
       "29                  1  \n",
       "30                  1  \n",
       "31                  1  \n",
       "32                  1  \n",
       "33                  1  \n",
       "36                  1  \n",
       "37                  1  \n",
       "38                  1  \n",
       "40                  1  \n",
       "\n",
       "[32 rows x 1843 columns]"
      ]
     },
     "execution_count": 493,
     "metadata": {},
     "output_type": "execute_result"
    }
   ],
   "source": [
    "viromeDF_presence"
   ]
  }
 ],
 "metadata": {
  "kernelspec": {
   "display_name": "base",
   "language": "python",
   "name": "python3"
  },
  "language_info": {
   "codemirror_mode": {
    "name": "ipython",
    "version": 3
   },
   "file_extension": ".py",
   "mimetype": "text/x-python",
   "name": "python",
   "nbconvert_exporter": "python",
   "pygments_lexer": "ipython3",
   "version": "3.12.11"
  }
 },
 "nbformat": 4,
 "nbformat_minor": 5
}
